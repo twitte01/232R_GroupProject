{
 "cells": [
  {
   "cell_type": "markdown",
   "metadata": {},
   "source": [
    "# Model 2\n",
    "### Project: Exploring Trends in US Happiness with Census Data\n",
    "Team Members: Taylor Witte, Donald Yu, Praveen Manimaran, Vitush Agarwal, Parker Aman\n",
    "\n",
    "UCSD Spring 2024 232R Big Data Analytics Using Spark \n"
   ]
  },
  {
   "cell_type": "markdown",
   "metadata": {},
   "source": [
    "## Enviroment Setup"
   ]
  },
  {
   "cell_type": "code",
   "execution_count": 1,
   "metadata": {},
   "outputs": [],
   "source": [
    "import numpy as np\n",
    "import pandas as pd\n",
    "import seaborn as sns\n",
    "import matplotlib.pyplot as plt\n",
    "import warnings\n",
    "import logging\n",
    "from pyspark.sql import SparkSession\n",
    "import pyspark.sql.functions as F\n",
    "from pyspark.sql.functions import col, element_at, udf\n",
    "from pyspark.sql.functions import explode\n",
    "from pyspark_dist_explore import Histogram, hist, distplot, pandas_histogram\n",
    "from pyspark.sql import Row\n",
    "from pyspark.sql.functions import sum as spark_sum\n",
    "from pyspark.sql.functions import when\n",
    "from pyspark.ml.feature import MinMaxScaler, VectorAssembler\n",
    "from pyspark.ml import Pipeline\n",
    "from sklearn.model_selection import train_test_split\n",
    "from pyspark.ml.functions import vector_to_array\n",
    "from pyspark.ml.feature import VectorAssembler, MinMaxScaler, PCA, PCAModel\n",
    "from pyspark.sql.types import ArrayType, DoubleType, NumericType\n",
    "from pyspark.ml.linalg import Vectors\n",
    "from pyspark.ml.clustering import KMeans\n",
    "from pyspark.ml.evaluation import ClusteringEvaluator\n",
    "import pylab as pl\n",
    "from pyspark.ml.classification import LogisticRegression\n",
    "from pyspark.ml.evaluation import BinaryClassificationEvaluator, MulticlassClassificationEvaluator\n",
    "from pyspark.ml.tuning import CrossValidator, ParamGridBuilder"
   ]
  },
  {
   "cell_type": "markdown",
   "metadata": {},
   "source": [
    "## Import Datasets"
   ]
  },
  {
   "cell_type": "markdown",
   "metadata": {},
   "source": [
    "### Import World Happiness Data"
   ]
  },
  {
   "cell_type": "code",
   "execution_count": 2,
   "metadata": {},
   "outputs": [],
   "source": [
    "# Import necessary modules\n",
    "from pyspark.sql import SparkSession\n",
    "\n",
    "# Create a SparkSession object\n",
    "spark = SparkSession.builder \\\n",
    "    .appName(\"BigDataGroupProject\") \\\n",
    "    .config(\"spark.some.config.option\", \"some-value\") \\\n",
    "    .config(\"spark.executor.memory\", \"64g\") \\\n",
    "    .config(\"spark.driver.memory\", \"64g\") \\\n",
    "    .config(\"spark.memory.fraction\", \"0.8\") \\\n",
    "    .config(\"spark.memory.storageFraction\", \"0.3\") \\\n",
    "    .getOrCreate()\n",
    "\n",
    "sc = spark.sparkContext\n",
    "sc.setLogLevel(\"ERROR\")"
   ]
  },
  {
   "cell_type": "code",
   "execution_count": 3,
   "metadata": {},
   "outputs": [],
   "source": [
    "#World Happiness Data\n",
    "world_happiness = pd.read_csv(\"World Happiness Report.csv\")\n",
    "\n",
    "# Filter for USA & years of cencus data\n",
    "US_happiness =  world_happiness.loc[world_happiness['Country Name'] == 'United States']\n",
    "US_happiness = US_happiness[US_happiness.Year >= 2012]\n",
    "US_happiness = US_happiness[US_happiness.Year != 2020]\n"
   ]
  },
  {
   "cell_type": "code",
   "execution_count": 4,
   "metadata": {},
   "outputs": [
    {
     "data": {
      "text/html": [
       "<div>\n",
       "<style scoped>\n",
       "    .dataframe tbody tr th:only-of-type {\n",
       "        vertical-align: middle;\n",
       "    }\n",
       "\n",
       "    .dataframe tbody tr th {\n",
       "        vertical-align: top;\n",
       "    }\n",
       "\n",
       "    .dataframe thead th {\n",
       "        text-align: right;\n",
       "    }\n",
       "</style>\n",
       "<table border=\"1\" class=\"dataframe\">\n",
       "  <thead>\n",
       "    <tr style=\"text-align: right;\">\n",
       "      <th></th>\n",
       "      <th>Country Name</th>\n",
       "      <th>Year</th>\n",
       "      <th>Happiness_Index</th>\n",
       "      <th>Happiness_Rank</th>\n",
       "    </tr>\n",
       "  </thead>\n",
       "  <tbody>\n",
       "    <tr>\n",
       "      <th>1444</th>\n",
       "      <td>United States</td>\n",
       "      <td>2013</td>\n",
       "      <td>7.082</td>\n",
       "      <td>17</td>\n",
       "    </tr>\n",
       "    <tr>\n",
       "      <th>1445</th>\n",
       "      <td>United States</td>\n",
       "      <td>2015</td>\n",
       "      <td>7.119</td>\n",
       "      <td>15</td>\n",
       "    </tr>\n",
       "    <tr>\n",
       "      <th>1446</th>\n",
       "      <td>United States</td>\n",
       "      <td>2016</td>\n",
       "      <td>7.104</td>\n",
       "      <td>13</td>\n",
       "    </tr>\n",
       "    <tr>\n",
       "      <th>1447</th>\n",
       "      <td>United States</td>\n",
       "      <td>2017</td>\n",
       "      <td>6.993</td>\n",
       "      <td>14</td>\n",
       "    </tr>\n",
       "    <tr>\n",
       "      <th>1448</th>\n",
       "      <td>United States</td>\n",
       "      <td>2018</td>\n",
       "      <td>6.886</td>\n",
       "      <td>18</td>\n",
       "    </tr>\n",
       "    <tr>\n",
       "      <th>1449</th>\n",
       "      <td>United States</td>\n",
       "      <td>2019</td>\n",
       "      <td>6.892</td>\n",
       "      <td>19</td>\n",
       "    </tr>\n",
       "    <tr>\n",
       "      <th>1451</th>\n",
       "      <td>United States</td>\n",
       "      <td>2021</td>\n",
       "      <td>6.951</td>\n",
       "      <td>19</td>\n",
       "    </tr>\n",
       "    <tr>\n",
       "      <th>1452</th>\n",
       "      <td>United States</td>\n",
       "      <td>2022</td>\n",
       "      <td>6.977</td>\n",
       "      <td>16</td>\n",
       "    </tr>\n",
       "    <tr>\n",
       "      <th>1523</th>\n",
       "      <td>United States</td>\n",
       "      <td>2012</td>\n",
       "      <td>7.270</td>\n",
       "      <td>6</td>\n",
       "    </tr>\n",
       "  </tbody>\n",
       "</table>\n",
       "</div>"
      ],
      "text/plain": [
       "       Country Name  Year  Happiness_Index  Happiness_Rank\n",
       "1444  United States  2013            7.082              17\n",
       "1445  United States  2015            7.119              15\n",
       "1446  United States  2016            7.104              13\n",
       "1447  United States  2017            6.993              14\n",
       "1448  United States  2018            6.886              18\n",
       "1449  United States  2019            6.892              19\n",
       "1451  United States  2021            6.951              19\n",
       "1452  United States  2022            6.977              16\n",
       "1523  United States  2012            7.270               6"
      ]
     },
     "execution_count": 4,
     "metadata": {},
     "output_type": "execute_result"
    }
   ],
   "source": [
    "#World Happiness Results \n",
    "happiness_rank = pd.read_csv(\"World_Happiness_Index.csv\")\n",
    "\n",
    "# Filter for USA & years of cencus data\n",
    "happiness_rank = happiness_rank.loc[happiness_rank['Country'] == 'United States']\n",
    "happiness_rank = happiness_rank[happiness_rank.Year != 2023]\n",
    "happiness_rank = happiness_rank[happiness_rank.Year != 2020]\n",
    "happiness_rank = happiness_rank.rename(columns={'Country': 'Country Name', 'Year':'Year','Index':'Happiness_Index',\n",
    "                       'Rank':'Happiness_Rank'})\n",
    "happiness_rank"
   ]
  },
  {
   "cell_type": "markdown",
   "metadata": {},
   "source": [
    "### Import Individual Census Data"
   ]
  },
  {
   "cell_type": "code",
   "execution_count": 7,
   "metadata": {},
   "outputs": [
    {
     "name": "stdout",
     "output_type": "stream",
     "text": [
      "root\n",
      " |-- YEAR: integer (nullable = true)\n",
      " |-- SAMPLE: integer (nullable = true)\n",
      " |-- SERIAL: integer (nullable = true)\n",
      " |-- CBSERIAL: long (nullable = true)\n",
      " |-- HHWT: double (nullable = true)\n",
      " |-- CLUSTER: long (nullable = true)\n",
      " |-- CPI99: double (nullable = true)\n",
      " |-- STRATA: integer (nullable = true)\n",
      " |-- GQ: integer (nullable = true)\n",
      " |-- PERNUM: integer (nullable = true)\n",
      " |-- CBPERNUM: integer (nullable = true)\n",
      " |-- PERWT: double (nullable = true)\n",
      " |-- FAMSIZE: integer (nullable = true)\n",
      " |-- SEX: integer (nullable = true)\n",
      " |-- AGE: integer (nullable = true)\n",
      " |-- MARST: integer (nullable = true)\n",
      " |-- RACE: integer (nullable = true)\n",
      " |-- RACED: integer (nullable = true)\n",
      " |-- CITIZEN: integer (nullable = true)\n",
      " |-- HCOVANY: integer (nullable = true)\n",
      " |-- SCHOOL: integer (nullable = true)\n",
      " |-- EDUC: integer (nullable = true)\n",
      " |-- EDUCD: integer (nullable = true)\n",
      " |-- SCHLTYPE: integer (nullable = true)\n",
      " |-- EMPSTAT: integer (nullable = true)\n",
      " |-- EMPSTATD: integer (nullable = true)\n",
      " |-- CLASSWKR: integer (nullable = true)\n",
      " |-- CLASSWKRD: integer (nullable = true)\n",
      " |-- UHRSWORK: integer (nullable = true)\n",
      " |-- LOOKING: integer (nullable = true)\n",
      " |-- POVERTY: integer (nullable = true)\n",
      " |-- AINCTOT: double (nullable = true)\n",
      " |-- AFTOTINC: double (nullable = true)\n",
      " |-- AINCWELFR: double (nullable = true)\n",
      " |-- AINCINVST: double (nullable = true)\n",
      "\n",
      "+----+------+------+--------+------+-------------+-----+------+---+------+--------+------+-------+---+---+-----+----+-----+-------+-------+------+----+-----+--------+-------+--------+--------+---------+--------+-------+-------+-----------+--------+---------+----------+\n",
      "|YEAR|SAMPLE|SERIAL|CBSERIAL|  HHWT|      CLUSTER|CPI99|STRATA| GQ|PERNUM|CBPERNUM| PERWT|FAMSIZE|SEX|AGE|MARST|RACE|RACED|CITIZEN|HCOVANY|SCHOOL|EDUC|EDUCD|SCHLTYPE|EMPSTAT|EMPSTATD|CLASSWKR|CLASSWKRD|UHRSWORK|LOOKING|POVERTY|    AINCTOT|AFTOTINC|AINCWELFR| AINCINVST|\n",
      "+----+------+------+--------+------+-------------+-----+------+---+------+--------+------+-------+---+---+-----+----+-----+-------+-------+------+----+-----+--------+-------+--------+--------+---------+--------+-------+-------+-----------+--------+---------+----------+\n",
      "|2012|201201|     1|      20|230.88|2012000000011|0.726|180001|  1|     1|       1|227.76|      4|  2| 36|    1|   2|  200|      0|      2|     1|   7|   71|       1|      1|      10|       2|       22|      40|      3|    260|    18150.0| 43560.0|      0.0|       0.0|\n",
      "|2012|201201|     1|      20|230.88|2012000000011|0.726|180001|  1|     2|       2| 140.4|      4|  1| 38|    1|   2|  200|      0|      2|     1|   5|   50|       1|      1|      10|       2|       22|      40|      3|    260|    25410.0| 43560.0|      0.0|       0.0|\n",
      "|2012|201201|     1|      20|230.88|2012000000011|0.726|180001|  1|     3|       3| 280.8|      4|  1| 16|    6|   2|  200|      0|      2|     2|   3|   30|       2|      3|      30|       0|        0|       0|      1|    260|        0.0| 43560.0|      0.0|       0.0|\n",
      "|2012|201201|     1|      20|230.88|2012000000011|0.726|180001|  1|     4|       4|205.92|      4|  1| 13|    6|   2|  200|      0|      2|     2|   2|   25|       2|      0|       0|       0|        0|       0|      0|    260|7259999.274| 43560.0|72599.274|725999.274|\n",
      "|2012|201201|     4|     124| 156.0|2012000000041|0.726| 40001|  1|     1|       1| 156.0|      4|  1| 41|    1|   1|  100|      0|      2|     1|  10|  101|       1|      1|      10|       2|       28|      45|      3|    501|    38478.0|100188.0|      0.0|       0.0|\n",
      "+----+------+------+--------+------+-------------+-----+------+---+------+--------+------+-------+---+---+-----+----+-----+-------+-------+------+----+-----+--------+-------+--------+--------+---------+--------+-------+-------+-----------+--------+---------+----------+\n",
      "only showing top 5 rows\n",
      "\n"
     ]
    }
   ],
   "source": [
    "#Import Individual Census Data \n",
    "\n",
    "# Define the path to the CSV file\n",
    "file_path = \"usa_00006.csv\"\n",
    " #change this to your own!!\n",
    "\n",
    "# Read the CSV file into a DataFrame\n",
    "df_id = spark.read.csv(file_path, header=True, inferSchema=True)\n",
    "\n",
    "#Normalize Monitary Values to 2000 with CPI99\n",
    "df_id = df_id.withColumn('AINCTOT', df_id.INCTOT * df_id.CPI99)\n",
    "df_id = df_id.withColumn('AFTOTINC', df_id.FTOTINC * df_id.CPI99)\n",
    "df_id = df_id.withColumn('AINCWELFR', df_id.INCWELFR * df_id.CPI99)\n",
    "df_id = df_id.withColumn('AINCINVST', df_id.INCINVST * df_id.CPI99)\n",
    "#df_id = df_id.withColumn('APOVERTY', df_id.POVERTY * df_id.CPI99)\n",
    "#Store raw monetary values\n",
    "raw_id = df_id.select('SAMPLE', 'CBSERIAL', 'INCTOT', 'FTOTINC', 'INCWELFR', 'INCINVST')\n",
    "#Remove raw monetary value from dataframe \n",
    "df_id = df_id.drop('INCTOT', 'FTOTINC', 'INCWELFR', 'INCINVST')\n",
    "\n",
    "# Show the schema of the DataFrame\n",
    "df_id.printSchema()\n",
    "\n",
    "# Show the first few rows of the DataFrame\n",
    "df_id.show(5)"
   ]
  },
  {
   "cell_type": "markdown",
   "metadata": {},
   "source": [
    "### Import Household Census Data"
   ]
  },
  {
   "cell_type": "code",
   "execution_count": 46,
   "metadata": {},
   "outputs": [
    {
     "name": "stdout",
     "output_type": "stream",
     "text": [
      "root\n",
      " |-- YEAR: integer (nullable = true)\n",
      " |-- SAMPLE: integer (nullable = true)\n",
      " |-- SERIAL: integer (nullable = true)\n",
      " |-- CBSERIAL: long (nullable = true)\n",
      " |-- HHWT: double (nullable = true)\n",
      " |-- HHTYPE: integer (nullable = true)\n",
      " |-- CLUSTER: long (nullable = true)\n",
      " |-- CPI99: double (nullable = true)\n",
      " |-- STATEICP: integer (nullable = true)\n",
      " |-- MET2023: integer (nullable = true)\n",
      " |-- STRATA: integer (nullable = true)\n",
      " |-- GQ: integer (nullable = true)\n",
      " |-- FARM: integer (nullable = true)\n",
      " |-- OWNERSHP: integer (nullable = true)\n",
      " |-- OWNERSHPD: integer (nullable = true)\n",
      " |-- TAXINCL: integer (nullable = true)\n",
      " |-- INSINCL: integer (nullable = true)\n",
      " |-- FOODSTMP: integer (nullable = true)\n",
      " |-- CINETHH: integer (nullable = true)\n",
      " |-- VEHICLES: integer (nullable = true)\n",
      " |-- COUPLETYPE: integer (nullable = true)\n",
      " |-- NFAMS: integer (nullable = true)\n",
      " |-- ARENTGRS: double (nullable = true)\n",
      " |-- ACONDOFEE: double (nullable = true)\n",
      " |-- AMOBLHOME: double (nullable = true)\n",
      " |-- AHHINCOME: double (nullable = true)\n",
      " |-- AVALUEH: double (nullable = true)\n",
      " |-- ACOSTELEC: double (nullable = true)\n",
      " |-- ACOSTGAS: double (nullable = true)\n",
      " |-- ACOSTWATR: double (nullable = true)\n",
      " |-- ACOSTFUEL: double (nullable = true)\n",
      "\n",
      "+----+------+------+-------------+-------+------+-------------+-----+--------+-------+------+---+----+--------+---------+-------+-------+--------+-------+--------+----------+-----+--------+---------+------------------+------------------+------------------+------------------+------------------+------------------+------------------+\n",
      "|YEAR|SAMPLE|SERIAL|     CBSERIAL|   HHWT|HHTYPE|      CLUSTER|CPI99|STATEICP|MET2023|STRATA| GQ|FARM|OWNERSHP|OWNERSHPD|TAXINCL|INSINCL|FOODSTMP|CINETHH|VEHICLES|COUPLETYPE|NFAMS|ARENTGRS|ACONDOFEE|         AMOBLHOME|         AHHINCOME|           AVALUEH|         ACOSTELEC|          ACOSTGAS|         ACOSTWATR|         ACOSTFUEL|\n",
      "+----+------+------+-------------+-------+------+-------------+-----+--------+-------+------+---+----+--------+---------+-------+-------+--------+-------+--------+----------+-----+--------+---------+------------------+------------------+------------------+------------------+------------------+------------------+------------------+\n",
      "|2022|202201|  2923|2022010170212|  235.9|     0|2022000029231|0.569|      41|  33860|180101|  4|   1|       0|        0|      0|      0|       1|      0|       0|         0|    1|     0.0|      0.0|               0.0|       5689999.431|       5689999.431|               0.0|               0.0|               0.0|               0.0|\n",
      "|2022|202201|  3156|2022000001284| 117.95|     3|2022000031561|0.569|      41|  13820|140101|  1|   1|       1|       12|      0|      0|       2|      1|       4|         0|    1|     0.0|      0.0|               0.0|            1251.8|14224.999999999998|            955.92|204.83999999999997|449.50999999999993|227.59999999999997|\n",
      "|2022|202201|  3159|2022000001508| 330.26|     1|2022000031591|0.569|      41|  13820|140201|  1|   1|       1|       13|      2|      2|       1|      1|       2|         1|    1|     0.0|      0.0|               0.0|108109.99999999999|256049.99999999997|2662.9199999999996|          5686.017|22.759999999999998|          5686.017|\n",
      "|2022|202201|  3570|2022000028366| 360.59|     2|2022000035701|0.569|      41|      0|250001|  1|   1|       1|       12|      0|      0|       1|      1|       1|         0|    1|     0.0|      0.0|45.519999999999996|22759.999999999996|1991.4999999999998|1502.1599999999999|          5686.017|22.759999999999998|          5686.017|\n",
      "|2022|202201|  3813|2022000045986|1004.26|     3|2022000038131|0.569|      41|      0| 70001|  1|   1|       1|       13|      1|      2|       2|      1|       1|         0|    1|     0.0|      0.0|               0.0|13371.499999999998|           68280.0|           1297.32|          5686.017|            238.98|          5686.017|\n",
      "+----+------+------+-------------+-------+------+-------------+-----+--------+-------+------+---+----+--------+---------+-------+-------+--------+-------+--------+----------+-----+--------+---------+------------------+------------------+------------------+------------------+------------------+------------------+------------------+\n",
      "only showing top 5 rows\n",
      "\n"
     ]
    }
   ],
   "source": [
    "#Import Household Census Data \n",
    "\n",
    "# Define the path to the CSV file\n",
    "file_path = \"usa_00007.csv\" #change this to your own!!\n",
    "\n",
    "# Read the CSV file into a DataFrame\n",
    "df_hh = spark.read.csv(file_path, header=True, inferSchema=True)\n",
    "\n",
    "#Since rows represent individuals but we want households remove duplicates\n",
    "df_hh = df_hh.dropDuplicates()\n",
    "\n",
    "# Normalize monetary values to 2000 standard with CP199 multiplier\n",
    "df_hh = df_hh.withColumn('ARENTGRS', df_hh.RENTGRS * df_hh.CPI99)\n",
    "df_hh = df_hh.withColumn('ACONDOFEE', df_hh.CONDOFEE * df_hh.CPI99)\n",
    "df_hh = df_hh.withColumn('AMOBLHOME', df_hh.MOBLHOME * df_hh.CPI99)\n",
    "df_hh = df_hh.withColumn('AHHINCOME', df_hh.HHINCOME * df_hh.CPI99)\n",
    "df_hh = df_hh.withColumn('AVALUEH', df_hh.VALUEH * df_hh.CPI99)\n",
    "df_hh = df_hh.withColumn('ACOSTELEC', df_hh.COSTELEC * df_hh.CPI99)\n",
    "df_hh = df_hh.withColumn('ACOSTGAS', df_hh.COSTGAS * df_hh.CPI99)\n",
    "df_hh = df_hh.withColumn('ACOSTWATR', df_hh.COSTWATR * df_hh.CPI99)\n",
    "df_hh = df_hh.withColumn('ACOSTFUEL', df_hh.COSTFUEL * df_hh.CPI99)\n",
    "\n",
    "#Store raw monetary values\n",
    "raw_id = df_hh.select('SAMPLE', 'RENTGRS', 'CONDOFEE', 'MOBLHOME', 'HHINCOME',\n",
    "                       'VALUEH', 'COSTELEC', 'COSTGAS', 'COSTWATR', 'COSTFUEL')\n",
    "#Remove raw monetary value from dataframe \n",
    "df_hh = df_hh.drop('RENTGRS', 'CONDOFEE', 'MOBLHOME', 'HHINCOME',\n",
    "                    'VALUEH', 'COSTELEC', 'COSTGAS', 'COSTWATR', 'COSTFUEL')\n",
    "\n",
    "# Show the schema of the DataFrame\n",
    "df_hh.printSchema()\n",
    "\n",
    "# Show the first few rows of the DataFrame\n",
    "df_hh.show(5)"
   ]
  },
  {
   "cell_type": "markdown",
   "metadata": {},
   "source": [
    "### Combine Household and Individual Census Data (Preprocessed)"
   ]
  },
  {
   "cell_type": "code",
   "execution_count": 47,
   "metadata": {},
   "outputs": [],
   "source": [
    "## Preprocessing for Individual \n",
    "\n",
    "#LOOKING: combine not reported and n/a\n",
    "df_id = df_id.withColumn(\"LOOKING\", when(df_id[\"LOOKING\"] == 3, 0).otherwise(df_id[\"LOOKING\"])) \n",
    "#Group Quarters: Combine Household types and Group Quarter Types \n",
    "df_id = df_id.withColumn(\"GQ\", when(df_id[\"GQ\"] == 2, 1).when(df_id[\"GQ\"] == 5, 1).when(df_id[\"GQ\"] == 4, 3).otherwise(df_id[\"GQ\"]))\n",
    "\n",
    "#Remove Varaibles \n",
    "var_remove = ['SAMPLE', 'SERIAL', 'HHWT', 'PERNUM', 'CLUSTER', 'CPI99', 'STRATA',\n",
    "              'PERWT', 'RACED', 'EDUCD', 'EMPSTATD', 'CLASSWKRD']\n",
    "df_id = df_id.drop(*var_remove)\n"
   ]
  },
  {
   "cell_type": "code",
   "execution_count": 48,
   "metadata": {},
   "outputs": [],
   "source": [
    "## Preprocessing for Household \n",
    "#Group Quarters: Combine Household types and Group Quarter Types \n",
    "df_hh = df_hh.withColumn(\"GQ\", when(df_hh[\"GQ\"] == 2, 1).when(df_hh[\"GQ\"] == 5, 1).when(df_hh[\"GQ\"] == 4, 3).otherwise(df_hh[\"GQ\"]))\n",
    "#Household Types: combine NA and could not be determined\n",
    "df_hh = df_hh.withColumn(\"HHTYPE\", when(df_hh[\"HHTYPE\"] == 9, 0).otherwise(df_hh[\"HHTYPE\"]))\n",
    "#Fix CINETHH None values with Na encoded as 0 \n",
    "df_hh = df_hh.na.fill(value=0, subset=['CINETHH'])\n",
    "\n",
    "#Remove Varaibles \n",
    "var_remove = ['SAMPLE', 'SERIAL', 'HHWT', 'CLUSTER', 'CPI99', 'STRATA',\n",
    "              'MET2023', 'TAXINCL', 'INSINCL', 'COUPLETYPE']\n",
    "df_hh = df_hh.drop(*var_remove)\n",
    "\n",
    "# Create a new column for all Utilities by combining individual costs of gas, electricity, fuel, and water\n",
    "# and drop old columns\n",
    "\n",
    "df_hh = df_hh.withColumn('COSTUTIL', \n",
    "                         df_hh['ACOSTELEC'] + df_hh['ACOSTGAS'] + df_hh[\"ACOSTWATR\"] + df_hh['ACOSTFUEL'])\n",
    "\n",
    "df_hh = df_hh.drop('ACOSTELEC', 'ACOSTGAS', 'ACOSTWATR', 'ACOSTFUEL')"
   ]
  },
  {
   "cell_type": "code",
   "execution_count": 49,
   "metadata": {},
   "outputs": [
    {
     "name": "stdout",
     "output_type": "stream",
     "text": [
      "+----+-------+\n",
      "|YEAR|  count|\n",
      "+----+-------+\n",
      "|2018|1000701|\n",
      "|2015|1002140|\n",
      "|2022|1000453|\n",
      "|2013|1001492|\n",
      "|2014|1000578|\n",
      "|2019| 999725|\n",
      "|2012| 997299|\n",
      "|2016| 997981|\n",
      "|2017|1000345|\n",
      "|2021| 999712|\n",
      "+----+-------+\n",
      "\n"
     ]
    }
   ],
   "source": [
    "# Test Combining Individual & Household Data \n",
    "df_h = df_hh.drop('GQ') #drop duplicate columns \n",
    "result_df = df_id.join(df_h, on=[\"CBSERIAL\",\"YEAR\"], how=\"left\")\n",
    "result_df = result_df.dropDuplicates()\n",
    "result_df.count()\n",
    "#result_df.printSchema()\n",
    "from pyspark.sql.functions import count\n",
    "result_df.groupBy(\"YEAR\").agg(count(\"*\").alias(\"count\")).show()"
   ]
  },
  {
   "cell_type": "code",
   "execution_count": 12,
   "metadata": {},
   "outputs": [
    {
     "name": "stdout",
     "output_type": "stream",
     "text": [
      "+--------+----+---+--------+-------+---+---+-----+----+-------+-------+------+----+--------+-------+--------+--------+-------+-------+------------------+------------------+---------+----------+------+--------+----+--------+---------+--------+-------+--------+-----+--------+---------+---------+------------------+-----------+---------+\n",
      "|CBSERIAL|YEAR| GQ|CBPERNUM|FAMSIZE|SEX|AGE|MARST|RACE|CITIZEN|HCOVANY|SCHOOL|EDUC|SCHLTYPE|EMPSTAT|CLASSWKR|UHRSWORK|LOOKING|POVERTY|           AINCTOT|          AFTOTINC|AINCWELFR| AINCINVST|HHTYPE|STATEICP|FARM|OWNERSHP|OWNERSHPD|FOODSTMP|CINETHH|VEHICLES|NFAMS|ARENTGRS|ACONDOFEE|AMOBLHOME|         AHHINCOME|    AVALUEH| COSTUTIL|\n",
      "+--------+----+---+--------+-------+---+---+-----+----+-------+-------+------+----+--------+-------+--------+--------+-------+-------+------------------+------------------+---------+----------+------+--------+----+--------+---------+--------+-------+--------+-----+--------+---------+---------+------------------+-----------+---------+\n",
      "|     135|2012|  3|       1|      1|  2| 20|    6|   1|      0|      2|     2|   7|       3|      3|       0|       0|      1|      0|               0.0|       7259999.274|      0.0|       0.0|     0|      71|   1|       0|        0|       1|      0|       0|    1|     0.0|      0.0|      0.0|       7259999.274|7259999.274|      0.0|\n",
      "|     192|2012|  3|       1|      1|  2| 83|    5|   1|      0|      2|     1|   6|       1|      3|       0|       0|      0|      0| 7332.599999999999|       7259999.274|      0.0|       0.0|     0|      14|   1|       0|        0|       1|      0|       0|    1|     0.0|      0.0|      0.0|       7259999.274|7259999.274|      0.0|\n",
      "|     220|2012|  1|       1|      3|  2| 37|    1|   1|      1|      2|     1|  10|       1|      1|       1|      10|      0|    501|            2904.0|299765.39999999997|      0.0|       0.0|     1|      71|   1|       1|       12|       1|      0|       3|    1|     0.0|      0.0|      0.0|299765.39999999997|   689700.0| 9200.598|\n",
      "|     220|2012|  1|       2|      3|  1| 45|    1|   1|      2|      2|     1|  11|       1|      1|       2|      50|      2|    501|296861.39999999997|299765.39999999997|      0.0|    4283.4|     1|      71|   1|       1|       12|       1|      0|       3|    1|     0.0|      0.0|      0.0|299765.39999999997|   689700.0| 9200.598|\n",
      "|     220|2012|  1|       3|      3|  2|  2|    6|   1|      0|      2|     0|   0|       0|      0|       0|       0|      0|    501|       7259999.274|299765.39999999997|72599.274|725999.274|     1|      71|   1|       1|       12|       1|      0|       3|    1|     0.0|      0.0|      0.0|299765.39999999997|   689700.0| 9200.598|\n",
      "|     263|2012|  1|       1|      1|  2| 71|    4|   1|      0|      2|     1|   6|       1|      3|       0|       0|      1|     92|            7260.0|            7260.0|      0.0|       0.0|     6|      73|   1|       1|       12|       1|      0|       1|    1|     0.0|      0.0|      0.0|            7260.0|    54450.0|22897.314|\n",
      "|     290|2012|  1|       1|      4|  2| 37|    1|   1|      0|      2|     1|  10|       1|      1|       2|      45|      0|    501|           40656.0|           85668.0|      0.0|       0.0|     1|      43|   1|       2|       22|       1|      0|       2|    1|1539.846|      0.0|      0.0|           85668.0|7259999.274|18176.136|\n",
      "|     290|2012|  1|       2|      4|  1| 37|    1|   1|      0|      2|     1|  10|       1|      1|       2|      50|      0|    501|           45012.0|           85668.0|      0.0|       0.0|     1|      43|   1|       2|       22|       1|      0|       2|    1|1539.846|      0.0|      0.0|           85668.0|7259999.274|18176.136|\n",
      "|     290|2012|  1|       3|      4|  1|  4|    6|   1|      0|      2|     1|   0|       1|      0|       0|       0|      0|    501|       7259999.274|           85668.0|72599.274|725999.274|     1|      43|   1|       2|       22|       1|      0|       2|    1|1539.846|      0.0|      0.0|           85668.0|7259999.274|18176.136|\n",
      "|     290|2012|  1|       4|      4|  1|  1|    6|   1|      0|      2|     0|   0|       0|      0|       0|       0|      0|    501|       7259999.274|           85668.0|72599.274|725999.274|     1|      43|   1|       2|       22|       1|      0|       2|    1|1539.846|      0.0|      0.0|           85668.0|7259999.274|18176.136|\n",
      "+--------+----+---+--------+-------+---+---+-----+----+-------+-------+------+----+--------+-------+--------+--------+-------+-------+------------------+------------------+---------+----------+------+--------+----+--------+---------+--------+-------+--------+-----+--------+---------+---------+------------------+-----------+---------+\n",
      "only showing top 10 rows\n",
      "\n"
     ]
    }
   ],
   "source": [
    "result_df.show(10)"
   ]
  },
  {
   "cell_type": "markdown",
   "metadata": {},
   "source": [
    "## Household Decision Tree"
   ]
  },
  {
   "cell_type": "markdown",
   "metadata": {},
   "source": [
    "This decision tree was attempted during our Model 1, but we have made the necessary improvements and used it as our Model 2. We decided to leave this initial trial to show the progress."
   ]
  },
  {
   "cell_type": "code",
   "execution_count": 13,
   "metadata": {},
   "outputs": [],
   "source": [
    "from pyspark.ml.classification import DecisionTreeClassifier\n",
    "from pyspark.ml.evaluation import MulticlassClassificationEvaluator\n",
    "from pyspark.ml.tuning import CrossValidator, ParamGridBuilder"
   ]
  },
  {
   "cell_type": "code",
   "execution_count": 64,
   "metadata": {},
   "outputs": [
    {
     "name": "stdout",
     "output_type": "stream",
     "text": [
      "+----+-------------+------+--------+---+----+--------+---------+--------+-------+--------+-----+------------------+---------+------------------+------------------+------------------+------------------+\n",
      "|YEAR|     CBSERIAL|HHTYPE|STATEICP| GQ|FARM|OWNERSHP|OWNERSHPD|FOODSTMP|CINETHH|VEHICLES|NFAMS|          ARENTGRS|ACONDOFEE|         AMOBLHOME|         AHHINCOME|           AVALUEH|          COSTUTIL|\n",
      "+----+-------------+------+--------+---+----+--------+---------+--------+-------+--------+-----+------------------+---------+------------------+------------------+------------------+------------------+\n",
      "|2022|2022010170212|     0|      41|  3|   1|       0|        0|       1|      0|       0|    1|               0.0|      0.0|               0.0|       5689999.431|       5689999.431|               0.0|\n",
      "|2022|2022000001284|     3|      41|  1|   1|       1|       12|       2|      1|       4|    1|               0.0|      0.0|               0.0|            1251.8|14224.999999999998|           1837.87|\n",
      "|2022|2022000001508|     1|      41|  1|   1|       1|       13|       1|      1|       2|    1|               0.0|      0.0|               0.0|108109.99999999999|256049.99999999997|         14057.714|\n",
      "|2022|2022000028366|     2|      41|  1|   1|       1|       12|       1|      1|       1|    1|               0.0|      0.0|45.519999999999996|22759.999999999996|1991.4999999999998|         12896.954|\n",
      "|2022|2022000045986|     3|      41|  1|   1|       1|       13|       2|      1|       1|    1|               0.0|      0.0|               0.0|13371.499999999998|           68280.0|12908.333999999999|\n",
      "|2022|2022000063889|     3|      41|  1|   1|       2|       22|       2|      1|       1|    1|           351.073|      0.0|               0.0|               0.0|       5689999.431|         13534.234|\n",
      "|2022|2022000070002|     1|      41|  1|   1|       2|       21|       1|      2|       2|    1|               0.0|      0.0|               0.0|18094.199999999997|       5689999.431|         14444.634|\n",
      "|2022|2022000165028|     0|      41|  1|   1|       2|       22|       1|      1|       2|    1|           803.997|      0.0|               0.0| 91039.99999999999|       5689999.431|         12140.184|\n",
      "|2022|2022000165548|     1|      41|  1|   1|       1|       12|       2|      1|       2|    1|               0.0|      0.0|               0.0|14793.999999999998| 51209.99999999999|13135.934000000001|\n",
      "|2022|2022000311932|     2|      41|  1|   1|       1|       12|       1|      3|       3|    1|               0.0|      0.0|             73.97|60370.899999999994|3982.9999999999995|12914.024000000001|\n",
      "|2022|2022000348235|     2|      41|  1|   1|       2|       22|       1|      1|       1|    1| 628.1759999999999|      0.0|               0.0|               0.0|       5689999.431|13448.883999999998|\n",
      "|2022|2022000349925|     1|      41|  1|   1|       2|       22|       1|      1|       1|    1|201.99499999999998|      0.0|               0.0|20256.399999999998|       5689999.431|         12430.374|\n",
      "|2022|2022000404857|     1|      41|  1|   1|       1|       13|       1|      1|       2|    1|               0.0|      0.0|               0.0|           55420.6|170699.99999999997|          8183.927|\n",
      "|2022|2022000434812|     1|      41|  1|   1|       1|       12|       1|      1|       4|    1|               0.0|      0.0|               0.0|          66817.67| 45519.99999999999|          8496.877|\n",
      "|2022|2022000486142|     2|      41|  1|   1|       1|       13|       1|      1|       2|    1|               0.0|      0.0|               0.0|           20597.8|170699.99999999997|         12566.934|\n",
      "|2022|2022000504549|     1|      41|  1|   2|       1|       12|       1|      1|       4|    1|               0.0|      0.0|               0.0|           42618.1|1559059.9999999998|          7597.857|\n",
      "|2022|2022000610692|     6|      41|  1|   1|       1|       12|       1|      3|       9|    1|               0.0|      0.0|               0.0| 9331.599999999999|           40399.0|         12236.914|\n",
      "|2022|2022000612083|     1|      41|  1|   1|       1|       12|       1|      1|       4|    1|               0.0|      0.0|               0.0| 63727.99999999999|           71125.0| 7119.896999999999|\n",
      "|2022|2022000686585|     1|      41|  1|   1|       1|       13|       1|      1|       2|    1|               0.0|      0.0|               0.0| 49502.99999999999|122334.99999999999|         12811.604|\n",
      "|2022|2022000686861|     3|      41|  1|   1|       1|       12|       2|      1|       9|    1|               0.0|      0.0|               0.0|           4415.44|483649.99999999994|3231.9199999999996|\n",
      "+----+-------------+------+--------+---+----+--------+---------+--------+-------+--------+-----+------------------+---------+------------------+------------------+------------------+------------------+\n",
      "only showing top 20 rows\n",
      "\n"
     ]
    }
   ],
   "source": [
    "df_hh.show()"
   ]
  },
  {
   "cell_type": "code",
   "execution_count": 65,
   "metadata": {},
   "outputs": [],
   "source": [
    "feature_columns = [\"AHHINCOME\", \"HHTYPE\", \"AVALUEH\", \"YEAR\"]\n",
    "\n",
    "assembler = VectorAssembler(inputCols=feature_columns, outputCol=\"features\")\n",
    "\n",
    "data = assembler.transform(df_hh)\n",
    "\n",
    "#Split unnormalized data \n",
    "hh_train, hh_test = data.randomSplit(weights=[0.8,0.2], seed=200)\n",
    "\n",
    "dt_classifier = DecisionTreeClassifier(labelCol=\"OWNERSHP\", featuresCol=\"features\")\n",
    "model = dt_classifier.fit(hh_train)"
   ]
  },
  {
   "cell_type": "code",
   "execution_count": 66,
   "metadata": {},
   "outputs": [
    {
     "name": "stdout",
     "output_type": "stream",
     "text": [
      "Test Accuracy: 0.9999806437655846\n"
     ]
    }
   ],
   "source": [
    "# Create predictions on test set\n",
    "predictions_test = model.transform(hh_test)\n",
    "\n",
    "from pyspark.ml.evaluation import MulticlassClassificationEvaluator\n",
    "\n",
    "# Create evaluator for accuracy\n",
    "evaluator = MulticlassClassificationEvaluator(labelCol=\"OWNERSHP\", predictionCol=\"prediction\", metricName=\"accuracy\")\n",
    "\n",
    "accuracy_test = evaluator.evaluate(predictions_test)\n",
    "\n",
    "print(f\"Test Accuracy: {accuracy_test}\")"
   ]
  },
  {
   "cell_type": "code",
   "execution_count": 67,
   "metadata": {},
   "outputs": [
    {
     "name": "stdout",
     "output_type": "stream",
     "text": [
      "Feature 'AHHINCOME': 0.29\n",
      "Feature 'HHTYPE': 0.00\n",
      "Feature 'AVALUEH': 0.71\n",
      "Feature 'YEAR': 0.00\n"
     ]
    }
   ],
   "source": [
    "feature_importance = model.featureImportances.toArray()\n",
    "\n",
    "# Show feature importance\n",
    "for i, column in enumerate(assembler.getInputCols()):\n",
    "    print(f\"Feature '{column}': {feature_importance[i]:.2f}\")"
   ]
  },
  {
   "cell_type": "code",
   "execution_count": 68,
   "metadata": {},
   "outputs": [
    {
     "name": "stdout",
     "output_type": "stream",
     "text": [
      "DecisionTreeClassificationModel: uid=DecisionTreeClassifier_871bf73bfbb1, depth=5, numNodes=11, numClasses=3, numFeatures=4\n",
      "  If (STATEICP <= 5285725.2155)\n",
      "   Predict: Own\n",
      "  Else (STATEICP > 5285725.2155)\n",
      "   If (YEAR <= 258869.8)\n",
      "    Predict: Rent\n",
      "   Else (YEAR > 258869.8)\n",
      "    If (HHTYPE <= 0.5)\n",
      "     If (YEAR <= 5919999.408)\n",
      "      If (STATEICP <= 5919999.408)\n",
      "       Predict: Na\n",
      "      Else (STATEICP > 5919999.408)\n",
      "       Predict: Rent\n",
      "     Else (YEAR > 5919999.408)\n",
      "      Predict: Na\n",
      "    Else (HHTYPE > 0.5)\n",
      "     Predict: Rent\n",
      "\n"
     ]
    }
   ],
   "source": [
    "# Mapping of features\n",
    "feature_mapping = {\n",
    "    0: \"YEAR\",\n",
    "    1: \"HHTYPE\",\n",
    "    2: \"STATEICP\",\n",
    "    3: \"GROUP_QUARTERS\",\n",
    "    4: \"FARM\",\n",
    "    5: \"FOODSTMP\",\n",
    "    6: \"CINETHH\",\n",
    "    7: \"VEHICLES\",\n",
    "    8: \"NFAMS\",\n",
    "    9: \"ACONDOFEE\",\n",
    "    10: \"AMOBLHOME\",\n",
    "    11: \"AHHINCOME\",\n",
    "    12: \"HOUSE_VALUE\",\n",
    "    13: \"COSTUTIL\"\n",
    "}\n",
    "# Mapping of predicted class \n",
    "class_mapping = {\n",
    "    0.0: \"Na\",\n",
    "    1.0: \"Own\",\n",
    "    2.0: \"Rent\"\n",
    "}\n",
    "\n",
    "# replace feature numbers and predicted class numbers with names and labels\n",
    "def convert_tree_structure(tree_structure):\n",
    "    lines = tree_structure.split(\"\\n\")\n",
    "    converted_lines = []\n",
    "    for line in lines:\n",
    "        for feature_num, feature_name in feature_mapping.items():\n",
    "            line = line.replace(f\"feature {feature_num} \", f\"{feature_name} \")\n",
    "            line = line.replace(f\"feature {feature_num}>\", f\"{feature_name}>\")\n",
    "            line = line.replace(f\"feature {feature_num}<=\", f\"{feature_name}<=\")\n",
    "        for class_num, class_label in class_mapping.items():\n",
    "            line = line.replace(f\"Predict: {class_num}\", f\"Predict: {class_label}\")\n",
    "        converted_lines.append(line)\n",
    "    return \"\\n\".join(converted_lines)\n",
    "\n",
    "tree_structure = model.toDebugString\n",
    "converted_tree_structure = convert_tree_structure(tree_structure)\n",
    "print(converted_tree_structure)\n"
   ]
  },
  {
   "cell_type": "markdown",
   "metadata": {},
   "source": [
    "## Decision Tree Evaluation and Fitting Graph"
   ]
  },
  {
   "cell_type": "code",
   "execution_count": 70,
   "metadata": {},
   "outputs": [
    {
     "data": {
      "image/png": "[encoded data removed]",
      "text/plain": [
       "<Figure size 1000x600 with 1 Axes>"
      ]
     },
     "metadata": {},
     "output_type": "display_data"
    }
   ],
   "source": [
    "from pyspark.ml.classification import DecisionTreeClassifier\n",
    "from pyspark.ml.evaluation import MulticlassClassificationEvaluator\n",
    "import matplotlib.pyplot as plt\n",
    "\n",
    "# we can adjust the depth, but since it is a simple model we can start small first and adjust later\n",
    "max_depths = range(1, 5)  \n",
    "\n",
    "#create empty list of training and testing errors for plotting\n",
    "train_errors = []\n",
    "test_errors = []\n",
    "\n",
    "# let us first define the Multiclass Classification Evaluator\n",
    "evaluator = MulticlassClassificationEvaluator(labelCol=\"OWNERSHP\", predictionCol=\"prediction\", metricName=\"accuracy\")\n",
    "\n",
    "for depth in max_depths:\n",
    "    # creating the Decision Tree model for current depth\n",
    "    dt_classifier = DecisionTreeClassifier(labelCol=\"OWNERSHP\", featuresCol=\"features\", maxDepth=depth)\n",
    "    \n",
    "    # fitting and training model\n",
    "    model = dt_classifier.fit(hh_train)\n",
    "    \n",
    "    # calculating training error for current depth\n",
    "    train_predictions = model.transform(hh_train)\n",
    "    train_accuracy = evaluator.evaluate(train_predictions)\n",
    "    train_error = 1 - train_accuracy\n",
    "    train_errors.append(train_error)\n",
    "    \n",
    "    # calculating test error for current depth\n",
    "    test_predictions = model.transform(hh_test)\n",
    "    test_accuracy = evaluator.evaluate(test_predictions)\n",
    "    test_error = 1 - test_accuracy\n",
    "    test_errors.append(test_error)\n",
    "\n",
    "# Plot the training and test errors\n",
    "plt.figure(figsize=(10, 6))\n",
    "plt.plot(max_depths, train_errors, label='Training Error', color='red')\n",
    "plt.plot(max_depths, test_errors, label='Test Error', color='green')\n",
    "plt.xlabel('Model Complexity (Max Depth)')\n",
    "plt.ylabel('Error')\n",
    "plt.title('Fitting Graph for Decision Tree Model')\n",
    "plt.legend()\n",
    "plt.show()"
   ]
  },
  {
   "cell_type": "markdown",
   "metadata": {},
   "source": [
    "The decision tree was able to predict with 99% accuracy whether a house was owned or rented based on the four variables. First group quarters were excluded since they are neither rented or owned. Then ownership was predicted based on house value, house type, household income and year. We are unsure why we get a test accuracy of 100%. We know this must be , but were unable to figure out the cause. This was our initial trial at a decision tree, so we moved on and decided to combine the individual and household dataset to get a better overall picture of someone's ability to own a home. This is accomplished in the next section which is our true Model 2"
   ]
  },
  {
   "cell_type": "markdown",
   "metadata": {},
   "source": [
    "## Model 2"
   ]
  },
  {
   "cell_type": "markdown",
   "metadata": {},
   "source": [
    "We originally tried a linear regression model for determining someone's ability to own a home, but found that a decision tree gave better results. Below is the linear regression."
   ]
  },
  {
   "cell_type": "markdown",
   "metadata": {},
   "source": [
    "### Without House Value (\"AVALUEH\")"
   ]
  },
  {
   "cell_type": "code",
   "execution_count": null,
   "metadata": {},
   "outputs": [],
   "source": [
    "new = df_hh.filter(df_hh.OWNERSHP != 0)\n",
    "feature_columns = [\"HHTYPE\", \"VEHICLES\", \"NFAMS\", \"AHHINCOME\"]\n",
    "assembler = VectorAssembler(inputCols=feature_columns, outputCol=\"features\")\n",
    "data = assembler.transform(new)\n",
    "hh_norm_train, hh_norm_test = data.randomSplit(weights=[0.8,0.2], seed=200)"
   ]
  },
  {
   "cell_type": "code",
   "execution_count": 76,
   "metadata": {},
   "outputs": [
    {
     "name": "stdout",
     "output_type": "stream",
     "text": [
      "Accuracy: 0.7397\n",
      "Precision: 0.7310\n",
      "Recall: 0.7397\n"
     ]
    }
   ],
   "source": [
    "# Create logistic regression model\n",
    "logistic_regression = LogisticRegression(featuresCol=\"features\", labelCol=\"OWNERSHP\")\n",
    "\n",
    "# Fit the model\n",
    "model = logistic_regression.fit(hh_norm_train)\n",
    "\n",
    "# Create predictions of test set\n",
    "predictions = model.transform(hh_norm_test)\n",
    "\n",
    "# Accuracy, Precision, and Recall\n",
    "multi_evaluator = MulticlassClassificationEvaluator(labelCol=\"OWNERSHP\", predictionCol=\"prediction\")\n",
    "accuracy = multi_evaluator.evaluate(predictions, {multi_evaluator.metricName: \"accuracy\"})\n",
    "precision = multi_evaluator.evaluate(predictions, {multi_evaluator.metricName: \"weightedPrecision\"})\n",
    "recall = multi_evaluator.evaluate(predictions, {multi_evaluator.metricName: \"weightedRecall\"})\n",
    "\n",
    "#print(f\"AUC-ROC: {auc:.4f}\")\n",
    "print(f\"Accuracy: {accuracy:.4f}\")\n",
    "print(f\"Precision: {precision:.4f}\")\n",
    "print(f\"Recall: {recall:.4f}\")"
   ]
  },
  {
   "cell_type": "markdown",
   "metadata": {},
   "source": [
    "### With House Value (\"AVALUEH\")"
   ]
  },
  {
   "cell_type": "code",
   "execution_count": 77,
   "metadata": {},
   "outputs": [],
   "source": [
    "new = df_hh.filter(df_hh.OWNERSHP != 0)\n",
    "feature_columns = [\"HHTYPE\", \"VEHICLES\", \"NFAMS\", \"AHHINCOME\", \"AVALUEH\"]\n",
    "assembler = VectorAssembler(inputCols=feature_columns, outputCol=\"features\")\n",
    "data = assembler.transform(new)\n",
    "hh_norm_train, hh_norm_test = data.randomSplit(weights=[0.8,0.2], seed=200)"
   ]
  },
  {
   "cell_type": "code",
   "execution_count": 78,
   "metadata": {},
   "outputs": [
    {
     "name": "stdout",
     "output_type": "stream",
     "text": [
      "Accuracy: 1.0000\n",
      "Precision: 1.0000\n",
      "Recall: 1.0000\n"
     ]
    }
   ],
   "source": [
    "# Create logistic regression model\n",
    "logistic_regression = LogisticRegression(featuresCol=\"features\", labelCol=\"OWNERSHP\")\n",
    "\n",
    "# Fit the model\n",
    "model = logistic_regression.fit(hh_norm_train)\n",
    "\n",
    "# Create predictions of test set\n",
    "predictions = model.transform(hh_norm_test)\n",
    "\n",
    "# Accuracy, Precision, and Recall\n",
    "multi_evaluator = MulticlassClassificationEvaluator(labelCol=\"OWNERSHP\", predictionCol=\"prediction\")\n",
    "accuracy = multi_evaluator.evaluate(predictions, {multi_evaluator.metricName: \"accuracy\"})\n",
    "precision = multi_evaluator.evaluate(predictions, {multi_evaluator.metricName: \"weightedPrecision\"})\n",
    "recall = multi_evaluator.evaluate(predictions, {multi_evaluator.metricName: \"weightedRecall\"})\n",
    "\n",
    "#print(f\"AUC-ROC: {auc:.4f}\")\n",
    "print(f\"Accuracy: {accuracy:.4f}\")\n",
    "print(f\"Precision: {precision:.4f}\")\n",
    "print(f\"Recall: {recall:.4f}\")"
   ]
  },
  {
   "cell_type": "markdown",
   "metadata": {},
   "source": [
    "This was part of the reason we preferred sticking with the decision tree, however, we thought it was interesting that adding the feature \"AVALUEH,\" caused the accuracy to jump to 100%. We did not evaluate this any further, so we never came to any conclusions on why this happened."
   ]
  },
  {
   "cell_type": "markdown",
   "metadata": {},
   "source": [
    "### Decision Tree using the Comibined Datasets and Household Income"
   ]
  },
  {
   "cell_type": "code",
   "execution_count": 13,
   "metadata": {},
   "outputs": [
    {
     "name": "stdout",
     "output_type": "stream",
     "text": [
      "Accuracy: 0.779172737138095\n",
      "+--------+----------+--------------------+\n",
      "|OWNERSHP|prediction|         probability|\n",
      "+--------+----------+--------------------+\n",
      "|       2|       1.0|[0.0,0.8197095863...|\n",
      "|       1|       1.0|[0.0,0.9000131620...|\n",
      "|       2|       1.0|[0.0,0.6879655665...|\n",
      "|       1|       1.0|[0.0,0.8197095863...|\n",
      "|       1|       1.0|[0.0,0.8356774613...|\n",
      "|       1|       1.0|[0.0,0.8356774613...|\n",
      "|       2|       1.0|[0.0,0.5696735194...|\n",
      "|       2|       1.0|[0.0,0.5696735194...|\n",
      "|       2|       1.0|[0.0,0.5696735194...|\n",
      "|       2|       2.0|[0.0,0.3550117156...|\n",
      "|       1|       1.0|[0.0,0.5783232628...|\n",
      "|       2|       2.0|[0.0,0.4555812876...|\n",
      "|       1|       1.0|[0.0,0.6814768759...|\n",
      "|       1|       1.0|[0.0,0.9000131620...|\n",
      "|       1|       1.0|[0.0,0.9000131620...|\n",
      "|       2|       2.0|[0.0,0.3398293465...|\n",
      "|       2|       1.0|[0.0,0.6879655665...|\n",
      "|       2|       1.0|[0.0,0.9000131620...|\n",
      "|       1|       1.0|[0.0,0.6814768759...|\n",
      "|       1|       1.0|[0.0,0.9000131620...|\n",
      "+--------+----------+--------------------+\n",
      "only showing top 20 rows\n",
      "\n"
     ]
    }
   ],
   "source": [
    "from pyspark.ml.feature import VectorAssembler\n",
    "from pyspark.ml.classification import DecisionTreeClassifier\n",
    "from pyspark.ml.evaluation import MulticlassClassificationEvaluator\n",
    "from pyspark.ml import Pipeline\n",
    "\n",
    "# Assuming result_df is already loaded\n",
    "new = result_df.filter(result_df.OWNERSHP != 0)\n",
    "\n",
    "# Define the feature columns\n",
    "feature_columns = [\"AGE\", \"MARST\", \"RACE\", \"CITIZEN\", \"EDUC\", \"CLASSWKR\", \"AFTOTINC\", \"NFAMS\", \"FAMSIZE\", \"GQ\", \"STATEICP\", \"CBPERNUM\", \"YEAR\", \"HHTYPE\"]\n",
    "\n",
    "# Assemble feature columns into a feature vector\n",
    "assembler = VectorAssembler(inputCols=feature_columns, outputCol=\"features\")\n",
    "\n",
    "# Transform features into feature Vector\n",
    "data = assembler.transform(new)\n",
    "\n",
    "# Split into train/test data\n",
    "combined_train, combined_test = data.randomSplit(weights=[0.8,0.2], seed=200)\n",
    "\n",
    "# Initialize the Decision Tree Classifier\n",
    "dt = DecisionTreeClassifier(labelCol=\"OWNERSHP\", featuresCol=\"features\")\n",
    "\n",
    "# Train the model\n",
    "model = dt.fit(combined_train)\n",
    "\n",
    "# Make predictions\n",
    "predictions = model.transform(combined_test)\n",
    "\n",
    "# Evaluate the model\n",
    "evaluator = MulticlassClassificationEvaluator(labelCol=\"OWNERSHP\", predictionCol=\"prediction\", metricName=\"accuracy\")\n",
    "accuracy = evaluator.evaluate(predictions)\n",
    "print(f\"Accuracy: {accuracy}\")\n",
    "\n",
    "# Show predictions\n",
    "predictions.select(\"OWNERSHP\", \"prediction\", \"probability\").show()\n"
   ]
  },
  {
   "cell_type": "code",
   "execution_count": 19,
   "metadata": {},
   "outputs": [
    {
     "name": "stdout",
     "output_type": "stream",
     "text": [
      "DecisionTreeClassificationModel: uid=DecisionTreeClassifier_3f7444867341, depth=5, numNodes=27, numClasses=3, numFeatures=14\n",
      "  If (AFTOTINC <= 37155.0)\n",
      "   If (AGE <= 47.5)\n",
      "    If (AFTOTINC <= 22836.7)\n",
      "     Predict: Rent\n",
      "    Else (AFTOTINC > 22836.7)\n",
      "     If (HHTYPE <= 0.5)\n",
      "      Predict: Rent\n",
      "     Else (HHTYPE > 0.5)\n",
      "      If (HHTYPE <= 3.5)\n",
      "       Predict: Own\n",
      "      Else (HHTYPE > 3.5)\n",
      "       Predict: Rent\n",
      "   Else (AGE > 47.5)\n",
      "    If (MARST <= 1.5)\n",
      "     Predict: Own\n",
      "    Else (MARST > 1.5)\n",
      "     If (RACE <= 1.5)\n",
      "      Predict: Own\n",
      "     Else (RACE > 1.5)\n",
      "      If (AFTOTINC <= 14529.8)\n",
      "       Predict: Rent\n",
      "      Else (AFTOTINC > 14529.8)\n",
      "       Predict: Own\n",
      "  Else (AFTOTINC > 37155.0)\n",
      "   If (AGE <= 44.5)\n",
      "    If (FAMSIZE <= 2.5)\n",
      "     If (HHTYPE <= 3.5)\n",
      "      If (HHTYPE <= 0.5)\n",
      "       Predict: Rent\n",
      "      Else (HHTYPE > 0.5)\n",
      "       Predict: Own\n",
      "     Else (HHTYPE > 3.5)\n",
      "      If (AGE <= 31.5)\n",
      "       Predict: Rent\n",
      "      Else (AGE > 31.5)\n",
      "       Predict: Own\n",
      "    Else (FAMSIZE > 2.5)\n",
      "     Predict: Own\n",
      "   Else (AGE > 44.5)\n",
      "    Predict: Own\n",
      "\n"
     ]
    }
   ],
   "source": [
    "# Print the decision tree model\n",
    "\n",
    "# Mapping of features\n",
    "feature_mapping = {\n",
    "    0: \"AGE\",\n",
    "    1: \"MARST\",\n",
    "    2: \"RACE\",\n",
    "    3: \"CITIZEN\",\n",
    "    4: \"EDUC\",\n",
    "    5: \"CLASSWKR\",\n",
    "    6: \"AFTOTINC\",\n",
    "    7: \"NFAMS\",\n",
    "    8: \"FAMSIZE\",\n",
    "    9: \"GQ\",\n",
    "    10: \"STATEICP\",\n",
    "    11: \"CBPERNUM\",\n",
    "    12: \"YEAR\",\n",
    "    13: \"HHTYPE\"\n",
    "}\n",
    "# Mapping of predicted class \n",
    "class_mapping = {\n",
    "    0.0: \"Na\",\n",
    "    1.0: \"Own\",\n",
    "    2.0: \"Rent\"\n",
    "}\n",
    "\n",
    "# replace feature numbers and predicted class numbers with names and labels\n",
    "def convert_tree_structure(tree_structure):\n",
    "    lines = tree_structure.split(\"\\n\")\n",
    "    converted_lines = []\n",
    "    for line in lines:\n",
    "        for feature_num, feature_name in feature_mapping.items():\n",
    "            line = line.replace(f\"feature {feature_num} \", f\"{feature_name} \")\n",
    "            line = line.replace(f\"feature {feature_num}>\", f\"{feature_name}>\")\n",
    "            line = line.replace(f\"feature {feature_num}<=\", f\"{feature_name}<=\")\n",
    "        for class_num, class_label in class_mapping.items():\n",
    "            line = line.replace(f\"Predict: {class_num}\", f\"Predict: {class_label}\")\n",
    "        converted_lines.append(line)\n",
    "    return \"\\n\".join(converted_lines)\n",
    "\n",
    "tree_structure = model.toDebugString\n",
    "converted_tree_structure = convert_tree_structure(tree_structure)\n",
    "print(converted_tree_structure)"
   ]
  },
  {
   "cell_type": "markdown",
   "metadata": {},
   "source": [
    "### Decision Tree using the Comibined Datasets and withholding Household Income"
   ]
  },
  {
   "cell_type": "code",
   "execution_count": 21,
   "metadata": {},
   "outputs": [
    {
     "name": "stdout",
     "output_type": "stream",
     "text": [
      "Accuracy: 0.7712686335993348\n"
     ]
    }
   ],
   "source": [
    "# Assuming result_df is already loaded\n",
    "new = result_df.filter(result_df.OWNERSHP != 0)\n",
    "\n",
    "# Define the feature columns\n",
    "feature_columns = [\"AGE\", \"MARST\", \"RACE\", \"CITIZEN\", \"EDUC\", \"CLASSWKR\", \"NFAMS\", \"FAMSIZE\", \"GQ\", \"STATEICP\", \"CBPERNUM\", \"YEAR\", \"HHTYPE\"]\n",
    "\n",
    "# Assemble feature columns into a feature vector\n",
    "assembler = VectorAssembler(inputCols=feature_columns, outputCol=\"features\")\n",
    "\n",
    "# Transform features into feature Vector\n",
    "data = assembler.transform(new)\n",
    "\n",
    "# Split into train/test data\n",
    "combined_train, combined_test = data.randomSplit(weights=[0.8,0.2], seed=200)\n",
    "\n",
    "# Initialize the Decision Tree Classifier\n",
    "dt = DecisionTreeClassifier(labelCol=\"OWNERSHP\", featuresCol=\"features\")\n",
    "\n",
    "\n",
    "# Train the model\n",
    "model_2 = dt.fit(combined_train)\n",
    "\n",
    "# Make predictions\n",
    "predictions = model_2.transform(combined_test)\n",
    "\n",
    "# Evaluate the model\n",
    "evaluator = MulticlassClassificationEvaluator(labelCol=\"OWNERSHP\", predictionCol=\"prediction\", metricName=\"accuracy\")\n",
    "accuracy = evaluator.evaluate(predictions)\n",
    "print(f\"Accuracy: {accuracy}\")"
   ]
  },
  {
   "cell_type": "code",
   "execution_count": 22,
   "metadata": {},
   "outputs": [
    {
     "name": "stdout",
     "output_type": "stream",
     "text": [
      "DecisionTreeClassificationModel: uid=DecisionTreeClassifier_e7f44a94e5fc, depth=5, numNodes=37, numClasses=3, numFeatures=13\n",
      "  If (HHTYPE <= 1.5)\n",
      "   If (HHTYPE <= 0.5)\n",
      "    If (AGE <= 41.5)\n",
      "     If (RACE <= 1.5)\n",
      "      If (FAMSIZE <= 2.5)\n",
      "       Predict: Rent\n",
      "      Else (FAMSIZE > 2.5)\n",
      "       Predict: Own\n",
      "     Else (RACE > 1.5)\n",
      "      Predict: Rent\n",
      "    Else (AGE > 41.5)\n",
      "     Predict: Own\n",
      "   Else (HHTYPE > 0.5)\n",
      "    If (CITIZEN <= 2.5)\n",
      "     Predict: Own\n",
      "    Else (CITIZEN > 2.5)\n",
      "     If (AGE <= 41.5)\n",
      "      Predict: Rent\n",
      "     Else (AGE > 41.5)\n",
      "      Predict: Own\n",
      "  Else (HHTYPE > 1.5)\n",
      "   If (AGE <= 44.5)\n",
      "    If (HHTYPE <= 3.5)\n",
      "     If (RACE <= 1.5)\n",
      "      If (CBPERNUM <= 1.5)\n",
      "       Predict: Rent\n",
      "      Else (CBPERNUM > 1.5)\n",
      "       Predict: Own\n",
      "     Else (RACE > 1.5)\n",
      "      If (EDUC <= 9.0)\n",
      "       Predict: Rent\n",
      "      Else (EDUC > 9.0)\n",
      "       Predict: Own\n",
      "    Else (HHTYPE > 3.5)\n",
      "     If (AGE <= 29.5)\n",
      "      If (AGE <= 17.5)\n",
      "       Predict: Own\n",
      "      Else (AGE > 17.5)\n",
      "       Predict: Rent\n",
      "     Else (AGE > 29.5)\n",
      "      Predict: Rent\n",
      "   Else (AGE > 44.5)\n",
      "    If (RACE <= 1.5)\n",
      "     Predict: Own\n",
      "    Else (RACE > 1.5)\n",
      "     If (EDUC <= 9.0)\n",
      "      If (HHTYPE <= 3.5)\n",
      "       Predict: Own\n",
      "      Else (HHTYPE > 3.5)\n",
      "       Predict: Rent\n",
      "     Else (EDUC > 9.0)\n",
      "      If (CITIZEN <= 2.5)\n",
      "       Predict: Own\n",
      "      Else (CITIZEN > 2.5)\n",
      "       Predict: Rent\n",
      "\n"
     ]
    }
   ],
   "source": [
    "# Print the decision tree model\n",
    "\n",
    "# Mapping of features\n",
    "feature_mapping = {\n",
    "    0: \"AGE\",\n",
    "    1: \"MARST\",\n",
    "    2: \"RACE\",\n",
    "    3: \"CITIZEN\",\n",
    "    4: \"EDUC\",\n",
    "    5: \"CLASSWKR\",\n",
    "    6: \"NFAMS\",\n",
    "    7: \"FAMSIZE\",\n",
    "    8: \"GQ\",\n",
    "    9: \"STATEICP\",\n",
    "    10: \"CBPERNUM\",\n",
    "    11: \"YEAR\",\n",
    "    12: \"HHTYPE\"\n",
    "}\n",
    "# Mapping of predicted class \n",
    "class_mapping = {\n",
    "    0.0: \"Na\",\n",
    "    1.0: \"Own\",\n",
    "    2.0: \"Rent\"\n",
    "}\n",
    "\n",
    "# replace feature numbers and predicted class numbers with names and labels\n",
    "def convert_tree_structure(tree_structure):\n",
    "    lines = tree_structure.split(\"\\n\")\n",
    "    converted_lines = []\n",
    "    for line in lines:\n",
    "        for feature_num, feature_name in feature_mapping.items():\n",
    "            line = line.replace(f\"feature {feature_num} \", f\"{feature_name} \")\n",
    "            line = line.replace(f\"feature {feature_num}>\", f\"{feature_name}>\")\n",
    "            line = line.replace(f\"feature {feature_num}<=\", f\"{feature_name}<=\")\n",
    "        for class_num, class_label in class_mapping.items():\n",
    "            line = line.replace(f\"Predict: {class_num}\", f\"Predict: {class_label}\")\n",
    "        converted_lines.append(line)\n",
    "    return \"\\n\".join(converted_lines)\n",
    "\n",
    "tree_structure = model_2.toDebugString\n",
    "converted_tree_structure = convert_tree_structure(tree_structure)\n",
    "print(converted_tree_structure)"
   ]
  },
  {
   "cell_type": "markdown",
   "metadata": {},
   "source": [
    "### Evaluation of Decision Tree & Fitting Graph"
   ]
  },
  {
   "cell_type": "code",
   "execution_count": 81,
   "metadata": {},
   "outputs": [
    {
     "data": {
      "image/png": "[encoded data removed]",
      "text/plain": [
       "<Figure size 1000x600 with 1 Axes>"
      ]
     },
     "metadata": {},
     "output_type": "display_data"
    }
   ],
   "source": [
    "# Assuming result_df is already loaded\n",
    "new = result_df.filter(result_df.OWNERSHP != 0)\n",
    "\n",
    "# Define the feature columns\n",
    "feature_columns = [\"AGE\", \"MARST\", \"RACE\", \"CITIZEN\", \"EDUC\", \"CLASSWKR\", \"AFTOTINC\", \"NFAMS\", \"FAMSIZE\", \"GQ\", \"STATEICP\", \"CBPERNUM\", \"YEAR\", \"HHTYPE\"]\n",
    "\n",
    "# Assemble feature columns into a feature vector\n",
    "assembler = VectorAssembler(inputCols=feature_columns, outputCol=\"features\")\n",
    "\n",
    "# Transform features into feature Vector\n",
    "data = assembler.transform(new)\n",
    "\n",
    "# Split into train/test data\n",
    "combined_train, combined_test = data.randomSplit(weights=[0.8,0.2], seed=200)\n",
    "\n",
    "\n",
    "max_depths = range(1, 5)  \n",
    "\n",
    "#create empty list of training and testing errors for plotting\n",
    "train_errors = []\n",
    "test_errors = []\n",
    "\n",
    "# let us first define the Multiclass Classification Evaluator\n",
    "evaluator = MulticlassClassificationEvaluator(labelCol=\"OWNERSHP\", predictionCol=\"prediction\", metricName=\"accuracy\")\n",
    "\n",
    "for depth in max_depths:\n",
    "    # creating the Decision Tree model for current depth\n",
    "    dt = DecisionTreeClassifier(labelCol=\"OWNERSHP\", featuresCol=\"features\", maxDepth=depth)\n",
    "    \n",
    "    # fitting and training model\n",
    "    model = dt.fit(combined_train)\n",
    "\n",
    "    # calculating training error for current depth\n",
    "    train_predictions = model.transform(combined_train)\n",
    "    train_accuracy = evaluator.evaluate(train_predictions)\n",
    "    train_error = 1 - train_accuracy\n",
    "    train_errors.append(train_error)\n",
    "    \n",
    "    # calculating test error for current depth\n",
    "    test_predictions = model.transform(combined_test)\n",
    "    test_accuracy = evaluator.evaluate(test_predictions)\n",
    "    test_error = 1 - test_accuracy\n",
    "    test_errors.append(test_error)\n",
    "\n",
    "# Plot the training and test errors\n",
    "plt.figure(figsize=(10, 6))\n",
    "plt.plot(max_depths, train_errors, label='Training Error', color='red')\n",
    "plt.plot(max_depths, test_errors, label='Test Error', color='green')\n",
    "plt.xlabel('Model Complexity (Max Depth)')\n",
    "plt.ylabel('Error')\n",
    "plt.title('Fitting Graph for Decision Tree Model')\n",
    "plt.legend()\n",
    "plt.show()"
   ]
  },
  {
   "cell_type": "markdown",
   "metadata": {},
   "source": [
    "As the complexity (depth of trees) increases, we do get continue to see an increase in accuracy, however, it is trivial. We can see the best depth to pick is 2. After this, the marginal increase in accuracy is not worth it."
   ]
  }
 ],
 "metadata": {
  "kernelspec": {
   "display_name": "Python 3 (ipykernel)",
   "language": "python",
   "name": "python3"
  },
  "language_info": {
   "codemirror_mode": {
    "name": "ipython",
    "version": 3
   },
   "file_extension": ".py",
   "mimetype": "text/x-python",
   "name": "python",
   "nbconvert_exporter": "python",
   "pygments_lexer": "ipython3",
   "version": "3.10.11"
  }
 },
 "nbformat": 4,
 "nbformat_minor": 4
}
