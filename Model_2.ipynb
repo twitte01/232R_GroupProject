{
 "cells": [
  {
   "cell_type": "markdown",
   "metadata": {},
   "source": [
    "# Model 2\n",
    "### Project: Exploring Trends in US Happiness with Census Data\n",
    "Team Members: Taylor Witte, Donald Yu, Praveen Manimaran, Vitush Agarwal, Parker Aman\n",
    "\n",
    "UCSD Spring 2024 232R Big Data Analytics Using Spark \n"
   ]
  },
  {
   "cell_type": "markdown",
   "metadata": {},
   "source": [
    "## Enviroment Setup"
   ]
  },
  {
   "cell_type": "code",
   "execution_count": 1,
   "metadata": {},
   "outputs": [],
   "source": [
    "import numpy as np\n",
    "import pandas as pd\n",
    "import seaborn as sns\n",
    "import matplotlib.pyplot as plt\n",
    "import warnings\n",
    "import logging\n",
    "from pyspark.sql import SparkSession\n",
    "import pyspark.sql.functions as F\n",
    "from pyspark.sql.functions import col, element_at, udf\n",
    "from pyspark.sql.functions import explode\n",
    "from pyspark_dist_explore import Histogram, hist, distplot, pandas_histogram\n",
    "from pyspark.sql import Row\n",
    "from pyspark.sql.functions import sum as spark_sum\n",
    "from pyspark.sql.functions import when\n",
    "from pyspark.ml.feature import MinMaxScaler, VectorAssembler\n",
    "from pyspark.ml import Pipeline\n",
    "from sklearn.model_selection import train_test_split\n",
    "from pyspark.ml.functions import vector_to_array\n",
    "from pyspark.ml.feature import VectorAssembler, MinMaxScaler, PCA, PCAModel\n",
    "from pyspark.sql.types import ArrayType, DoubleType, NumericType\n",
    "from pyspark.ml.linalg import Vectors\n",
    "from pyspark.ml.clustering import KMeans\n",
    "from pyspark.ml.evaluation import ClusteringEvaluator\n",
    "import pylab as pl\n",
    "from pyspark.ml.classification import LogisticRegression\n",
    "from pyspark.ml.evaluation import BinaryClassificationEvaluator, MulticlassClassificationEvaluator\n",
    "from pyspark.ml.tuning import CrossValidator, ParamGridBuilder"
   ]
  },
  {
   "cell_type": "markdown",
   "metadata": {},
   "source": [
    "## Import Datasets"
   ]
  },
  {
   "cell_type": "markdown",
   "metadata": {},
   "source": [
    "### Import World Happiness Data"
   ]
  },
  {
   "cell_type": "code",
   "execution_count": 2,
   "metadata": {},
   "outputs": [
    {
     "name": "stderr",
     "output_type": "stream",
     "text": [
      "24/06/08 08:32:32 WARN Utils: Your hostname, Taylors-MacBook-Pro.local resolves to a loopback address: 127.0.0.1; using 192.168.4.60 instead (on interface en0)\n",
      "24/06/08 08:32:32 WARN Utils: Set SPARK_LOCAL_IP if you need to bind to another address\n",
      "Setting default log level to \"WARN\".\n",
      "To adjust logging level use sc.setLogLevel(newLevel). For SparkR, use setLogLevel(newLevel).\n",
      "24/06/08 08:32:33 WARN NativeCodeLoader: Unable to load native-hadoop library for your platform... using builtin-java classes where applicable\n"
     ]
    }
   ],
   "source": [
    "# Import necessary modules\n",
    "from pyspark.sql import SparkSession\n",
    "\n",
    "# Create a SparkSession object\n",
    "spark = SparkSession.builder \\\n",
    "    .appName(\"BigDataGroupProject\") \\\n",
    "    .config(\"spark.some.config.option\", \"some-value\") \\\n",
    "    .config(\"spark.executor.memory\", \"64g\") \\\n",
    "    .config(\"spark.driver.memory\", \"64g\") \\\n",
    "    .config(\"spark.memory.fraction\", \"0.8\") \\\n",
    "    .config(\"spark.memory.storageFraction\", \"0.3\") \\\n",
    "    .getOrCreate()\n",
    "\n",
    "sc = spark.sparkContext\n",
    "sc.setLogLevel(\"ERROR\")"
   ]
  },
  {
   "cell_type": "code",
   "execution_count": 3,
   "metadata": {},
   "outputs": [],
   "source": [
    "#World Happiness Data\n",
    "world_happiness = pd.read_csv(\"C:/Users/Parker Aman/dev/Dev_School/Big Data/Group Project/World Happiness Report.csv\")\n",
    "\n",
    "# Filter for USA & years of cencus data\n",
    "US_happiness =  world_happiness.loc[world_happiness['Country Name'] == 'United States']\n",
    "US_happiness = US_happiness[US_happiness.Year >= 2012]\n",
    "US_happiness = US_happiness[US_happiness.Year != 2020]\n"
   ]
  },
  {
   "cell_type": "code",
   "execution_count": 4,
   "metadata": {},
   "outputs": [
    {
     "data": {
      "text/html": [
       "<div>\n",
       "<style scoped>\n",
       "    .dataframe tbody tr th:only-of-type {\n",
       "        vertical-align: middle;\n",
       "    }\n",
       "\n",
       "    .dataframe tbody tr th {\n",
       "        vertical-align: top;\n",
       "    }\n",
       "\n",
       "    .dataframe thead th {\n",
       "        text-align: right;\n",
       "    }\n",
       "</style>\n",
       "<table border=\"1\" class=\"dataframe\">\n",
       "  <thead>\n",
       "    <tr style=\"text-align: right;\">\n",
       "      <th></th>\n",
       "      <th>Country Name</th>\n",
       "      <th>Year</th>\n",
       "      <th>Happiness_Index</th>\n",
       "      <th>Happiness_Rank</th>\n",
       "    </tr>\n",
       "  </thead>\n",
       "  <tbody>\n",
       "    <tr>\n",
       "      <th>1444</th>\n",
       "      <td>United States</td>\n",
       "      <td>2013</td>\n",
       "      <td>7.082</td>\n",
       "      <td>17</td>\n",
       "    </tr>\n",
       "    <tr>\n",
       "      <th>1445</th>\n",
       "      <td>United States</td>\n",
       "      <td>2015</td>\n",
       "      <td>7.119</td>\n",
       "      <td>15</td>\n",
       "    </tr>\n",
       "    <tr>\n",
       "      <th>1446</th>\n",
       "      <td>United States</td>\n",
       "      <td>2016</td>\n",
       "      <td>7.104</td>\n",
       "      <td>13</td>\n",
       "    </tr>\n",
       "    <tr>\n",
       "      <th>1447</th>\n",
       "      <td>United States</td>\n",
       "      <td>2017</td>\n",
       "      <td>6.993</td>\n",
       "      <td>14</td>\n",
       "    </tr>\n",
       "    <tr>\n",
       "      <th>1448</th>\n",
       "      <td>United States</td>\n",
       "      <td>2018</td>\n",
       "      <td>6.886</td>\n",
       "      <td>18</td>\n",
       "    </tr>\n",
       "    <tr>\n",
       "      <th>1449</th>\n",
       "      <td>United States</td>\n",
       "      <td>2019</td>\n",
       "      <td>6.892</td>\n",
       "      <td>19</td>\n",
       "    </tr>\n",
       "    <tr>\n",
       "      <th>1451</th>\n",
       "      <td>United States</td>\n",
       "      <td>2021</td>\n",
       "      <td>6.951</td>\n",
       "      <td>19</td>\n",
       "    </tr>\n",
       "    <tr>\n",
       "      <th>1452</th>\n",
       "      <td>United States</td>\n",
       "      <td>2022</td>\n",
       "      <td>6.977</td>\n",
       "      <td>16</td>\n",
       "    </tr>\n",
       "    <tr>\n",
       "      <th>1523</th>\n",
       "      <td>United States</td>\n",
       "      <td>2012</td>\n",
       "      <td>7.270</td>\n",
       "      <td>6</td>\n",
       "    </tr>\n",
       "  </tbody>\n",
       "</table>\n",
       "</div>"
      ],
      "text/plain": [
       "       Country Name  Year  Happiness_Index  Happiness_Rank\n",
       "1444  United States  2013            7.082              17\n",
       "1445  United States  2015            7.119              15\n",
       "1446  United States  2016            7.104              13\n",
       "1447  United States  2017            6.993              14\n",
       "1448  United States  2018            6.886              18\n",
       "1449  United States  2019            6.892              19\n",
       "1451  United States  2021            6.951              19\n",
       "1452  United States  2022            6.977              16\n",
       "1523  United States  2012            7.270               6"
      ]
     },
     "execution_count": 4,
     "metadata": {},
     "output_type": "execute_result"
    }
   ],
   "source": [
    "#World Happiness Results \n",
    "happiness_rank = pd.read_csv(\"C:/Users/Parker Aman/dev/Dev_School/Big Data/Group Project/World_Happiness_Index.csv\"\n",
    ")\n",
    "\n",
    "# Filter for USA & years of cencus data\n",
    "happiness_rank = happiness_rank.loc[happiness_rank['Country'] == 'United States']\n",
    "happiness_rank = happiness_rank[happiness_rank.Year != 2023]\n",
    "happiness_rank = happiness_rank[happiness_rank.Year != 2020]\n",
    "happiness_rank = happiness_rank.rename(columns={'Country': 'Country Name', 'Year':'Year','Index':'Happiness_Index',\n",
    "                       'Rank':'Happiness_Rank'})\n",
    "happiness_rank"
   ]
  },
  {
   "cell_type": "markdown",
   "metadata": {},
   "source": [
    "### Import Individual Census Data"
   ]
  },
  {
   "cell_type": "code",
   "execution_count": 3,
   "metadata": {},
   "outputs": [
    {
     "name": "stderr",
     "output_type": "stream",
     "text": [
      "                                                                                \r"
     ]
    },
    {
     "name": "stdout",
     "output_type": "stream",
     "text": [
      "root\n",
      " |-- YEAR: integer (nullable = true)\n",
      " |-- SAMPLE: integer (nullable = true)\n",
      " |-- SERIAL: integer (nullable = true)\n",
      " |-- CBSERIAL: long (nullable = true)\n",
      " |-- HHWT: double (nullable = true)\n",
      " |-- CLUSTER: long (nullable = true)\n",
      " |-- CPI99: double (nullable = true)\n",
      " |-- STRATA: integer (nullable = true)\n",
      " |-- GQ: integer (nullable = true)\n",
      " |-- PERNUM: integer (nullable = true)\n",
      " |-- CBPERNUM: integer (nullable = true)\n",
      " |-- PERWT: double (nullable = true)\n",
      " |-- FAMSIZE: integer (nullable = true)\n",
      " |-- SEX: integer (nullable = true)\n",
      " |-- AGE: integer (nullable = true)\n",
      " |-- MARST: integer (nullable = true)\n",
      " |-- RACE: integer (nullable = true)\n",
      " |-- RACED: integer (nullable = true)\n",
      " |-- CITIZEN: integer (nullable = true)\n",
      " |-- HCOVANY: integer (nullable = true)\n",
      " |-- SCHOOL: integer (nullable = true)\n",
      " |-- EDUC: integer (nullable = true)\n",
      " |-- EDUCD: integer (nullable = true)\n",
      " |-- SCHLTYPE: integer (nullable = true)\n",
      " |-- EMPSTAT: integer (nullable = true)\n",
      " |-- EMPSTATD: integer (nullable = true)\n",
      " |-- CLASSWKR: integer (nullable = true)\n",
      " |-- CLASSWKRD: integer (nullable = true)\n",
      " |-- UHRSWORK: integer (nullable = true)\n",
      " |-- LOOKING: integer (nullable = true)\n",
      " |-- POVERTY: integer (nullable = true)\n",
      " |-- AINCTOT: double (nullable = true)\n",
      " |-- AFTOTINC: double (nullable = true)\n",
      " |-- AINCWELFR: double (nullable = true)\n",
      " |-- AINCINVST: double (nullable = true)\n",
      "\n",
      "+----+------+------+--------+------+-------------+-----+------+---+------+--------+------+-------+---+---+-----+----+-----+-------+-------+------+----+-----+--------+-------+--------+--------+---------+--------+-------+-------+-----------+--------+---------+----------+\n",
      "|YEAR|SAMPLE|SERIAL|CBSERIAL|  HHWT|      CLUSTER|CPI99|STRATA| GQ|PERNUM|CBPERNUM| PERWT|FAMSIZE|SEX|AGE|MARST|RACE|RACED|CITIZEN|HCOVANY|SCHOOL|EDUC|EDUCD|SCHLTYPE|EMPSTAT|EMPSTATD|CLASSWKR|CLASSWKRD|UHRSWORK|LOOKING|POVERTY|    AINCTOT|AFTOTINC|AINCWELFR| AINCINVST|\n",
      "+----+------+------+--------+------+-------------+-----+------+---+------+--------+------+-------+---+---+-----+----+-----+-------+-------+------+----+-----+--------+-------+--------+--------+---------+--------+-------+-------+-----------+--------+---------+----------+\n",
      "|2012|201201|     1|      20|230.88|2012000000011|0.726|180001|  1|     1|       1|227.76|      4|  2| 36|    1|   2|  200|      0|      2|     1|   7|   71|       1|      1|      10|       2|       22|      40|      3|    260|    18150.0| 43560.0|      0.0|       0.0|\n",
      "|2012|201201|     1|      20|230.88|2012000000011|0.726|180001|  1|     2|       2| 140.4|      4|  1| 38|    1|   2|  200|      0|      2|     1|   5|   50|       1|      1|      10|       2|       22|      40|      3|    260|    25410.0| 43560.0|      0.0|       0.0|\n",
      "|2012|201201|     1|      20|230.88|2012000000011|0.726|180001|  1|     3|       3| 280.8|      4|  1| 16|    6|   2|  200|      0|      2|     2|   3|   30|       2|      3|      30|       0|        0|       0|      1|    260|        0.0| 43560.0|      0.0|       0.0|\n",
      "|2012|201201|     1|      20|230.88|2012000000011|0.726|180001|  1|     4|       4|205.92|      4|  1| 13|    6|   2|  200|      0|      2|     2|   2|   25|       2|      0|       0|       0|        0|       0|      0|    260|7259999.274| 43560.0|72599.274|725999.274|\n",
      "|2012|201201|     4|     124| 156.0|2012000000041|0.726| 40001|  1|     1|       1| 156.0|      4|  1| 41|    1|   1|  100|      0|      2|     1|  10|  101|       1|      1|      10|       2|       28|      45|      3|    501|    38478.0|100188.0|      0.0|       0.0|\n",
      "+----+------+------+--------+------+-------------+-----+------+---+------+--------+------+-------+---+---+-----+----+-----+-------+-------+------+----+-----+--------+-------+--------+--------+---------+--------+-------+-------+-----------+--------+---------+----------+\n",
      "only showing top 5 rows\n",
      "\n"
     ]
    }
   ],
   "source": [
    "#Import Individual Census Data \n",
    "\n",
    "# Define the path to the CSV file\n",
    "file_path = \"usa_00006.csv\"\n",
    " #change this to your own!!\n",
    "\n",
    "# Read the CSV file into a DataFrame\n",
    "df_id = spark.read.csv(file_path, header=True, inferSchema=True)\n",
    "\n",
    "#Normalize Monitary Values to 2000 with CPI99\n",
    "df_id = df_id.withColumn('AINCTOT', df_id.INCTOT * df_id.CPI99)\n",
    "df_id = df_id.withColumn('AFTOTINC', df_id.FTOTINC * df_id.CPI99)\n",
    "df_id = df_id.withColumn('AINCWELFR', df_id.INCWELFR * df_id.CPI99)\n",
    "df_id = df_id.withColumn('AINCINVST', df_id.INCINVST * df_id.CPI99)\n",
    "#df_id = df_id.withColumn('APOVERTY', df_id.POVERTY * df_id.CPI99)\n",
    "#Store raw monetary values\n",
    "raw_id = df_id.select('SAMPLE', 'CBSERIAL', 'INCTOT', 'FTOTINC', 'INCWELFR', 'INCINVST')\n",
    "#Remove raw monetary value from dataframe \n",
    "df_id = df_id.drop('INCTOT', 'FTOTINC', 'INCWELFR', 'INCINVST')\n",
    "\n",
    "# Show the schema of the DataFrame\n",
    "df_id.printSchema()\n",
    "\n",
    "# Show the first few rows of the DataFrame\n",
    "df_id.show(5)"
   ]
  },
  {
   "cell_type": "markdown",
   "metadata": {},
   "source": [
    "### Import Household Census Data"
   ]
  },
  {
   "cell_type": "code",
   "execution_count": 4,
   "metadata": {},
   "outputs": [
    {
     "name": "stderr",
     "output_type": "stream",
     "text": [
      "                                                                                \r"
     ]
    },
    {
     "name": "stdout",
     "output_type": "stream",
     "text": [
      "root\n",
      " |-- YEAR: integer (nullable = true)\n",
      " |-- SAMPLE: integer (nullable = true)\n",
      " |-- SERIAL: integer (nullable = true)\n",
      " |-- CBSERIAL: long (nullable = true)\n",
      " |-- HHWT: double (nullable = true)\n",
      " |-- HHTYPE: integer (nullable = true)\n",
      " |-- CLUSTER: long (nullable = true)\n",
      " |-- CPI99: double (nullable = true)\n",
      " |-- STATEICP: integer (nullable = true)\n",
      " |-- MET2023: integer (nullable = true)\n",
      " |-- STRATA: integer (nullable = true)\n",
      " |-- GQ: integer (nullable = true)\n",
      " |-- FARM: integer (nullable = true)\n",
      " |-- OWNERSHP: integer (nullable = true)\n",
      " |-- OWNERSHPD: integer (nullable = true)\n",
      " |-- TAXINCL: integer (nullable = true)\n",
      " |-- INSINCL: integer (nullable = true)\n",
      " |-- FOODSTMP: integer (nullable = true)\n",
      " |-- CINETHH: integer (nullable = true)\n",
      " |-- VEHICLES: integer (nullable = true)\n",
      " |-- COUPLETYPE: integer (nullable = true)\n",
      " |-- NFAMS: integer (nullable = true)\n",
      " |-- ARENTGRS: double (nullable = true)\n",
      " |-- ACONDOFEE: double (nullable = true)\n",
      " |-- AMOBLHOME: double (nullable = true)\n",
      " |-- AHHINCOME: double (nullable = true)\n",
      " |-- AVALUEH: double (nullable = true)\n",
      " |-- ACOSTELEC: double (nullable = true)\n",
      " |-- ACOSTGAS: double (nullable = true)\n",
      " |-- ACOSTWATR: double (nullable = true)\n",
      " |-- ACOSTFUEL: double (nullable = true)\n",
      "\n"
     ]
    },
    {
     "name": "stderr",
     "output_type": "stream",
     "text": [
      "                                                                                \r"
     ]
    },
    {
     "name": "stdout",
     "output_type": "stream",
     "text": [
      "+----+------+------+-------------+-------+------+-------------+-----+--------+-------+------+---+----+--------+---------+-------+-------+--------+-------+--------+----------+-----+--------+---------+------------------+------------------+------------------+------------------+------------------+------------------+------------------+\n",
      "|YEAR|SAMPLE|SERIAL|     CBSERIAL|   HHWT|HHTYPE|      CLUSTER|CPI99|STATEICP|MET2023|STRATA| GQ|FARM|OWNERSHP|OWNERSHPD|TAXINCL|INSINCL|FOODSTMP|CINETHH|VEHICLES|COUPLETYPE|NFAMS|ARENTGRS|ACONDOFEE|         AMOBLHOME|         AHHINCOME|           AVALUEH|         ACOSTELEC|          ACOSTGAS|         ACOSTWATR|         ACOSTFUEL|\n",
      "+----+------+------+-------------+-------+------+-------------+-----+--------+-------+------+---+----+--------+---------+-------+-------+--------+-------+--------+----------+-----+--------+---------+------------------+------------------+------------------+------------------+------------------+------------------+------------------+\n",
      "|2022|202201|  2923|2022010170212|  235.9|     0|2022000029231|0.569|      41|  33860|180101|  4|   1|       0|        0|      0|      0|       1|      0|       0|         0|    1|     0.0|      0.0|               0.0|       5689999.431|       5689999.431|               0.0|               0.0|               0.0|               0.0|\n",
      "|2022|202201|  3156|2022000001284| 117.95|     3|2022000031561|0.569|      41|  13820|140101|  1|   1|       1|       12|      0|      0|       2|      1|       4|         0|    1|     0.0|      0.0|               0.0|            1251.8|14224.999999999998|            955.92|204.83999999999997|449.50999999999993|227.59999999999997|\n",
      "|2022|202201|  3159|2022000001508| 330.26|     1|2022000031591|0.569|      41|  13820|140201|  1|   1|       1|       13|      2|      2|       1|      1|       2|         1|    1|     0.0|      0.0|               0.0|108109.99999999999|256049.99999999997|2662.9199999999996|          5686.017|22.759999999999998|          5686.017|\n",
      "|2022|202201|  3570|2022000028366| 360.59|     2|2022000035701|0.569|      41|      0|250001|  1|   1|       1|       12|      0|      0|       1|      1|       1|         0|    1|     0.0|      0.0|45.519999999999996|22759.999999999996|1991.4999999999998|1502.1599999999999|          5686.017|22.759999999999998|          5686.017|\n",
      "|2022|202201|  3813|2022000045986|1004.26|     3|2022000038131|0.569|      41|      0| 70001|  1|   1|       1|       13|      1|      2|       2|      1|       1|         0|    1|     0.0|      0.0|               0.0|13371.499999999998|           68280.0|           1297.32|          5686.017|            238.98|          5686.017|\n",
      "+----+------+------+-------------+-------+------+-------------+-----+--------+-------+------+---+----+--------+---------+-------+-------+--------+-------+--------+----------+-----+--------+---------+------------------+------------------+------------------+------------------+------------------+------------------+------------------+\n",
      "only showing top 5 rows\n",
      "\n"
     ]
    }
   ],
   "source": [
    "#Import Household Census Data \n",
    "\n",
    "# Define the path to the CSV file\n",
    "file_path = \"usa_00007.csv\" #change this to your own!!\n",
    "\n",
    "# Read the CSV file into a DataFrame\n",
    "df_hh = spark.read.csv(file_path, header=True, inferSchema=True)\n",
    "\n",
    "#Since rows represent individuals but we want households remove duplicates\n",
    "df_hh = df_hh.dropDuplicates()\n",
    "\n",
    "# Normalize monetary values to 2000 standard with CP199 multiplier\n",
    "df_hh = df_hh.withColumn('ARENTGRS', df_hh.RENTGRS * df_hh.CPI99)\n",
    "df_hh = df_hh.withColumn('ACONDOFEE', df_hh.CONDOFEE * df_hh.CPI99)\n",
    "df_hh = df_hh.withColumn('AMOBLHOME', df_hh.MOBLHOME * df_hh.CPI99)\n",
    "df_hh = df_hh.withColumn('AHHINCOME', df_hh.HHINCOME * df_hh.CPI99)\n",
    "df_hh = df_hh.withColumn('AVALUEH', df_hh.VALUEH * df_hh.CPI99)\n",
    "df_hh = df_hh.withColumn('ACOSTELEC', df_hh.COSTELEC * df_hh.CPI99)\n",
    "df_hh = df_hh.withColumn('ACOSTGAS', df_hh.COSTGAS * df_hh.CPI99)\n",
    "df_hh = df_hh.withColumn('ACOSTWATR', df_hh.COSTWATR * df_hh.CPI99)\n",
    "df_hh = df_hh.withColumn('ACOSTFUEL', df_hh.COSTFUEL * df_hh.CPI99)\n",
    "\n",
    "#Store raw monetary values\n",
    "raw_id = df_hh.select('SAMPLE', 'RENTGRS', 'CONDOFEE', 'MOBLHOME', 'HHINCOME',\n",
    "                       'VALUEH', 'COSTELEC', 'COSTGAS', 'COSTWATR', 'COSTFUEL')\n",
    "#Remove raw monetary value from dataframe \n",
    "df_hh = df_hh.drop('RENTGRS', 'CONDOFEE', 'MOBLHOME', 'HHINCOME',\n",
    "                    'VALUEH', 'COSTELEC', 'COSTGAS', 'COSTWATR', 'COSTFUEL')\n",
    "\n",
    "# Show the schema of the DataFrame\n",
    "df_hh.printSchema()\n",
    "\n",
    "# Show the first few rows of the DataFrame\n",
    "df_hh.show(5)"
   ]
  },
  {
   "cell_type": "markdown",
   "metadata": {},
   "source": [
    "### Combine Household and Individual Census Data (Preprocessed)"
   ]
  },
  {
   "cell_type": "code",
   "execution_count": 5,
   "metadata": {},
   "outputs": [],
   "source": [
    "## Preprocessing for Individual \n",
    "\n",
    "#LOOKING: combine not reported and n/a\n",
    "df_id = df_id.withColumn(\"LOOKING\", when(df_id[\"LOOKING\"] == 3, 0).otherwise(df_id[\"LOOKING\"])) \n",
    "#Group Quarters: Combine Household types and Group Quarter Types \n",
    "df_id = df_id.withColumn(\"GQ\", when(df_id[\"GQ\"] == 2, 1).when(df_id[\"GQ\"] == 5, 1).when(df_id[\"GQ\"] == 4, 3).otherwise(df_id[\"GQ\"]))\n",
    "\n",
    "#Remove Varaibles \n",
    "var_remove = ['SAMPLE', 'SERIAL', 'HHWT', 'PERNUM', 'CLUSTER', 'CPI99', 'STRATA',\n",
    "              'PERWT', 'RACED', 'EDUCD', 'EMPSTATD', 'CLASSWKRD']\n",
    "df_id = df_id.drop(*var_remove)\n"
   ]
  },
  {
   "cell_type": "code",
   "execution_count": 47,
   "metadata": {},
   "outputs": [],
   "source": [
    "## Preprocessing for Household \n",
    "#Group Quarters: Combine Household types and Group Quarter Types \n",
    "df_hh = df_hh.withColumn(\"GQ\", when(df_hh[\"GQ\"] == 2, 1).when(df_hh[\"GQ\"] == 5, 1).when(df_hh[\"GQ\"] == 4, 3).otherwise(df_hh[\"GQ\"]))\n",
    "#Household Types: combine NA and could not be determined\n",
    "df_hh = df_hh.withColumn(\"HHTYPE\", when(df_hh[\"HHTYPE\"] == 9, 0).otherwise(df_hh[\"HHTYPE\"]))\n",
    "#Fix CINETHH None values with Na encoded as 0 \n",
    "df_hh = df_hh.na.fill(value=0, subset=['CINETHH'])\n",
    "\n",
    "#Remove Varaibles \n",
    "var_remove = ['SAMPLE', 'SERIAL', 'HHWT', 'CLUSTER', 'CPI99', 'STRATA',\n",
    "              'MET2023', 'TAXINCL', 'INSINCL', 'COUPLETYPE']\n",
    "df_hh = df_hh.drop(*var_remove)\n",
    "\n",
    "# Create a new column for all Utilities by combining individual costs of gas, electricity, fuel, and water\n",
    "# and drop old columns\n",
    "\n",
    "df_hh = df_hh.withColumn('COSTUTIL', \n",
    "                         df_hh['ACOSTELEC'] + df_hh['ACOSTGAS'] + df_hh[\"ACOSTWATR\"] + df_hh['ACOSTFUEL'])\n",
    "\n",
    "df_hh = df_hh.drop('ACOSTELEC', 'ACOSTGAS', 'ACOSTWATR', 'ACOSTFUEL')"
   ]
  },
  {
   "cell_type": "code",
   "execution_count": 6,
   "metadata": {},
   "outputs": [
    {
     "name": "stderr",
     "output_type": "stream",
     "text": [
      "[Stage 28:====================================================>   (14 + 1) / 15]\r"
     ]
    },
    {
     "name": "stdout",
     "output_type": "stream",
     "text": [
      "+----+-------+\n",
      "|YEAR|  count|\n",
      "+----+-------+\n",
      "|2018|1000701|\n",
      "|2015|1002140|\n",
      "|2022|1000453|\n",
      "|2013|1001492|\n",
      "|2014|1000578|\n",
      "|2019| 999725|\n",
      "|2012| 997299|\n",
      "|2016| 997981|\n",
      "|2017|1000345|\n",
      "|2021| 999712|\n",
      "+----+-------+\n",
      "\n"
     ]
    },
    {
     "name": "stderr",
     "output_type": "stream",
     "text": [
      "                                                                                \r"
     ]
    }
   ],
   "source": [
    "# Test Combining Individual & Household Data \n",
    "df_h = df_hh.drop('GQ') #drop duplicate columns \n",
    "result_df = df_id.join(df_h, on=[\"CBSERIAL\",\"YEAR\"], how=\"left\")\n",
    "result_df = result_df.dropDuplicates()\n",
    "result_df.count()\n",
    "#result_df.printSchema()\n",
    "from pyspark.sql.functions import count\n",
    "result_df.groupBy(\"YEAR\").agg(count(\"*\").alias(\"count\")).show()"
   ]
  },
  {
   "cell_type": "code",
   "execution_count": 41,
   "metadata": {},
   "outputs": [
    {
     "name": "stderr",
     "output_type": "stream",
     "text": [
      "[Stage 291:>                                                        (0 + 1) / 1]\r"
     ]
    },
    {
     "name": "stdout",
     "output_type": "stream",
     "text": [
      "+--------+----+------+-------+------+-------------+-----+-------+---+------+--------+------+-------+---+---+-----+----+-----+-------+-------+------+----+-----+--------+-------+--------+--------+---------+--------+-------+-------+------------------+------------------+---------+----------+------+-------+------+------+-------------+-----+--------+-------+-------+----+--------+---------+-------+-------+--------+-------+--------+----------+-----+--------+---------+---------+------------------+-----------+------------------+--------+---------+---------+\n",
      "|CBSERIAL|YEAR|SAMPLE| SERIAL|  HHWT|      CLUSTER|CPI99| STRATA| GQ|PERNUM|CBPERNUM| PERWT|FAMSIZE|SEX|AGE|MARST|RACE|RACED|CITIZEN|HCOVANY|SCHOOL|EDUC|EDUCD|SCHLTYPE|EMPSTAT|EMPSTATD|CLASSWKR|CLASSWKRD|UHRSWORK|LOOKING|POVERTY|           AINCTOT|          AFTOTINC|AINCWELFR| AINCINVST|SAMPLE| SERIAL|  HHWT|HHTYPE|      CLUSTER|CPI99|STATEICP|MET2023| STRATA|FARM|OWNERSHP|OWNERSHPD|TAXINCL|INSINCL|FOODSTMP|CINETHH|VEHICLES|COUPLETYPE|NFAMS|ARENTGRS|ACONDOFEE|AMOBLHOME|         AHHINCOME|    AVALUEH|         ACOSTELEC|ACOSTGAS|ACOSTWATR|ACOSTFUEL|\n",
      "+--------+----+------+-------+------+-------------+-----+-------+---+------+--------+------+-------+---+---+-----+----+-----+-------+-------+------+----+-----+--------+-------+--------+--------+---------+--------+-------+-------+------------------+------------------+---------+----------+------+-------+------+------+-------------+-----+--------+-------+-------+----+--------+---------+-------+-------+--------+-------+--------+----------+-----+--------+---------+---------+------------------+-----------+------------------+--------+---------+---------+\n",
      "|     135|2012|201201|  66335| 249.6|2012000663351|0.726| 731506|  4|     1|       1| 249.6|      1|  2| 20|    6|   1|  100|      0|      2|     2|   7|   71|       3|      3|      30|       0|        0|       0|      1|      0|               0.0|       7259999.274|      0.0|       0.0|201201|  66335| 249.6|     0|2012000663351|0.726|      71|   NULL| 731506|   1|       0|        0|      0|      0|       1|   NULL|       0|      NULL|    1|     0.0|      0.0|      0.0|       7259999.274|7259999.274|               0.0|     0.0|      0.0|      0.0|\n",
      "|     192|2012|201201|1020984| 68.64|2012010209841|0.726| 280342|  3|     1|       1| 68.64|      1|  2| 83|    5|   1|  100|      0|      2|     1|   6|   63|       1|      3|      30|       0|        0|       0|      3|      0| 7332.599999999999|       7259999.274|      0.0|       0.0|201201|1020984| 68.64|     0|2012010209841|0.726|      14|   NULL| 280342|   1|       0|        0|      0|      0|       1|   NULL|       0|      NULL|    1|     0.0|      0.0|      0.0|       7259999.274|7259999.274|               0.0|     0.0|      0.0|      0.0|\n",
      "|     220|2012|201201|  66342| 374.4|2012000663421|0.726| 590106|  1|     1|       1|377.52|      3|  2| 37|    1|   1|  100|      1|      2|     1|  10|  101|       1|      1|      10|       1|       13|      10|      3|    501|            2904.0|299765.39999999997|      0.0|       0.0|201201|  66342| 374.4|     1|2012000663421|0.726|      71|   NULL| 590106|   1|       1|       12|      0|      0|       1|   NULL|       3|      NULL|    1|     0.0|      0.0|      0.0|299765.39999999997|   689700.0|           1045.44|  609.84|    290.4| 7254.918|\n",
      "|     220|2012|201201|  66342| 374.4|2012000663421|0.726| 590106|  1|     2|       2|365.04|      3|  1| 45|    1|   1|  100|      2|      2|     1|  11|  114|       1|      1|      10|       2|       22|      50|      2|    501|296861.39999999997|299765.39999999997|      0.0|    4283.4|201201|  66342| 374.4|     1|2012000663421|0.726|      71|   NULL| 590106|   1|       1|       12|      0|      0|       1|   NULL|       3|      NULL|    1|     0.0|      0.0|      0.0|299765.39999999997|   689700.0|           1045.44|  609.84|    290.4| 7254.918|\n",
      "|     220|2012|201201|  66342| 374.4|2012000663421|0.726| 590106|  1|     3|       3|399.36|      3|  2|  2|    6|   1|  100|      0|      2|     0|   0|    1|       0|      0|       0|       0|        0|       0|      0|    501|       7259999.274|299765.39999999997|72599.274|725999.274|201201|  66342| 374.4|     1|2012000663421|0.726|      71|   NULL| 590106|   1|       1|       12|      0|      0|       1|   NULL|       3|      NULL|    1|     0.0|      0.0|      0.0|299765.39999999997|   689700.0|           1045.44|  609.84|    290.4| 7254.918|\n",
      "|     263|2012|201201|1292561|  46.8|2012012925611|0.726|1100053|  1|     1|       1| 49.92|      1|  2| 71|    4|   1|  100|      0|      2|     1|   6|   64|       1|      3|      30|       0|        0|       0|      1|     92|            7260.0|            7260.0|      0.0|       0.0|201201|1292561|  46.8|     6|2012012925611|0.726|      73|   NULL|1100053|   1|       1|       12|      0|      0|       1|   NULL|       1|      NULL|    1|     0.0|      0.0|      0.0|            7260.0|    54450.0|           1132.56|7254.918| 7254.918| 7254.918|\n",
      "|     290|2012|201201| 257863|271.44|2012002578631|0.726| 310412|  1|     1|       1|271.44|      4|  2| 37|    1|   1|  100|      0|      2|     1|  10|  101|       1|      1|      10|       2|       22|      45|      3|    501|           40656.0|           85668.0|      0.0|       0.0|201201| 257863|271.44|     1|2012002578631|0.726|      43|   NULL| 310412|   1|       2|       22|      0|      0|       1|   NULL|       2|      NULL|    1|1539.846|      0.0|      0.0|           85668.0|7259999.274|3484.7999999999997|7254.918|    181.5| 7254.918|\n",
      "|     290|2012|201201| 257863|271.44|2012002578631|0.726| 310412|  1|     2|       2|308.88|      4|  1| 37|    1|   1|  100|      0|      2|     1|  10|  101|       1|      1|      10|       2|       22|      50|      3|    501|           45012.0|           85668.0|      0.0|       0.0|201201| 257863|271.44|     1|2012002578631|0.726|      43|   NULL| 310412|   1|       2|       22|      0|      0|       1|   NULL|       2|      NULL|    1|1539.846|      0.0|      0.0|           85668.0|7259999.274|3484.7999999999997|7254.918|    181.5| 7254.918|\n",
      "|     290|2012|201201| 257863|271.44|2012002578631|0.726| 310412|  1|     3|       3|377.52|      4|  1|  4|    6|   1|  100|      0|      2|     1|   0|    2|       1|      0|       0|       0|        0|       0|      0|    501|       7259999.274|           85668.0|72599.274|725999.274|201201| 257863|271.44|     1|2012002578631|0.726|      43|   NULL| 310412|   1|       2|       22|      0|      0|       1|   NULL|       2|      NULL|    1|1539.846|      0.0|      0.0|           85668.0|7259999.274|3484.7999999999997|7254.918|    181.5| 7254.918|\n",
      "|     290|2012|201201| 257863|271.44|2012002578631|0.726| 310412|  1|     4|       4|377.52|      4|  1|  1|    6|   1|  100|      0|      2|     0|   0|    1|       0|      0|       0|       0|        0|       0|      0|    501|       7259999.274|           85668.0|72599.274|725999.274|201201| 257863|271.44|     1|2012002578631|0.726|      43|   NULL| 310412|   1|       2|       22|      0|      0|       1|   NULL|       2|      NULL|    1|1539.846|      0.0|      0.0|           85668.0|7259999.274|3484.7999999999997|7254.918|    181.5| 7254.918|\n",
      "+--------+----+------+-------+------+-------------+-----+-------+---+------+--------+------+-------+---+---+-----+----+-----+-------+-------+------+----+-----+--------+-------+--------+--------+---------+--------+-------+-------+------------------+------------------+---------+----------+------+-------+------+------+-------------+-----+--------+-------+-------+----+--------+---------+-------+-------+--------+-------+--------+----------+-----+--------+---------+---------+------------------+-----------+------------------+--------+---------+---------+\n",
      "only showing top 10 rows\n",
      "\n"
     ]
    },
    {
     "name": "stderr",
     "output_type": "stream",
     "text": [
      "                                                                                \r"
     ]
    }
   ],
   "source": [
    "result_df.show(10)"
   ]
  },
  {
   "cell_type": "markdown",
   "metadata": {},
   "source": [
    "### Split test/train data"
   ]
  },
  {
   "cell_type": "code",
   "execution_count": null,
   "metadata": {},
   "outputs": [
    {
     "data": {
      "text/plain": [
       "DataFrame[YEAR: double, HHTYPE: double, STATEICP: double, GQ: double, FARM: double, OWNERSHP: double, OWNERSHPD: double, FOODSTMP: double, CINETHH: double, VEHICLES: double, NFAMS: double, ARENTGRS: double, ACONDOFEE: double, AMOBLHOME: double, AHHINCOME: double, AVALUEH: double, COSTUTIL: double, features: vector]"
      ]
     },
     "execution_count": 57,
     "metadata": {},
     "output_type": "execute_result"
    }
   ],
   "source": [
    "# Split datasets into train and test\n",
    "\n",
    "id_norm_train, id_norm_test = id_norm.randomSplit(weights=[0.8,0.2], seed=200)\n",
    "hh_norm_train, hh_norm_test = hh_norm.randomSplit(weights=[0.8,0.2], seed=200)\n"
   ]
  },
  {
   "cell_type": "markdown",
   "metadata": {},
   "source": [
    "## Household Decision Tree"
   ]
  },
  {
   "cell_type": "code",
   "execution_count": 12,
   "metadata": {},
   "outputs": [],
   "source": [
    "#Split unnormalized data \n",
    "hh_train, hh_test = df_hhN.randomSplit(weights=[0.8,0.2], seed=200)"
   ]
  },
  {
   "cell_type": "code",
   "execution_count": 13,
   "metadata": {},
   "outputs": [],
   "source": [
    "from pyspark.ml.classification import DecisionTreeClassifier\n",
    "from pyspark.ml.evaluation import MulticlassClassificationEvaluator\n",
    "from pyspark.ml.tuning import CrossValidator, ParamGridBuilder"
   ]
  },
  {
   "cell_type": "code",
   "execution_count": 14,
   "metadata": {},
   "outputs": [
    {
     "name": "stdout",
     "output_type": "stream",
     "text": [
      "0\n",
      "2757352\n"
     ]
    }
   ],
   "source": [
    "print(df_hhN.filter((col(\"OWNERSHP\") == 1) & (col(\"ARENTGRS\") > 0)).count())\n",
    "print(df_hhN.filter((col(\"OWNERSHP\") == 1) & (col(\"ARENTGRS\") == 0)).count())"
   ]
  },
  {
   "cell_type": "markdown",
   "metadata": {},
   "source": [
    "Adjusted gross rent will be removed since it is not collected for owned homes. "
   ]
  },
  {
   "cell_type": "code",
   "execution_count": 15,
   "metadata": {},
   "outputs": [],
   "source": [
    "features = hh_train.columns\n",
    "features.remove(\"OWNERSHPD\")\n",
    "features.remove(\"OWNERSHP\")\n",
    "features.remove('ARENTGRS')"
   ]
  },
  {
   "cell_type": "code",
   "execution_count": 16,
   "metadata": {},
   "outputs": [],
   "source": [
    "assembler = VectorAssembler(inputCols=features, outputCol=\"features\")\n",
    "data = assembler.transform(hh_train)\n",
    "dt_classifier = DecisionTreeClassifier(labelCol=\"OWNERSHP\", featuresCol=\"features\")\n",
    "model = dt_classifier.fit(data)"
   ]
  },
  {
   "cell_type": "code",
   "execution_count": null,
   "metadata": {},
   "outputs": [
    {
     "name": "stderr",
     "output_type": "stream",
     "text": [
      "[Stage 198:==================================================>    (12 + 1) / 13]\r"
     ]
    },
    {
     "name": "stdout",
     "output_type": "stream",
     "text": [
      "Test Accuracy: 0.9990159327876406\n"
     ]
    },
    {
     "name": "stderr",
     "output_type": "stream",
     "text": [
      "                                                                                \r"
     ]
    }
   ],
   "source": [
    "#predictions_train = model.transform(data)\n",
    "test_data = assembler.transform(hh_test)\n",
    "predictions_test = model.transform(test_data)\n",
    "\n",
    "from pyspark.ml.evaluation import MulticlassClassificationEvaluator\n",
    "\n",
    "evaluator = MulticlassClassificationEvaluator(labelCol=\"OWNERSHP\", predictionCol=\"prediction\", metricName=\"accuracy\")\n",
    "\n",
    "#accuracy_train = evaluator.evaluate(predictions_train)\n",
    "accuracy_test = evaluator.evaluate(predictions_test)\n",
    "\n",
    "#print(f\"Training Accuracy: {accuracy_train}\")\n",
    "print(f\"Test Accuracy: {accuracy_test}\")"
   ]
  },
  {
   "cell_type": "code",
   "execution_count": null,
   "metadata": {},
   "outputs": [
    {
     "name": "stdout",
     "output_type": "stream",
     "text": [
      "Feature 'YEAR': 0.02\n",
      "Feature 'HHTYPE': 0.00\n",
      "Feature 'STATEICP': 0.00\n",
      "Feature 'GQ': 0.29\n",
      "Feature 'FARM': 0.00\n",
      "Feature 'FOODSTMP': 0.00\n",
      "Feature 'CINETHH': 0.00\n",
      "Feature 'VEHICLES': 0.00\n",
      "Feature 'NFAMS': 0.00\n",
      "Feature 'ACONDOFEE': 0.00\n",
      "Feature 'AMOBLHOME': 0.00\n",
      "Feature 'AHHINCOME': 0.00\n",
      "Feature 'AVALUEH': 0.69\n",
      "Feature 'COSTUTIL': 0.00\n"
     ]
    }
   ],
   "source": [
    "feature_importance = model.featureImportances.toArray()\n",
    "\n",
    "# Show feature importance\n",
    "for i, column in enumerate(assembler.getInputCols()):\n",
    "    print(f\"Feature '{column}': {feature_importance[i]:.2f}\")"
   ]
  },
  {
   "cell_type": "code",
   "execution_count": null,
   "metadata": {},
   "outputs": [],
   "source": [
    "#print(tree_structure)"
   ]
  },
  {
   "cell_type": "code",
   "execution_count": null,
   "metadata": {},
   "outputs": [
    {
     "name": "stdout",
     "output_type": "stream",
     "text": [
      "DecisionTreeClassificationModel: uid=DecisionTreeClassifier_22f4e8275e1b, depth=4, numNodes=9, numClasses=3, numFeatures=14\n",
      "  If (HOUSE_VALUE <= 1243301.0)\n",
      "   Predict: Own\n",
      "  Else (HOUSE_VALUE > 1243301.0)\n",
      "   If (GROUP_QUARTERS <= 2.0)\n",
      "    If (HOUSE_VALUE <= 5919999.408)\n",
      "     If (YEAR <= 2021.5)\n",
      "      Predict: Own\n",
      "     Else (YEAR > 2021.5)\n",
      "      Predict: Rent\n",
      "    Else (HOUSE_VALUE > 5919999.408)\n",
      "     Predict: Rent\n",
      "   Else (GROUP_QUARTERS > 2.0)\n",
      "    Predict: Na\n",
      "\n"
     ]
    }
   ],
   "source": [
    "# Mapping of features\n",
    "feature_mapping = {\n",
    "    0: \"YEAR\",\n",
    "    1: \"HHTYPE\",\n",
    "    2: \"STATEICP\",\n",
    "    3: \"GROUP_QUARTERS\",\n",
    "    4: \"FARM\",\n",
    "    5: \"FOODSTMP\",\n",
    "    6: \"CINETHH\",\n",
    "    7: \"VEHICLES\",\n",
    "    8: \"NFAMS\",\n",
    "    9: \"ACONDOFEE\",\n",
    "    10: \"AMOBLHOME\",\n",
    "    11: \"AHHINCOME\",\n",
    "    12: \"HOUSE_VALUE\",\n",
    "    13: \"COSTUTIL\"\n",
    "}\n",
    "# Mapping of predicted class \n",
    "class_mapping = {\n",
    "    0.0: \"Na\",\n",
    "    1.0: \"Own\",\n",
    "    2.0: \"Rent\"\n",
    "}\n",
    "\n",
    "# replace feature numbers and predicted class numbers with names and labels\n",
    "def convert_tree_structure(tree_structure):\n",
    "    lines = tree_structure.split(\"\\n\")\n",
    "    converted_lines = []\n",
    "    for line in lines:\n",
    "        for feature_num, feature_name in feature_mapping.items():\n",
    "            line = line.replace(f\"feature {feature_num} \", f\"{feature_name} \")\n",
    "            line = line.replace(f\"feature {feature_num}>\", f\"{feature_name}>\")\n",
    "            line = line.replace(f\"feature {feature_num}<=\", f\"{feature_name}<=\")\n",
    "        for class_num, class_label in class_mapping.items():\n",
    "            line = line.replace(f\"Predict: {class_num}\", f\"Predict: {class_label}\")\n",
    "        converted_lines.append(line)\n",
    "    return \"\\n\".join(converted_lines)\n",
    "\n",
    "tree_structure = model.toDebugString\n",
    "converted_tree_structure = convert_tree_structure(tree_structure)\n",
    "print(converted_tree_structure)\n"
   ]
  },
  {
   "cell_type": "code",
   "execution_count": null,
   "metadata": {},
   "outputs": [
    {
     "name": "stdout",
     "output_type": "stream",
     "text": [
      "Percent Rented: 26.23318411158071\n"
     ]
    },
    {
     "name": "stderr",
     "output_type": "stream",
     "text": [
      "[Stage 226:==================================================>    (12 + 1) / 13]\r"
     ]
    },
    {
     "name": "stdout",
     "output_type": "stream",
     "text": [
      "Percent Group Quarters: 10.946809176284548\n"
     ]
    },
    {
     "name": "stderr",
     "output_type": "stream",
     "text": [
      "                                                                                \r"
     ]
    }
   ],
   "source": [
    "#rent = hh_test.filter(col(\"OWNERSHP\") == 2).count()\n",
    "#total = hh_test.count()\n",
    "print(\"Percent Rented:\", (rent/total)*100)\n",
    "gc = hh_test.filter(col(\"GQ\") > 2).count()\n",
    "print(\"Percent Group Quarters:\", (gc/total)*100)"
   ]
  },
  {
   "cell_type": "markdown",
   "metadata": {},
   "source": [
    "The decision tree was able to predict with 99% accuracy whether a house was owned or rented based on the four variables. First group quarters were excluded since they are neither rented or owned. Then ownership was predicted based on house value and year."
   ]
  },
  {
   "cell_type": "markdown",
   "metadata": {},
   "source": [
    "# Model 2"
   ]
  },
  {
   "cell_type": "markdown",
   "metadata": {},
   "source": [
    "## Decision Tree Evalutaion and Fitting Graph"
   ]
  },
  {
   "cell_type": "code",
   "execution_count": 22,
   "metadata": {},
   "outputs": [
    {
     "data": {
      "image/png": "[encoded data removed]",
      "text/plain": [
       "<Figure size 1000x600 with 1 Axes>"
      ]
     },
     "metadata": {},
     "output_type": "display_data"
    }
   ],
   "source": [
    "train_data = assembler.transform(hh_train)\n",
    "test_data = assembler.transform(hh_test)\n",
    "\n",
    "from pyspark.ml.classification import DecisionTreeClassifier\n",
    "from pyspark.ml.evaluation import MulticlassClassificationEvaluator\n",
    "import matplotlib.pyplot as plt\n",
    "\n",
    "# we can adjust the depth, but since it is a simple model we can start small first and adjust later\n",
    "max_depths = range(1, 5)  \n",
    "\n",
    "#create empty list of training and testing errors for plotting\n",
    "train_errors = []\n",
    "test_errors = []\n",
    "\n",
    "# let us first define the Multiclass Classification Evaluator\n",
    "evaluator = MulticlassClassificationEvaluator(labelCol=\"OWNERSHP\", predictionCol=\"prediction\", metricName=\"accuracy\")\n",
    "\n",
    "for depth in max_depths:\n",
    "    # creating the Decision Tree model for current depth\n",
    "    dt_classifier = DecisionTreeClassifier(labelCol=\"OWNERSHP\", featuresCol=\"features\", maxDepth=depth)\n",
    "    \n",
    "    # fitting and training model\n",
    "    model = dt_classifier.fit(train_data)\n",
    "    \n",
    "    # calculating training error for current depth\n",
    "    train_predictions = model.transform(train_data)\n",
    "    train_accuracy = evaluator.evaluate(train_predictions)\n",
    "    train_error = 1 - train_accuracy\n",
    "    train_errors.append(train_error)\n",
    "    \n",
    "    # calculating test error for current depth\n",
    "    test_predictions = model.transform(test_data)\n",
    "    test_accuracy = evaluator.evaluate(test_predictions)\n",
    "    test_error = 1 - test_accuracy\n",
    "    test_errors.append(test_error)\n",
    "\n",
    "# Plot the training and test errors\n",
    "plt.figure(figsize=(10, 6))\n",
    "plt.plot(max_depths, train_errors, label='Training Error', color='red')\n",
    "plt.plot(max_depths, test_errors, label='Test Error', color='green')\n",
    "plt.xlabel('Model Complexity (Max Depth)')\n",
    "plt.ylabel('Error')\n",
    "plt.title('Fitting Graph for Decision Tree Model')\n",
    "plt.legend()\n",
    "plt.show()"
   ]
  },
  {
   "cell_type": "markdown",
   "metadata": {},
   "source": [
    "The training error and test error seem to be very consistent. This could be because the model is very simple and converges quickly. We will look into this more as we take our next steps."
   ]
  },
  {
   "cell_type": "code",
   "execution_count": 15,
   "metadata": {},
   "outputs": [
    {
     "name": "stdout",
     "output_type": "stream",
     "text": [
      "+----+------+------+-------------+-------+------+-------------+-----+--------+-------+------+---+----+--------+---------+-------+-------+--------+-------+--------+----------+-----+------------------+---------+------------------+------------------+------------------+------------------+------------------+------------------+------------------+\n",
      "|YEAR|SAMPLE|SERIAL|     CBSERIAL|   HHWT|HHTYPE|      CLUSTER|CPI99|STATEICP|MET2023|STRATA| GQ|FARM|OWNERSHP|OWNERSHPD|TAXINCL|INSINCL|FOODSTMP|CINETHH|VEHICLES|COUPLETYPE|NFAMS|          ARENTGRS|ACONDOFEE|         AMOBLHOME|         AHHINCOME|           AVALUEH|         ACOSTELEC|          ACOSTGAS|         ACOSTWATR|         ACOSTFUEL|\n",
      "+----+------+------+-------------+-------+------+-------------+-----+--------+-------+------+---+----+--------+---------+-------+-------+--------+-------+--------+----------+-----+------------------+---------+------------------+------------------+------------------+------------------+------------------+------------------+------------------+\n",
      "|2022|202201|  2923|2022010170212|  235.9|     0|2022000029231|0.569|      41|  33860|180101|  4|   1|       0|        0|      0|      0|       1|      0|       0|         0|    1|               0.0|      0.0|               0.0|       5689999.431|       5689999.431|               0.0|               0.0|               0.0|               0.0|\n",
      "|2022|202201|  3156|2022000001284| 117.95|     3|2022000031561|0.569|      41|  13820|140101|  1|   1|       1|       12|      0|      0|       2|      1|       4|         0|    1|               0.0|      0.0|               0.0|            1251.8|14224.999999999998|            955.92|204.83999999999997|449.50999999999993|227.59999999999997|\n",
      "|2022|202201|  3159|2022000001508| 330.26|     1|2022000031591|0.569|      41|  13820|140201|  1|   1|       1|       13|      2|      2|       1|      1|       2|         1|    1|               0.0|      0.0|               0.0|108109.99999999999|256049.99999999997|2662.9199999999996|          5686.017|22.759999999999998|          5686.017|\n",
      "|2022|202201|  3570|2022000028366| 360.59|     2|2022000035701|0.569|      41|      0|250001|  1|   1|       1|       12|      0|      0|       1|      1|       1|         0|    1|               0.0|      0.0|45.519999999999996|22759.999999999996|1991.4999999999998|1502.1599999999999|          5686.017|22.759999999999998|          5686.017|\n",
      "|2022|202201|  3813|2022000045986|1004.26|     3|2022000038131|0.569|      41|      0| 70001|  1|   1|       1|       13|      1|      2|       2|      1|       1|         0|    1|               0.0|      0.0|               0.0|13371.499999999998|           68280.0|           1297.32|          5686.017|            238.98|          5686.017|\n",
      "|2022|202201|  4069|2022000063889|  70.77|     3|2022000040691|0.569|      41|      0|260001|  1|   1|       2|       22|      0|      0|       2|      1|       1|         0|    1|           351.073|      0.0|               0.0|               0.0|       5689999.431|2048.3999999999996|          5686.017|113.79999999999998|          5686.017|\n",
      "|2022|202201|  4146|2022000070002|  37.07|     1|2022000041461|0.569|      41|  20020|230001|  1|   1|       2|       21|      0|      0|       1|      2|       2|         1|    1|               0.0|      0.0|               0.0|18094.199999999997|       5689999.431|2662.9199999999996|          5686.017|409.67999999999995|          5686.017|\n",
      "|2022|202201|  5585|2022000165028| 394.29|     9|2022000055851|0.569|      41|  26620| 40201|  1|   1|       2|       22|      0|      0|       1|      1|       2|         3|    1|           803.997|      0.0|               0.0| 91039.99999999999|       5689999.431| 751.0799999999999|          5686.017|             17.07|          5686.017|\n",
      "|2022|202201|  5596|2022000165548| 239.27|     1|2022000055961|0.569|      41|      0|200001|  1|   1|       1|       12|      0|      0|       2|      1|       2|         1|    1|               0.0|      0.0|               0.0|14793.999999999998| 51209.99999999999|            1365.6|          5686.017|398.29999999999995|          5686.017|\n",
      "|2022|202201|  7759|2022000311932| 310.04|     2|2022000077591|0.569|      41|      0|260001|  1|   1|       1|       12|      0|      0|       1|      3|       3|         0|    1|               0.0|      0.0|             73.97|60370.899999999994|3982.9999999999995|            1365.6|          5686.017|            176.39|          5686.017|\n",
      "|2022|202201|  8265|2022000348235|  674.0|     2|2022000082651|0.569|      41|      0|100001|  1|   1|       2|       22|      0|      0|       1|      1|       1|         0|    1| 628.1759999999999|      0.0|               0.0|               0.0|       5689999.431|2048.3999999999996|          5686.017|28.449999999999996|          5686.017|\n",
      "|2022|202201|  8298|2022000349925| 296.56|     1|2022000082981|0.569|      41|      0| 10001|  1|   1|       2|       22|      0|      0|       1|      1|       1|         1|    1|201.99499999999998|      0.0|               0.0|20256.399999999998|       5689999.431|            955.92|          5686.017|102.41999999999999|          5686.017|\n",
      "|2022|202201|  9040|2022000404857|  235.9|     1|2022000090401|0.569|      41|      0| 70001|  1|   1|       1|       13|      2|      2|       1|      1|       2|         1|    1|               0.0|      0.0|               0.0|           55420.6|170699.99999999997|           2321.52|            136.56|             39.83|          5686.017|\n",
      "|2022|202201|  9515|2022000434812| 198.83|     1|2022000095151|0.569|      41|      0|260001|  1|   1|       1|       12|      0|      0|       1|      1|       4|         1|    1|               0.0|      0.0|               0.0|          66817.67| 45519.99999999999|           1911.84|             341.4|            557.62|          5686.017|\n",
      "|2022|202201| 10256|2022000486142| 744.77|     2|2022000102561|0.569|      41|      0| 50101|  1|   1|       1|       13|      2|      2|       1|      1|       2|         0|    1|               0.0|      0.0|               0.0|           20597.8|170699.99999999997|1024.1999999999998|          5686.017|             170.7|          5686.017|\n",
      "|2022|202201| 10523|2022000504549| 131.43|     1|2022000105231|0.569|      41|      0|100001|  1|   2|       1|       12|      0|      0|       1|      1|       4|         1|    1|               0.0|      0.0|               0.0|           42618.1|1559059.9999999998|           1160.76|204.83999999999997|            546.24|          5686.017|\n",
      "|2022|202201| 12083|2022000610692|  43.81|     6|2022000120831|0.569|      41|      0| 60001|  1|   1|       1|       12|      0|      0|       1|      3|       9|         0|    1|               0.0|      0.0|               0.0| 9331.599999999999|           40399.0|            614.52|          5686.017|250.35999999999999|          5686.017|\n",
      "|2022|202201| 12113|2022000612083|  47.18|     1|2022000121131|0.569|      41|  13820|130101|  1|   1|       1|       12|      0|      0|       1|      1|       4|         1|    1|               0.0|      0.0|               0.0| 63727.99999999999|           71125.0|1024.1999999999998|             68.28|             341.4|          5686.017|\n",
      "|2022|202201| 13215|2022000686585|  168.5|     1|2022000132151|0.569|      41|  13820|140201|  1|   1|       1|       13|      2|      1|       1|      1|       2|         1|    1|               0.0|      0.0|               0.0| 49502.99999999999|122334.99999999999|            1365.6|          5686.017|             73.97|          5686.017|\n",
      "|2022|202201| 13222|2022000686861| 316.78|     3|2022000132221|0.569|      41|  33860|170001|  1|   1|       1|       12|      0|      0|       2|      1|       9|         0|    1|               0.0|      0.0|               0.0|           4415.44|483649.99999999994|1502.1599999999999|1638.7199999999998|45.519999999999996|45.519999999999996|\n",
      "+----+------+------+-------------+-------+------+-------------+-----+--------+-------+------+---+----+--------+---------+-------+-------+--------+-------+--------+----------+-----+------------------+---------+------------------+------------------+------------------+------------------+------------------+------------------+------------------+\n",
      "only showing top 20 rows\n",
      "\n"
     ]
    }
   ],
   "source": [
    "df_hh.show()"
   ]
  },
  {
   "cell_type": "markdown",
   "metadata": {},
   "source": [
    "### New Model Predicting Ability to Own"
   ]
  },
  {
   "cell_type": "markdown",
   "metadata": {},
   "source": [
    "### Without \"AVALUEH\""
   ]
  },
  {
   "cell_type": "code",
   "execution_count": 16,
   "metadata": {},
   "outputs": [],
   "source": [
    "new = df_hh.filter(df_hh.OWNERSHP != 0)\n",
    "feature_columns = [\"HHTYPE\", \"VEHICLES\", \"NFAMS\", \"AHHINCOME\"]\n",
    "assembler = VectorAssembler(inputCols=feature_columns, outputCol=\"features\")\n",
    "data = assembler.transform(new)\n",
    "hh_norm_train, hh_norm_test = data.randomSplit(weights=[0.8,0.2], seed=200)"
   ]
  },
  {
   "cell_type": "code",
   "execution_count": 17,
   "metadata": {},
   "outputs": [
    {
     "name": "stdout",
     "output_type": "stream",
     "text": [
      "Accuracy: 0.7404\n",
      "Precision: 0.7242\n",
      "Recall: 0.7404\n"
     ]
    }
   ],
   "source": [
    "logistic_regression = LogisticRegression(featuresCol=\"features\", labelCol=\"OWNERSHP\")\n",
    "model = logistic_regression.fit(hh_norm_train)\n",
    "\n",
    "predictions = model.transform(hh_norm_test)\n",
    "\n",
    "# AUC-ROC\n",
    "##auc = evaluator.evaluate(predictions)\n",
    "\n",
    "# Accuracy, Precision, and Recall\n",
    "multi_evaluator = MulticlassClassificationEvaluator(labelCol=\"OWNERSHP\", predictionCol=\"prediction\")\n",
    "accuracy = multi_evaluator.evaluate(predictions, {multi_evaluator.metricName: \"accuracy\"})\n",
    "precision = multi_evaluator.evaluate(predictions, {multi_evaluator.metricName: \"weightedPrecision\"})\n",
    "recall = multi_evaluator.evaluate(predictions, {multi_evaluator.metricName: \"weightedRecall\"})\n",
    "\n",
    "#print(f\"AUC-ROC: {auc:.4f}\")\n",
    "print(f\"Accuracy: {accuracy:.4f}\")\n",
    "print(f\"Precision: {precision:.4f}\")\n",
    "print(f\"Recall: {recall:.4f}\")"
   ]
  },
  {
   "cell_type": "markdown",
   "metadata": {},
   "source": [
    "### With \"AVALUEH\""
   ]
  },
  {
   "cell_type": "code",
   "execution_count": 18,
   "metadata": {},
   "outputs": [],
   "source": [
    "new = df_hh.filter(df_hh.OWNERSHP != 0)\n",
    "feature_columns = [\"HHTYPE\", \"VEHICLES\", \"NFAMS\", \"AHHINCOME\", \"AVALUEH\"]\n",
    "assembler = VectorAssembler(inputCols=feature_columns, outputCol=\"features\")\n",
    "data = assembler.transform(new)\n",
    "hh_norm_train, hh_norm_test = data.randomSplit(weights=[0.8,0.2], seed=200)"
   ]
  },
  {
   "cell_type": "code",
   "execution_count": 19,
   "metadata": {},
   "outputs": [
    {
     "name": "stdout",
     "output_type": "stream",
     "text": [
      "Accuracy: 1.0000\n",
      "Precision: 1.0000\n",
      "Recall: 1.0000\n"
     ]
    }
   ],
   "source": [
    "logistic_regression = LogisticRegression(featuresCol=\"features\", labelCol=\"OWNERSHP\")\n",
    "model = logistic_regression.fit(hh_norm_train)\n",
    "\n",
    "predictions = model.transform(hh_norm_test)\n",
    "\n",
    "# AUC-ROC\n",
    "##auc = evaluator.evaluate(predictions)\n",
    "\n",
    "# Accuracy, Precision, and Recall\n",
    "multi_evaluator = MulticlassClassificationEvaluator(labelCol=\"OWNERSHP\", predictionCol=\"prediction\")\n",
    "accuracy = multi_evaluator.evaluate(predictions, {multi_evaluator.metricName: \"accuracy\"})\n",
    "precision = multi_evaluator.evaluate(predictions, {multi_evaluator.metricName: \"weightedPrecision\"})\n",
    "recall = multi_evaluator.evaluate(predictions, {multi_evaluator.metricName: \"weightedRecall\"})\n",
    "\n",
    "#print(f\"AUC-ROC: {auc:.4f}\")\n",
    "print(f\"Accuracy: {accuracy:.4f}\")\n",
    "print(f\"Precision: {precision:.4f}\")\n",
    "print(f\"Recall: {recall:.4f}\")"
   ]
  },
  {
   "cell_type": "markdown",
   "metadata": {},
   "source": [
    "Combined Dataset"
   ]
  },
  {
   "cell_type": "code",
   "execution_count": 16,
   "metadata": {},
   "outputs": [
    {
     "name": "stderr",
     "output_type": "stream",
     "text": [
      "                                                                                \r"
     ]
    },
    {
     "name": "stdout",
     "output_type": "stream",
     "text": [
      "+---+-----+----+-------+----+--------+--------+-----+-------+---+-------+--------+--------+----+------+\n",
      "|AGE|MARST|RACE|CITIZEN|EDUC|CLASSWKR|AFTOTINC|NFAMS|FAMSIZE| GQ|MET2023|STATEICP|CBPERNUM|YEAR|HHTYPE|\n",
      "+---+-----+----+-------+----+--------+--------+-----+-------+---+-------+--------+--------+----+------+\n",
      "|  0|    0|   0|      0|   0|       0|       0|    0|      0|  0|2500079|       0|       0|   0|     0|\n",
      "+---+-----+----+-------+----+--------+--------+-----+-------+---+-------+--------+--------+----+------+\n",
      "\n"
     ]
    }
   ],
   "source": [
    "# Check for null values in feature columns\n",
    "from pyspark.sql.functions import col, isnan, when, count\n",
    "\n",
    "feature_columns = [\"AGE\", \"MARST\", \"RACE\", \"CITIZEN\", \"EDUC\", \"CLASSWKR\", \"AFTOTINC\", \"NFAMS\", \"FAMSIZE\", \"GQ\", \"STATEICP\", \"CBPERNUM\", \"YEAR\", \"HHTYPE\"]\n",
    "\n",
    "new.select([count(when(isnan(c) | col(c).isNull(), c)).alias(c) for c in feature_columns]).show()\n",
    "\n",
    "# Fill or drop null values if any\n",
    "new = new.na.fill(0, subset=feature_columns)\n",
    "# Alternatively, you can drop rows with null values in the feature columns\n",
    "# new = new.na.drop(subset=feature_columns)\n"
   ]
  },
  {
   "cell_type": "code",
   "execution_count": null,
   "metadata": {},
   "outputs": [],
   "source": []
  },
  {
   "cell_type": "code",
   "execution_count": 17,
   "metadata": {},
   "outputs": [
    {
     "name": "stderr",
     "output_type": "stream",
     "text": [
      "                                                                                \r"
     ]
    },
    {
     "name": "stdout",
     "output_type": "stream",
     "text": [
      "Accuracy: 0.779417370411095\n"
     ]
    },
    {
     "name": "stderr",
     "output_type": "stream",
     "text": [
      "[Stage 183:>                                                        (0 + 1) / 1]\r"
     ]
    },
    {
     "name": "stdout",
     "output_type": "stream",
     "text": [
      "+--------+----------+--------------------+\n",
      "|OWNERSHP|prediction|         probability|\n",
      "+--------+----------+--------------------+\n",
      "|       1|       1.0|[0.0,0.8896445375...|\n",
      "|       1|       1.0|[0.0,0.8896445375...|\n",
      "|       1|       1.0|[0.0,0.8896445375...|\n",
      "|       1|       1.0|[0.0,0.6890199342...|\n",
      "|       2|       1.0|[0.0,0.8896445375...|\n",
      "|       2|       1.0|[0.0,0.8896445375...|\n",
      "|       2|       1.0|[0.0,0.8896445375...|\n",
      "|       2|       1.0|[0.0,0.8896445375...|\n",
      "|       2|       1.0|[0.0,0.8049744562...|\n",
      "|       1|       1.0|[0.0,0.6890199342...|\n",
      "|       1|       1.0|[0.0,0.6890199342...|\n",
      "|       1|       1.0|[0.0,0.6890199342...|\n",
      "|       2|       2.0|[0.0,0.4690194629...|\n",
      "|       2|       2.0|[0.0,0.4690194629...|\n",
      "|       2|       1.0|[0.0,0.8896445375...|\n",
      "|       2|       1.0|[0.0,0.8896445375...|\n",
      "|       2|       1.0|[0.0,0.7439311910...|\n",
      "|       2|       2.0|[0.0,0.4690194629...|\n",
      "|       2|       1.0|[0.0,0.8896445375...|\n",
      "|       2|       1.0|[0.0,0.6890199342...|\n",
      "+--------+----------+--------------------+\n",
      "only showing top 20 rows\n",
      "\n"
     ]
    },
    {
     "name": "stderr",
     "output_type": "stream",
     "text": [
      "                                                                                \r"
     ]
    }
   ],
   "source": [
    "from pyspark.ml.feature import VectorAssembler\n",
    "from pyspark.ml.classification import DecisionTreeClassifier\n",
    "from pyspark.ml.evaluation import MulticlassClassificationEvaluator\n",
    "from pyspark.ml import Pipeline\n",
    "\n",
    "# Assuming result_df is already loaded\n",
    "new = result_df.filter(result_df.OWNERSHP != 0)\n",
    "\n",
    "# Define the feature columns\n",
    "feature_columns = [\"AGE\", \"MARST\", \"RACE\", \"CITIZEN\", \"EDUC\", \"CLASSWKR\", \"AFTOTINC\", \"NFAMS\", \"FAMSIZE\", \"GQ\", \"STATEICP\", \"CBPERNUM\", \"YEAR\", \"HHTYPE\"]\n",
    "\n",
    "# Assemble feature columns into a feature vector\n",
    "assembler = VectorAssembler(inputCols=feature_columns, outputCol=\"features\")\n",
    "\n",
    "# Initialize the Decision Tree Classifier\n",
    "dt = DecisionTreeClassifier(labelCol=\"OWNERSHP\", featuresCol=\"features\")\n",
    "\n",
    "# Create a pipeline\n",
    "pipeline = Pipeline(stages=[assembler, dt])\n",
    "\n",
    "# Train the model\n",
    "model = pipeline.fit(new)\n",
    "\n",
    "# Make predictions\n",
    "predictions = model.transform(new)\n",
    "\n",
    "# Evaluate the model\n",
    "evaluator = MulticlassClassificationEvaluator(labelCol=\"OWNERSHP\", predictionCol=\"prediction\", metricName=\"accuracy\")\n",
    "accuracy = evaluator.evaluate(predictions)\n",
    "print(f\"Accuracy: {accuracy}\")\n",
    "\n",
    "# Show predictions\n",
    "predictions.select(\"OWNERSHP\", \"prediction\", \"probability\").show()\n"
   ]
  },
  {
   "cell_type": "code",
   "execution_count": 46,
   "metadata": {},
   "outputs": [
    {
     "name": "stdout",
     "output_type": "stream",
     "text": [
      "DecisionTreeClassificationModel: uid=DecisionTreeClassifier_eed58756ec55, depth=5, numNodes=29, numClasses=3, numFeatures=14\n",
      "  If (AFTOTINC <= 37544.7)\n",
      "   If (AGE <= 48.5)\n",
      "    If (HHTYPE <= 2.5)\n",
      "     If (CITIZEN <= 2.5)\n",
      "      Predict: Own\n",
      "     Else (CITIZEN > 2.5)\n",
      "      Predict: Rent\n",
      "    Else (HHTYPE > 2.5)\n",
      "     Predict: Rent\n",
      "   Else (AGE > 48.5)\n",
      "    If (HHTYPE <= 1.5)\n",
      "     Predict: Own\n",
      "    Else (HHTYPE > 1.5)\n",
      "     If (RACE <= 1.5)\n",
      "      Predict: Own\n",
      "     Else (RACE > 1.5)\n",
      "      If (AFTOTINC <= 13960.74)\n",
      "       Predict: Rent\n",
      "      Else (AFTOTINC > 13960.74)\n",
      "       Predict: Own\n",
      "  Else (AFTOTINC > 37544.7)\n",
      "   If (HHTYPE <= 1.5)\n",
      "    If (CITIZEN <= 2.5)\n",
      "     Predict: Own\n",
      "    Else (CITIZEN > 2.5)\n",
      "     If (AGE <= 42.5)\n",
      "      If (AFTOTINC <= 80590.45999999999)\n",
      "       Predict: Rent\n",
      "      Else (AFTOTINC > 80590.45999999999)\n",
      "       Predict: Own\n",
      "     Else (AGE > 42.5)\n",
      "      Predict: Own\n",
      "   Else (HHTYPE > 1.5)\n",
      "    If (AGE <= 45.5)\n",
      "     If (HHTYPE <= 3.5)\n",
      "      Predict: Own\n",
      "     Else (HHTYPE > 3.5)\n",
      "      If (FAMSIZE <= 2.5)\n",
      "       Predict: Rent\n",
      "      Else (FAMSIZE > 2.5)\n",
      "       Predict: Own\n",
      "    Else (AGE > 45.5)\n",
      "     Predict: Own\n",
      "\n"
     ]
    }
   ],
   "source": [
    "# Print the decision tree model\n",
    "model = model.stages[-1]\n",
    "\n",
    "# Mapping of features\n",
    "feature_mapping = {\n",
    "    0: \"AGE\",\n",
    "    1: \"MARST\",\n",
    "    2: \"RACE\",\n",
    "    3: \"CITIZEN\",\n",
    "    4: \"EDUC\",\n",
    "    5: \"CLASSWKR\",\n",
    "    6: \"AFTOTINC\",\n",
    "    7: \"NFAMS\",\n",
    "    8: \"FAMSIZE\",\n",
    "    9: \"GQ\",\n",
    "    10: \"STATEICP\",\n",
    "    11: \"CBPERNUM\",\n",
    "    12: \"YEAR\",\n",
    "    13: \"HHTYPE\"\n",
    "}\n",
    "# Mapping of predicted class \n",
    "class_mapping = {\n",
    "    0.0: \"Na\",\n",
    "    1.0: \"Own\",\n",
    "    2.0: \"Rent\"\n",
    "}\n",
    "\n",
    "# replace feature numbers and predicted class numbers with names and labels\n",
    "def convert_tree_structure(tree_structure):\n",
    "    lines = tree_structure.split(\"\\n\")\n",
    "    converted_lines = []\n",
    "    for line in lines:\n",
    "        for feature_num, feature_name in feature_mapping.items():\n",
    "            line = line.replace(f\"feature {feature_num} \", f\"{feature_name} \")\n",
    "            line = line.replace(f\"feature {feature_num}>\", f\"{feature_name}>\")\n",
    "            line = line.replace(f\"feature {feature_num}<=\", f\"{feature_name}<=\")\n",
    "        for class_num, class_label in class_mapping.items():\n",
    "            line = line.replace(f\"Predict: {class_num}\", f\"Predict: {class_label}\")\n",
    "        converted_lines.append(line)\n",
    "    return \"\\n\".join(converted_lines)\n",
    "\n",
    "tree_structure = model.toDebugString\n",
    "converted_tree_structure = convert_tree_structure(tree_structure)\n",
    "print(converted_tree_structure)"
   ]
  },
  {
   "cell_type": "code",
   "execution_count": 44,
   "metadata": {},
   "outputs": [
    {
     "name": "stdout",
     "output_type": "stream",
     "text": [
      "DecisionTreeClassificationModel: uid=DecisionTreeClassifier_eed58756ec55, depth=5, numNodes=29, numClasses=3, numFeatures=14\n",
      "  If (feature 6 <= 37544.7)\n",
      "   If (feature 0 <= 48.5)\n",
      "    If (feature 13 <= 2.5)\n",
      "     If (feature 3 <= 2.5)\n",
      "      Predict: 1.0\n",
      "     Else (feature 3 > 2.5)\n",
      "      Predict: 2.0\n",
      "    Else (feature 13 > 2.5)\n",
      "     Predict: 2.0\n",
      "   Else (feature 0 > 48.5)\n",
      "    If (feature 13 <= 1.5)\n",
      "     Predict: 1.0\n",
      "    Else (feature 13 > 1.5)\n",
      "     If (feature 2 <= 1.5)\n",
      "      Predict: 1.0\n",
      "     Else (feature 2 > 1.5)\n",
      "      If (feature 6 <= 13960.74)\n",
      "       Predict: 2.0\n",
      "      Else (feature 6 > 13960.74)\n",
      "       Predict: 1.0\n",
      "  Else (feature 6 > 37544.7)\n",
      "   If (feature 13 <= 1.5)\n",
      "    If (feature 3 <= 2.5)\n",
      "     Predict: 1.0\n",
      "    Else (feature 3 > 2.5)\n",
      "     If (feature 0 <= 42.5)\n",
      "      If (feature 6 <= 80590.45999999999)\n",
      "       Predict: 2.0\n",
      "      Else (feature 6 > 80590.45999999999)\n",
      "       Predict: 1.0\n",
      "     Else (feature 0 > 42.5)\n",
      "      Predict: 1.0\n",
      "   Else (feature 13 > 1.5)\n",
      "    If (feature 0 <= 45.5)\n",
      "     If (feature 13 <= 3.5)\n",
      "      Predict: 1.0\n",
      "     Else (feature 13 > 3.5)\n",
      "      If (feature 8 <= 2.5)\n",
      "       Predict: 2.0\n",
      "      Else (feature 8 > 2.5)\n",
      "       Predict: 1.0\n",
      "    Else (feature 0 > 45.5)\n",
      "     Predict: 1.0\n",
      "\n",
      "DOT data:\n",
      "digraph DecisionTree {\n",
      "  node0 [label=\"AFTOTINC <= 37544.7\", shape=ellipse];\n",
      "  node1 [label=\"AGE <= 48.5\", shape=ellipse];\n",
      "  node2 [label=\"HHTYPE <= 2.5\", shape=ellipse];\n",
      "  node3 [label=\"CITIZEN <= 2.5\", shape=ellipse];\n",
      "  node4 [label=\"prediction = 1.0\", shape=box];\n",
      "  node5 [label=\"prediction = 2.0\", shape=box];\n",
      "  node6 [label=\"prediction = 2.0\", shape=box];\n",
      "  node7 [label=\"HHTYPE <= 1.5\", shape=ellipse];\n",
      "  node8 [label=\"prediction = 1.0\", shape=box];\n",
      "  node9 [label=\"RACE <= 1.5\", shape=ellipse];\n",
      "  node10 [label=\"prediction = 1.0\", shape=box];\n",
      "  node11 [label=\"AFTOTINC <= 13960.74\", shape=ellipse];\n",
      "  node12 [label=\"prediction = 2.0\", shape=box];\n",
      "  node13 [label=\"prediction = 1.0\", shape=box];\n",
      "  node14 [label=\"HHTYPE <= 1.5\", shape=ellipse];\n",
      "  node15 [label=\"CITIZEN <= 2.5\", shape=ellipse];\n",
      "  node16 [label=\"prediction = 1.0\", shape=box];\n",
      "  node17 [label=\"AGE <= 42.5\", shape=ellipse];\n",
      "  node18 [label=\"AFTOTINC <= 80590.45999999999\", shape=ellipse];\n",
      "  node19 [label=\"prediction = 2.0\", shape=box];\n",
      "  node20 [label=\"prediction = 1.0\", shape=box];\n",
      "  node21 [label=\"prediction = 1.0\", shape=box];\n",
      "  node22 [label=\"AGE <= 45.5\", shape=ellipse];\n",
      "  node23 [label=\"HHTYPE <= 3.5\", shape=ellipse];\n",
      "  node24 [label=\"prediction = 1.0\", shape=box];\n",
      "  node25 [label=\"FAMSIZE <= 2.5\", shape=ellipse];\n",
      "  node26 [label=\"prediction = 2.0\", shape=box];\n",
      "  node27 [label=\"prediction = 1.0\", shape=box];\n",
      "  node28 [label=\"prediction = 1.0\", shape=box];\n",
      "  node0 -> node1 [label=\"True\"];\n",
      "  node0 -> node2 [label=\"False\"];\n",
      "  node0 -> node2 [label=\"True\"];\n",
      "  node0 -> node3 [label=\"False\"];\n",
      "  node0 -> node3 [label=\"True\"];\n",
      "  node0 -> node4 [label=\"False\"];\n",
      "  node0 -> node4 [label=\"True\"];\n",
      "  node0 -> node5 [label=\"False\"];\n",
      "  node0 -> node8 [label=\"True\"];\n",
      "  node0 -> node9 [label=\"False\"];\n",
      "  node0 -> node10 [label=\"True\"];\n",
      "  node0 -> node11 [label=\"False\"];\n",
      "  node0 -> node12 [label=\"True\"];\n",
      "  node0 -> node13 [label=\"False\"];\n",
      "  node0 -> node15 [label=\"True\"];\n",
      "  node0 -> node16 [label=\"False\"];\n",
      "  node0 -> node16 [label=\"True\"];\n",
      "  node0 -> node17 [label=\"False\"];\n",
      "  node0 -> node18 [label=\"True\"];\n",
      "  node0 -> node19 [label=\"False\"];\n",
      "  node0 -> node19 [label=\"True\"];\n",
      "  node0 -> node20 [label=\"False\"];\n",
      "  node0 -> node23 [label=\"True\"];\n",
      "  node0 -> node24 [label=\"False\"];\n",
      "  node0 -> node24 [label=\"True\"];\n",
      "  node0 -> node25 [label=\"False\"];\n",
      "  node0 -> node26 [label=\"True\"];\n",
      "  node0 -> node27 [label=\"False\"];\n",
      "}\n"
     ]
    },
    {
     "data": {
      "image/png": "[encoded data removed]",
      "text/plain": [
       "<IPython.core.display.Image object>"
      ]
     },
     "metadata": {},
     "output_type": "display_data"
    }
   ],
   "source": [
    "from graphviz import Source\n",
    "import re\n",
    "\n",
    "def parse_debug_string(debug_string):\n",
    "    lines = debug_string.splitlines()\n",
    "    nodes = {}\n",
    "    edges = []\n",
    "    node_id = 0\n",
    "\n",
    "    def parse_node(line, indent_level):\n",
    "        nonlocal node_id\n",
    "        split_pattern = re.compile(r\"If \\(feature (\\d+) <= ([\\d\\.]+)\\)\")\n",
    "        predict_pattern = re.compile(r\"Predict: ([\\d\\.]+)\")\n",
    "\n",
    "        split_match = split_pattern.search(line)\n",
    "        predict_match = predict_pattern.search(line)\n",
    "\n",
    "        if split_match:\n",
    "            feature_index = int(split_match.group(1))\n",
    "            threshold = float(split_match.group(2))\n",
    "            nodes[node_id] = {\"split\": (feature_index, threshold), \"indent\": indent_level}\n",
    "            left_child_id = node_id + 1\n",
    "            right_child_id = node_id + 2\n",
    "            node_id += 1\n",
    "            return left_child_id, right_child_id\n",
    "        elif predict_match:\n",
    "            prediction = float(predict_match.group(1))\n",
    "            nodes[node_id] = {\"prediction\": prediction, \"indent\": indent_level}\n",
    "            node_id += 1\n",
    "            return None, None\n",
    "        else:\n",
    "            return None, None  # Return None if neither split nor prediction is found\n",
    "\n",
    "\n",
    "    stack = [(0, 0)]  # (node_id, indent_level)\n",
    "\n",
    "    for line in lines[1:]:\n",
    "        if line.strip():\n",
    "            indent_level = len(line) - len(line.lstrip())\n",
    "            while stack and stack[-1][1] >= indent_level:\n",
    "                stack.pop()\n",
    "            current_node_id, _ = stack[-1]\n",
    "            left_child_id, right_child_id = parse_node(line.strip(), indent_level)\n",
    "            if left_child_id is not None and right_child_id is not None:\n",
    "                edges.append((current_node_id, left_child_id, True))\n",
    "                edges.append((current_node_id, right_child_id, False))\n",
    "                stack.append((left_child_id, indent_level + 1))\n",
    "                stack.append((right_child_id, indent_level + 1))\n",
    "\n",
    "    return nodes, edges\n",
    "\n",
    "def decision_tree_to_dot(nodes, edges, feature_names):\n",
    "    dot = [\"digraph DecisionTree {\"]\n",
    "\n",
    "    for node_id, node_info in nodes.items():\n",
    "        if \"split\" in node_info:\n",
    "            feature_index, threshold = node_info[\"split\"]\n",
    "            feature_name = feature_names[feature_index]\n",
    "            label = f\"{feature_name} <= {threshold}\"\n",
    "            dot.append(f'  node{node_id} [label=\"{label}\", shape=ellipse];')\n",
    "        else:\n",
    "            label = f\"prediction = {node_info['prediction']}\"\n",
    "            dot.append(f'  node{node_id} [label=\"{label}\", shape=box];')\n",
    "\n",
    "    for parent, child, is_left in edges:\n",
    "        label = \"True\" if is_left else \"False\"\n",
    "        dot.append(f'  node{parent} -> node{child} [label=\"{label}\"];')\n",
    "\n",
    "    dot.append(\"}\")\n",
    "    return \"\\n\".join(dot)\n",
    "\n",
    "# Parse the debug string\n",
    "debug_string = dt_model.toDebugString\n",
    "#print(debug_string)  # Inspect the debug string output\n",
    "\n",
    "nodes, edges = parse_debug_string(debug_string)\n",
    "\n",
    "# Generate the DOT format string\n",
    "dot_data = decision_tree_to_dot(nodes, edges, feature_columns)\n",
    "\n",
    "# Print the DOT data for debugging\n",
    "print(\"DOT data:\")\n",
    "print(dot_data)\n",
    "\n",
    "# Use graphviz to render the DOT string into an image\n",
    "graph = Source(dot_data)\n",
    "graph.render(\"decision_tree\", format=\"png\", cleanup=True)\n",
    "\n",
    "# Display the image (optional, depends on the environment)\n",
    "from IPython.display import Image\n",
    "display(Image(filename=\"decision_tree.png\"))\n"
   ]
  },
  {
   "cell_type": "code",
   "execution_count": 47,
   "metadata": {},
   "outputs": [
    {
     "name": "stderr",
     "output_type": "stream",
     "text": [
      "[Stage 250:===================================================>   (13 + 1) / 14]\r"
     ]
    },
    {
     "name": "stdout",
     "output_type": "stream",
     "text": [
      "Accuracy: 0.768293321931027\n"
     ]
    },
    {
     "name": "stderr",
     "output_type": "stream",
     "text": [
      "                                                                                \r"
     ]
    }
   ],
   "source": [
    "# Assuming result_df is already loaded\n",
    "new = result_df.filter(result_df.OWNERSHP != 0)\n",
    "\n",
    "# Define the feature columns\n",
    "feature_columns = [\"AGE\", \"MARST\", \"RACE\", \"CITIZEN\", \"EDUC\", \"CLASSWKR\", \"NFAMS\", \"FAMSIZE\", \"GQ\", \"STATEICP\", \"CBPERNUM\", \"YEAR\", \"HHTYPE\"]\n",
    "\n",
    "# Assemble feature columns into a feature vector\n",
    "assembler = VectorAssembler(inputCols=feature_columns, outputCol=\"features\")\n",
    "\n",
    "# Initialize the Decision Tree Classifier\n",
    "dt = DecisionTreeClassifier(labelCol=\"OWNERSHP\", featuresCol=\"features\")\n",
    "\n",
    "# Create a pipeline\n",
    "pipeline = Pipeline(stages=[assembler, dt])\n",
    "\n",
    "# Train the model\n",
    "model = pipeline.fit(new)\n",
    "\n",
    "# Make predictions\n",
    "predictions = model.transform(new)\n",
    "\n",
    "# Evaluate the model\n",
    "evaluator = MulticlassClassificationEvaluator(labelCol=\"OWNERSHP\", predictionCol=\"prediction\", metricName=\"accuracy\")\n",
    "accuracy = evaluator.evaluate(predictions)\n",
    "print(f\"Accuracy: {accuracy}\")"
   ]
  },
  {
   "cell_type": "code",
   "execution_count": 48,
   "metadata": {},
   "outputs": [
    {
     "name": "stdout",
     "output_type": "stream",
     "text": [
      "DecisionTreeClassificationModel: uid=DecisionTreeClassifier_02b3d36ecdd9, depth=5, numNodes=35, numClasses=3, numFeatures=13\n",
      "  If (HHTYPE <= 1.5)\n",
      "   If (CITIZEN <= 2.5)\n",
      "    Predict: Own\n",
      "   Else (CITIZEN > 2.5)\n",
      "    If (AGE <= 42.5)\n",
      "     If (AGE <= 34.5)\n",
      "      If (CBPERNUM <= 4.5)\n",
      "       Predict: Rent\n",
      "      Else (CBPERNUM > 4.5)\n",
      "       Predict: Own\n",
      "     Else (AGE > 34.5)\n",
      "      If (CBPERNUM <= 1.5)\n",
      "       Predict: Rent\n",
      "      Else (CBPERNUM > 1.5)\n",
      "       Predict: Own\n",
      "    Else (AGE > 42.5)\n",
      "     Predict: Own\n",
      "  Else (HHTYPE > 1.5)\n",
      "   If (AGE <= 45.5)\n",
      "    If (FAMSIZE <= 1.5)\n",
      "     If (AGE <= 29.5)\n",
      "      If (HHTYPE <= 3.5)\n",
      "       Predict: Own\n",
      "      Else (HHTYPE > 3.5)\n",
      "       Predict: Rent\n",
      "     Else (AGE > 29.5)\n",
      "      Predict: Rent\n",
      "    Else (FAMSIZE > 1.5)\n",
      "     If (RACE <= 1.5)\n",
      "      If (CBPERNUM <= 1.5)\n",
      "       Predict: Rent\n",
      "      Else (CBPERNUM > 1.5)\n",
      "       Predict: Own\n",
      "     Else (RACE > 1.5)\n",
      "      If (EDUC <= 7.5)\n",
      "       Predict: Rent\n",
      "      Else (EDUC > 7.5)\n",
      "       Predict: Own\n",
      "   Else (AGE > 45.5)\n",
      "    If (RACE <= 1.5)\n",
      "     Predict: Own\n",
      "    Else (RACE > 1.5)\n",
      "     If (EDUC <= 7.5)\n",
      "      If (HHTYPE <= 3.5)\n",
      "       Predict: Own\n",
      "      Else (HHTYPE > 3.5)\n",
      "       Predict: Rent\n",
      "     Else (EDUC > 7.5)\n",
      "      If (CITIZEN <= 2.5)\n",
      "       Predict: Own\n",
      "      Else (CITIZEN > 2.5)\n",
      "       Predict: Rent\n",
      "\n"
     ]
    }
   ],
   "source": [
    "# Print the decision tree model\n",
    "model = model.stages[-1]\n",
    "\n",
    "# Mapping of features\n",
    "feature_mapping = {\n",
    "    0: \"AGE\",\n",
    "    1: \"MARST\",\n",
    "    2: \"RACE\",\n",
    "    3: \"CITIZEN\",\n",
    "    4: \"EDUC\",\n",
    "    5: \"CLASSWKR\",\n",
    "    6: \"NFAMS\",\n",
    "    7: \"FAMSIZE\",\n",
    "    8: \"GQ\",\n",
    "    9: \"STATEICP\",\n",
    "    10: \"CBPERNUM\",\n",
    "    11: \"YEAR\",\n",
    "    12: \"HHTYPE\"\n",
    "}\n",
    "# Mapping of predicted class \n",
    "class_mapping = {\n",
    "    0.0: \"Na\",\n",
    "    1.0: \"Own\",\n",
    "    2.0: \"Rent\"\n",
    "}\n",
    "\n",
    "# replace feature numbers and predicted class numbers with names and labels\n",
    "def convert_tree_structure(tree_structure):\n",
    "    lines = tree_structure.split(\"\\n\")\n",
    "    converted_lines = []\n",
    "    for line in lines:\n",
    "        for feature_num, feature_name in feature_mapping.items():\n",
    "            line = line.replace(f\"feature {feature_num} \", f\"{feature_name} \")\n",
    "            line = line.replace(f\"feature {feature_num}>\", f\"{feature_name}>\")\n",
    "            line = line.replace(f\"feature {feature_num}<=\", f\"{feature_name}<=\")\n",
    "        for class_num, class_label in class_mapping.items():\n",
    "            line = line.replace(f\"Predict: {class_num}\", f\"Predict: {class_label}\")\n",
    "        converted_lines.append(line)\n",
    "    return \"\\n\".join(converted_lines)\n",
    "\n",
    "tree_structure = model.toDebugString\n",
    "converted_tree_structure = convert_tree_structure(tree_structure)\n",
    "print(converted_tree_structure)"
   ]
  },
  {
   "cell_type": "code",
   "execution_count": 12,
   "metadata": {},
   "outputs": [],
   "source": [
    "new = result_df.filter(result_df.OWNERSHP != 0)\n",
    "feature_columns = [\"AGE\", \"MARST\", \"RACE\", \"CITIZEN\", \"EDUC\", \"CLASSWKR\", \"AFTOTINC\", \"NFAMS\", \"FAMSIZE\", \"GQ\", \"MET2023\", \"STATEICP\", \"CBPERNUM\", \"YEAR\", \"HHTYPE\"]\n",
    "assembler = VectorAssembler(inputCols=feature_columns, outputCol=\"features\")\n",
    "data = assembler.transform(new)\n",
    "norm_train, norm_test = data.randomSplit(weights=[0.8,0.2], seed=200)"
   ]
  },
  {
   "cell_type": "code",
   "execution_count": null,
   "metadata": {},
   "outputs": [],
   "source": []
  },
  {
   "cell_type": "code",
   "execution_count": 14,
   "metadata": {},
   "outputs": [
    {
     "name": "stderr",
     "output_type": "stream",
     "text": [
      "24/06/08 09:37:11 ERROR Executor: Exception in task 1.0 in stage 68.0 (TID 359)]\n",
      "org.apache.spark.SparkException: [FAILED_EXECUTE_UDF] Failed to execute user defined function (`VectorAssembler$$Lambda$4356/949631386`: (struct<AGE_double_VectorAssembler_8449788eef09:double,MARST_double_VectorAssembler_8449788eef09:double,RACE_double_VectorAssembler_8449788eef09:double,CITIZEN_double_VectorAssembler_8449788eef09:double,EDUC_double_VectorAssembler_8449788eef09:double,CLASSWKR_double_VectorAssembler_8449788eef09:double,AFTOTINC:double,NFAMS_double_VectorAssembler_8449788eef09:double,FAMSIZE_double_VectorAssembler_8449788eef09:double,GQ_double_VectorAssembler_8449788eef09:double,MET2023_double_VectorAssembler_8449788eef09:double,STATEICP_double_VectorAssembler_8449788eef09:double,CBPERNUM_double_VectorAssembler_8449788eef09:double,YEAR_double_VectorAssembler_8449788eef09:double,HHTYPE_double_VectorAssembler_8449788eef09:double>) => struct<type:tinyint,size:int,indices:array<int>,values:array<double>>).\n",
      "\tat org.apache.spark.sql.errors.QueryExecutionErrors$.failedExecuteUserDefinedFunctionError(QueryExecutionErrors.scala:198)\n",
      "\tat org.apache.spark.sql.errors.QueryExecutionErrors.failedExecuteUserDefinedFunctionError(QueryExecutionErrors.scala)\n",
      "\tat org.apache.spark.sql.catalyst.expressions.GeneratedClass$GeneratedIteratorForCodegenStage6.hashAgg_ScalaUDF_0$(Unknown Source)\n",
      "\tat org.apache.spark.sql.catalyst.expressions.GeneratedClass$GeneratedIteratorForCodegenStage6.hashAgg_doAggregateWithKeysOutput_1$(Unknown Source)\n",
      "\tat org.apache.spark.sql.catalyst.expressions.GeneratedClass$GeneratedIteratorForCodegenStage6.sort_addToSorter_0$(Unknown Source)\n",
      "\tat org.apache.spark.sql.catalyst.expressions.GeneratedClass$GeneratedIteratorForCodegenStage6.processNext(Unknown Source)\n",
      "\tat org.apache.spark.sql.execution.BufferedRowIterator.hasNext(BufferedRowIterator.java:43)\n",
      "\tat org.apache.spark.sql.execution.WholeStageCodegenEvaluatorFactory$WholeStageCodegenPartitionEvaluator$$anon$1.hasNext(WholeStageCodegenEvaluatorFactory.scala:43)\n",
      "\tat scala.collection.Iterator$$anon$10.hasNext(Iterator.scala:460)\n",
      "\tat scala.collection.Iterator$$anon$10.hasNext(Iterator.scala:460)\n",
      "\tat scala.collection.Iterator$$anon$10.hasNext(Iterator.scala:460)\n",
      "\tat scala.collection.Iterator.foreach(Iterator.scala:943)\n",
      "\tat scala.collection.Iterator.foreach$(Iterator.scala:943)\n",
      "\tat scala.collection.AbstractIterator.foreach(Iterator.scala:1431)\n",
      "\tat scala.collection.TraversableOnce.foldLeft(TraversableOnce.scala:199)\n",
      "\tat scala.collection.TraversableOnce.foldLeft$(TraversableOnce.scala:192)\n",
      "\tat scala.collection.AbstractIterator.foldLeft(Iterator.scala:1431)\n",
      "\tat scala.collection.TraversableOnce.aggregate(TraversableOnce.scala:260)\n",
      "\tat scala.collection.TraversableOnce.aggregate$(TraversableOnce.scala:260)\n",
      "\tat scala.collection.AbstractIterator.aggregate(Iterator.scala:1431)\n",
      "\tat org.apache.spark.rdd.RDD.$anonfun$treeAggregate$4(RDD.scala:1264)\n",
      "\tat org.apache.spark.rdd.RDD.$anonfun$treeAggregate$6(RDD.scala:1265)\n",
      "\tat org.apache.spark.rdd.RDD.$anonfun$mapPartitions$2(RDD.scala:858)\n",
      "\tat org.apache.spark.rdd.RDD.$anonfun$mapPartitions$2$adapted(RDD.scala:858)\n",
      "\tat org.apache.spark.rdd.MapPartitionsRDD.compute(MapPartitionsRDD.scala:52)\n",
      "\tat org.apache.spark.rdd.RDD.computeOrReadCheckpoint(RDD.scala:367)\n",
      "\tat org.apache.spark.rdd.RDD.iterator(RDD.scala:331)\n",
      "\tat org.apache.spark.rdd.MapPartitionsRDD.compute(MapPartitionsRDD.scala:52)\n",
      "\tat org.apache.spark.rdd.RDD.computeOrReadCheckpoint(RDD.scala:367)\n",
      "\tat org.apache.spark.rdd.RDD.iterator(RDD.scala:331)\n",
      "\tat org.apache.spark.shuffle.ShuffleWriteProcessor.write(ShuffleWriteProcessor.scala:59)\n",
      "\tat org.apache.spark.scheduler.ShuffleMapTask.runTask(ShuffleMapTask.scala:104)\n",
      "\tat org.apache.spark.scheduler.ShuffleMapTask.runTask(ShuffleMapTask.scala:54)\n",
      "\tat org.apache.spark.TaskContext.runTaskWithListeners(TaskContext.scala:166)\n",
      "\tat org.apache.spark.scheduler.Task.run(Task.scala:141)\n",
      "\tat org.apache.spark.executor.Executor$TaskRunner.$anonfun$run$4(Executor.scala:620)\n",
      "\tat org.apache.spark.util.SparkErrorUtils.tryWithSafeFinally(SparkErrorUtils.scala:64)\n",
      "\tat org.apache.spark.util.SparkErrorUtils.tryWithSafeFinally$(SparkErrorUtils.scala:61)\n",
      "\tat org.apache.spark.util.Utils$.tryWithSafeFinally(Utils.scala:94)\n",
      "\tat org.apache.spark.executor.Executor$TaskRunner.run(Executor.scala:623)\n",
      "\tat java.util.concurrent.ThreadPoolExecutor.runWorker(ThreadPoolExecutor.java:1142)\n",
      "\tat java.util.concurrent.ThreadPoolExecutor$Worker.run(ThreadPoolExecutor.java:617)\n",
      "\tat java.lang.Thread.run(Thread.java:745)\n",
      "Caused by: org.apache.spark.SparkException: Encountered null while assembling a row with handleInvalid = \"error\". Consider\n",
      "removing nulls from dataset or using handleInvalid = \"keep\" or \"skip\".\n",
      "\tat org.apache.spark.ml.feature.VectorAssembler$.$anonfun$assemble$1(VectorAssembler.scala:291)\n",
      "\tat org.apache.spark.ml.feature.VectorAssembler$.$anonfun$assemble$1$adapted(VectorAssembler.scala:260)\n",
      "\tat scala.collection.IndexedSeqOptimized.foreach(IndexedSeqOptimized.scala:36)\n",
      "\tat scala.collection.IndexedSeqOptimized.foreach$(IndexedSeqOptimized.scala:33)\n",
      "\tat scala.collection.mutable.WrappedArray.foreach(WrappedArray.scala:38)\n",
      "\tat org.apache.spark.ml.feature.VectorAssembler$.assemble(VectorAssembler.scala:260)\n",
      "\tat org.apache.spark.ml.feature.VectorAssembler.$anonfun$transform$6(VectorAssembler.scala:143)\n",
      "\t... 41 more\n",
      "24/06/08 09:37:11 ERROR TaskSetManager: Task 1 in stage 68.0 failed 1 times; aborting job\n",
      "24/06/08 09:37:11 ERROR Instrumentation: org.apache.spark.SparkException: Job aborted due to stage failure: Task 1 in stage 68.0 failed 1 times, most recent failure: Lost task 1.0 in stage 68.0 (TID 359) (192.168.4.60 executor driver): org.apache.spark.SparkException: [FAILED_EXECUTE_UDF] Failed to execute user defined function (`VectorAssembler$$Lambda$4356/949631386`: (struct<AGE_double_VectorAssembler_8449788eef09:double,MARST_double_VectorAssembler_8449788eef09:double,RACE_double_VectorAssembler_8449788eef09:double,CITIZEN_double_VectorAssembler_8449788eef09:double,EDUC_double_VectorAssembler_8449788eef09:double,CLASSWKR_double_VectorAssembler_8449788eef09:double,AFTOTINC:double,NFAMS_double_VectorAssembler_8449788eef09:double,FAMSIZE_double_VectorAssembler_8449788eef09:double,GQ_double_VectorAssembler_8449788eef09:double,MET2023_double_VectorAssembler_8449788eef09:double,STATEICP_double_VectorAssembler_8449788eef09:double,CBPERNUM_double_VectorAssembler_8449788eef09:double,YEAR_double_VectorAssembler_8449788eef09:double,HHTYPE_double_VectorAssembler_8449788eef09:double>) => struct<type:tinyint,size:int,indices:array<int>,values:array<double>>).\n",
      "\tat org.apache.spark.sql.errors.QueryExecutionErrors$.failedExecuteUserDefinedFunctionError(QueryExecutionErrors.scala:198)\n",
      "\tat org.apache.spark.sql.errors.QueryExecutionErrors.failedExecuteUserDefinedFunctionError(QueryExecutionErrors.scala)\n",
      "\tat org.apache.spark.sql.catalyst.expressions.GeneratedClass$GeneratedIteratorForCodegenStage6.hashAgg_ScalaUDF_0$(Unknown Source)\n",
      "\tat org.apache.spark.sql.catalyst.expressions.GeneratedClass$GeneratedIteratorForCodegenStage6.hashAgg_doAggregateWithKeysOutput_1$(Unknown Source)\n",
      "\tat org.apache.spark.sql.catalyst.expressions.GeneratedClass$GeneratedIteratorForCodegenStage6.sort_addToSorter_0$(Unknown Source)\n",
      "\tat org.apache.spark.sql.catalyst.expressions.GeneratedClass$GeneratedIteratorForCodegenStage6.processNext(Unknown Source)\n",
      "\tat org.apache.spark.sql.execution.BufferedRowIterator.hasNext(BufferedRowIterator.java:43)\n",
      "\tat org.apache.spark.sql.execution.WholeStageCodegenEvaluatorFactory$WholeStageCodegenPartitionEvaluator$$anon$1.hasNext(WholeStageCodegenEvaluatorFactory.scala:43)\n",
      "\tat scala.collection.Iterator$$anon$10.hasNext(Iterator.scala:460)\n",
      "\tat scala.collection.Iterator$$anon$10.hasNext(Iterator.scala:460)\n",
      "\tat scala.collection.Iterator$$anon$10.hasNext(Iterator.scala:460)\n",
      "\tat scala.collection.Iterator.foreach(Iterator.scala:943)\n",
      "\tat scala.collection.Iterator.foreach$(Iterator.scala:943)\n",
      "\tat scala.collection.AbstractIterator.foreach(Iterator.scala:1431)\n",
      "\tat scala.collection.TraversableOnce.foldLeft(TraversableOnce.scala:199)\n",
      "\tat scala.collection.TraversableOnce.foldLeft$(TraversableOnce.scala:192)\n",
      "\tat scala.collection.AbstractIterator.foldLeft(Iterator.scala:1431)\n",
      "\tat scala.collection.TraversableOnce.aggregate(TraversableOnce.scala:260)\n",
      "\tat scala.collection.TraversableOnce.aggregate$(TraversableOnce.scala:260)\n",
      "\tat scala.collection.AbstractIterator.aggregate(Iterator.scala:1431)\n",
      "\tat org.apache.spark.rdd.RDD.$anonfun$treeAggregate$4(RDD.scala:1264)\n",
      "\tat org.apache.spark.rdd.RDD.$anonfun$treeAggregate$6(RDD.scala:1265)\n",
      "\tat org.apache.spark.rdd.RDD.$anonfun$mapPartitions$2(RDD.scala:858)\n",
      "\tat org.apache.spark.rdd.RDD.$anonfun$mapPartitions$2$adapted(RDD.scala:858)\n",
      "\tat org.apache.spark.rdd.MapPartitionsRDD.compute(MapPartitionsRDD.scala:52)\n",
      "\tat org.apache.spark.rdd.RDD.computeOrReadCheckpoint(RDD.scala:367)\n",
      "\tat org.apache.spark.rdd.RDD.iterator(RDD.scala:331)\n",
      "\tat org.apache.spark.rdd.MapPartitionsRDD.compute(MapPartitionsRDD.scala:52)\n",
      "\tat org.apache.spark.rdd.RDD.computeOrReadCheckpoint(RDD.scala:367)\n",
      "\tat org.apache.spark.rdd.RDD.iterator(RDD.scala:331)\n",
      "\tat org.apache.spark.shuffle.ShuffleWriteProcessor.write(ShuffleWriteProcessor.scala:59)\n",
      "\tat org.apache.spark.scheduler.ShuffleMapTask.runTask(ShuffleMapTask.scala:104)\n",
      "\tat org.apache.spark.scheduler.ShuffleMapTask.runTask(ShuffleMapTask.scala:54)\n",
      "\tat org.apache.spark.TaskContext.runTaskWithListeners(TaskContext.scala:166)\n",
      "\tat org.apache.spark.scheduler.Task.run(Task.scala:141)\n",
      "\tat org.apache.spark.executor.Executor$TaskRunner.$anonfun$run$4(Executor.scala:620)\n",
      "\tat org.apache.spark.util.SparkErrorUtils.tryWithSafeFinally(SparkErrorUtils.scala:64)\n",
      "\tat org.apache.spark.util.SparkErrorUtils.tryWithSafeFinally$(SparkErrorUtils.scala:61)\n",
      "\tat org.apache.spark.util.Utils$.tryWithSafeFinally(Utils.scala:94)\n",
      "\tat org.apache.spark.executor.Executor$TaskRunner.run(Executor.scala:623)\n",
      "\tat java.util.concurrent.ThreadPoolExecutor.runWorker(ThreadPoolExecutor.java:1142)\n",
      "\tat java.util.concurrent.ThreadPoolExecutor$Worker.run(ThreadPoolExecutor.java:617)\n",
      "\tat java.lang.Thread.run(Thread.java:745)\n",
      "Caused by: org.apache.spark.SparkException: Encountered null while assembling a row with handleInvalid = \"error\". Consider\n",
      "removing nulls from dataset or using handleInvalid = \"keep\" or \"skip\".\n",
      "\tat org.apache.spark.ml.feature.VectorAssembler$.$anonfun$assemble$1(VectorAssembler.scala:291)\n",
      "\tat org.apache.spark.ml.feature.VectorAssembler$.$anonfun$assemble$1$adapted(VectorAssembler.scala:260)\n",
      "\tat scala.collection.IndexedSeqOptimized.foreach(IndexedSeqOptimized.scala:36)\n",
      "\tat scala.collection.IndexedSeqOptimized.foreach$(IndexedSeqOptimized.scala:33)\n",
      "\tat scala.collection.mutable.WrappedArray.foreach(WrappedArray.scala:38)\n",
      "\tat org.apache.spark.ml.feature.VectorAssembler$.assemble(VectorAssembler.scala:260)\n",
      "\tat org.apache.spark.ml.feature.VectorAssembler.$anonfun$transform$6(VectorAssembler.scala:143)\n",
      "\t... 41 more\n",
      "\n",
      "Driver stacktrace:\n",
      "\tat org.apache.spark.scheduler.DAGScheduler.failJobAndIndependentStages(DAGScheduler.scala:2856)\n",
      "\tat org.apache.spark.scheduler.DAGScheduler.$anonfun$abortStage$2(DAGScheduler.scala:2792)\n",
      "\tat org.apache.spark.scheduler.DAGScheduler.$anonfun$abortStage$2$adapted(DAGScheduler.scala:2791)\n",
      "\tat scala.collection.mutable.ResizableArray.foreach(ResizableArray.scala:62)\n",
      "\tat scala.collection.mutable.ResizableArray.foreach$(ResizableArray.scala:55)\n",
      "\tat scala.collection.mutable.ArrayBuffer.foreach(ArrayBuffer.scala:49)\n",
      "\tat org.apache.spark.scheduler.DAGScheduler.abortStage(DAGScheduler.scala:2791)\n",
      "\tat org.apache.spark.scheduler.DAGScheduler.$anonfun$handleTaskSetFailed$1(DAGScheduler.scala:1247)\n",
      "\tat org.apache.spark.scheduler.DAGScheduler.$anonfun$handleTaskSetFailed$1$adapted(DAGScheduler.scala:1247)\n",
      "\tat scala.Option.foreach(Option.scala:407)\n",
      "\tat org.apache.spark.scheduler.DAGScheduler.handleTaskSetFailed(DAGScheduler.scala:1247)\n",
      "\tat org.apache.spark.scheduler.DAGSchedulerEventProcessLoop.doOnReceive(DAGScheduler.scala:3060)\n",
      "\tat org.apache.spark.scheduler.DAGSchedulerEventProcessLoop.onReceive(DAGScheduler.scala:2994)\n",
      "\tat org.apache.spark.scheduler.DAGSchedulerEventProcessLoop.onReceive(DAGScheduler.scala:2983)\n",
      "\tat org.apache.spark.util.EventLoop$$anon$1.run(EventLoop.scala:49)\n",
      "\tat org.apache.spark.scheduler.DAGScheduler.runJob(DAGScheduler.scala:989)\n",
      "\tat org.apache.spark.SparkContext.runJob(SparkContext.scala:2398)\n",
      "\tat org.apache.spark.SparkContext.runJob(SparkContext.scala:2493)\n",
      "\tat org.apache.spark.rdd.RDD.$anonfun$fold$1(RDD.scala:1202)\n",
      "\tat org.apache.spark.rdd.RDDOperationScope$.withScope(RDDOperationScope.scala:151)\n",
      "\tat org.apache.spark.rdd.RDDOperationScope$.withScope(RDDOperationScope.scala:112)\n",
      "\tat org.apache.spark.rdd.RDD.withScope(RDD.scala:410)\n",
      "\tat org.apache.spark.rdd.RDD.fold(RDD.scala:1196)\n",
      "\tat org.apache.spark.rdd.RDD.$anonfun$treeAggregate$2(RDD.scala:1289)\n",
      "\tat org.apache.spark.rdd.RDDOperationScope$.withScope(RDDOperationScope.scala:151)\n",
      "\tat org.apache.spark.rdd.RDDOperationScope$.withScope(RDDOperationScope.scala:112)\n",
      "\tat org.apache.spark.rdd.RDD.withScope(RDD.scala:410)\n",
      "\tat org.apache.spark.rdd.RDD.treeAggregate(RDD.scala:1256)\n",
      "\tat org.apache.spark.rdd.RDD.$anonfun$treeAggregate$1(RDD.scala:1242)\n",
      "\tat org.apache.spark.rdd.RDDOperationScope$.withScope(RDDOperationScope.scala:151)\n",
      "\tat org.apache.spark.rdd.RDDOperationScope$.withScope(RDDOperationScope.scala:112)\n",
      "\tat org.apache.spark.rdd.RDD.withScope(RDD.scala:410)\n",
      "\tat org.apache.spark.rdd.RDD.treeAggregate(RDD.scala:1242)\n",
      "\tat org.apache.spark.ml.stat.Summarizer$.getClassificationSummarizers(Summarizer.scala:233)\n",
      "\tat org.apache.spark.ml.classification.LogisticRegression.$anonfun$train$1(LogisticRegression.scala:517)\n",
      "\tat org.apache.spark.ml.util.Instrumentation$.$anonfun$instrumented$1(Instrumentation.scala:191)\n",
      "\tat scala.util.Try$.apply(Try.scala:213)\n",
      "\tat org.apache.spark.ml.util.Instrumentation$.instrumented(Instrumentation.scala:191)\n",
      "\tat org.apache.spark.ml.classification.LogisticRegression.train(LogisticRegression.scala:497)\n",
      "\tat org.apache.spark.ml.classification.LogisticRegression.train(LogisticRegression.scala:287)\n",
      "\tat org.apache.spark.ml.Predictor.fit(Predictor.scala:114)\n",
      "\tat sun.reflect.NativeMethodAccessorImpl.invoke0(Native Method)\n",
      "\tat sun.reflect.NativeMethodAccessorImpl.invoke(NativeMethodAccessorImpl.java:62)\n",
      "\tat sun.reflect.DelegatingMethodAccessorImpl.invoke(DelegatingMethodAccessorImpl.java:43)\n",
      "\tat java.lang.reflect.Method.invoke(Method.java:498)\n",
      "\tat py4j.reflection.MethodInvoker.invoke(MethodInvoker.java:244)\n",
      "\tat py4j.reflection.ReflectionEngine.invoke(ReflectionEngine.java:374)\n",
      "\tat py4j.Gateway.invoke(Gateway.java:282)\n",
      "\tat py4j.commands.AbstractCommand.invokeMethod(AbstractCommand.java:132)\n",
      "\tat py4j.commands.CallCommand.execute(CallCommand.java:79)\n",
      "\tat py4j.ClientServerConnection.waitForCommands(ClientServerConnection.java:182)\n",
      "\tat py4j.ClientServerConnection.run(ClientServerConnection.java:106)\n",
      "\tat java.lang.Thread.run(Thread.java:745)\n",
      "Caused by: org.apache.spark.SparkException: [FAILED_EXECUTE_UDF] Failed to execute user defined function (`VectorAssembler$$Lambda$4356/949631386`: (struct<AGE_double_VectorAssembler_8449788eef09:double,MARST_double_VectorAssembler_8449788eef09:double,RACE_double_VectorAssembler_8449788eef09:double,CITIZEN_double_VectorAssembler_8449788eef09:double,EDUC_double_VectorAssembler_8449788eef09:double,CLASSWKR_double_VectorAssembler_8449788eef09:double,AFTOTINC:double,NFAMS_double_VectorAssembler_8449788eef09:double,FAMSIZE_double_VectorAssembler_8449788eef09:double,GQ_double_VectorAssembler_8449788eef09:double,MET2023_double_VectorAssembler_8449788eef09:double,STATEICP_double_VectorAssembler_8449788eef09:double,CBPERNUM_double_VectorAssembler_8449788eef09:double,YEAR_double_VectorAssembler_8449788eef09:double,HHTYPE_double_VectorAssembler_8449788eef09:double>) => struct<type:tinyint,size:int,indices:array<int>,values:array<double>>).\n",
      "\tat org.apache.spark.sql.errors.QueryExecutionErrors$.failedExecuteUserDefinedFunctionError(QueryExecutionErrors.scala:198)\n",
      "\tat org.apache.spark.sql.errors.QueryExecutionErrors.failedExecuteUserDefinedFunctionError(QueryExecutionErrors.scala)\n",
      "\tat org.apache.spark.sql.catalyst.expressions.GeneratedClass$GeneratedIteratorForCodegenStage6.hashAgg_ScalaUDF_0$(Unknown Source)\n",
      "\tat org.apache.spark.sql.catalyst.expressions.GeneratedClass$GeneratedIteratorForCodegenStage6.hashAgg_doAggregateWithKeysOutput_1$(Unknown Source)\n",
      "\tat org.apache.spark.sql.catalyst.expressions.GeneratedClass$GeneratedIteratorForCodegenStage6.sort_addToSorter_0$(Unknown Source)\n",
      "\tat org.apache.spark.sql.catalyst.expressions.GeneratedClass$GeneratedIteratorForCodegenStage6.processNext(Unknown Source)\n",
      "\tat org.apache.spark.sql.execution.BufferedRowIterator.hasNext(BufferedRowIterator.java:43)\n",
      "\tat org.apache.spark.sql.execution.WholeStageCodegenEvaluatorFactory$WholeStageCodegenPartitionEvaluator$$anon$1.hasNext(WholeStageCodegenEvaluatorFactory.scala:43)\n",
      "\tat scala.collection.Iterator$$anon$10.hasNext(Iterator.scala:460)\n",
      "\tat scala.collection.Iterator$$anon$10.hasNext(Iterator.scala:460)\n",
      "\tat scala.collection.Iterator$$anon$10.hasNext(Iterator.scala:460)\n",
      "\tat scala.collection.Iterator.foreach(Iterator.scala:943)\n",
      "\tat scala.collection.Iterator.foreach$(Iterator.scala:943)\n",
      "\tat scala.collection.AbstractIterator.foreach(Iterator.scala:1431)\n",
      "\tat scala.collection.TraversableOnce.foldLeft(TraversableOnce.scala:199)\n",
      "\tat scala.collection.TraversableOnce.foldLeft$(TraversableOnce.scala:192)\n",
      "\tat scala.collection.AbstractIterator.foldLeft(Iterator.scala:1431)\n",
      "\tat scala.collection.TraversableOnce.aggregate(TraversableOnce.scala:260)\n",
      "\tat scala.collection.TraversableOnce.aggregate$(TraversableOnce.scala:260)\n",
      "\tat scala.collection.AbstractIterator.aggregate(Iterator.scala:1431)\n",
      "\tat org.apache.spark.rdd.RDD.$anonfun$treeAggregate$4(RDD.scala:1264)\n",
      "\tat org.apache.spark.rdd.RDD.$anonfun$treeAggregate$6(RDD.scala:1265)\n",
      "\tat org.apache.spark.rdd.RDD.$anonfun$mapPartitions$2(RDD.scala:858)\n",
      "\tat org.apache.spark.rdd.RDD.$anonfun$mapPartitions$2$adapted(RDD.scala:858)\n",
      "\tat org.apache.spark.rdd.MapPartitionsRDD.compute(MapPartitionsRDD.scala:52)\n",
      "\tat org.apache.spark.rdd.RDD.computeOrReadCheckpoint(RDD.scala:367)\n",
      "\tat org.apache.spark.rdd.RDD.iterator(RDD.scala:331)\n",
      "\tat org.apache.spark.rdd.MapPartitionsRDD.compute(MapPartitionsRDD.scala:52)\n",
      "\tat org.apache.spark.rdd.RDD.computeOrReadCheckpoint(RDD.scala:367)\n",
      "\tat org.apache.spark.rdd.RDD.iterator(RDD.scala:331)\n",
      "\tat org.apache.spark.shuffle.ShuffleWriteProcessor.write(ShuffleWriteProcessor.scala:59)\n",
      "\tat org.apache.spark.scheduler.ShuffleMapTask.runTask(ShuffleMapTask.scala:104)\n",
      "\tat org.apache.spark.scheduler.ShuffleMapTask.runTask(ShuffleMapTask.scala:54)\n",
      "\tat org.apache.spark.TaskContext.runTaskWithListeners(TaskContext.scala:166)\n",
      "\tat org.apache.spark.scheduler.Task.run(Task.scala:141)\n",
      "\tat org.apache.spark.executor.Executor$TaskRunner.$anonfun$run$4(Executor.scala:620)\n",
      "\tat org.apache.spark.util.SparkErrorUtils.tryWithSafeFinally(SparkErrorUtils.scala:64)\n",
      "\tat org.apache.spark.util.SparkErrorUtils.tryWithSafeFinally$(SparkErrorUtils.scala:61)\n",
      "\tat org.apache.spark.util.Utils$.tryWithSafeFinally(Utils.scala:94)\n",
      "\tat org.apache.spark.executor.Executor$TaskRunner.run(Executor.scala:623)\n",
      "\tat java.util.concurrent.ThreadPoolExecutor.runWorker(ThreadPoolExecutor.java:1142)\n",
      "\tat java.util.concurrent.ThreadPoolExecutor$Worker.run(ThreadPoolExecutor.java:617)\n",
      "\t... 1 more\n",
      "Caused by: org.apache.spark.SparkException: Encountered null while assembling a row with handleInvalid = \"error\". Consider\n",
      "removing nulls from dataset or using handleInvalid = \"keep\" or \"skip\".\n",
      "\tat org.apache.spark.ml.feature.VectorAssembler$.$anonfun$assemble$1(VectorAssembler.scala:291)\n",
      "\tat org.apache.spark.ml.feature.VectorAssembler$.$anonfun$assemble$1$adapted(VectorAssembler.scala:260)\n",
      "\tat scala.collection.IndexedSeqOptimized.foreach(IndexedSeqOptimized.scala:36)\n",
      "\tat scala.collection.IndexedSeqOptimized.foreach$(IndexedSeqOptimized.scala:33)\n",
      "\tat scala.collection.mutable.WrappedArray.foreach(WrappedArray.scala:38)\n",
      "\tat org.apache.spark.ml.feature.VectorAssembler$.assemble(VectorAssembler.scala:260)\n",
      "\tat org.apache.spark.ml.feature.VectorAssembler.$anonfun$transform$6(VectorAssembler.scala:143)\n",
      "\t... 41 more\n",
      "\n",
      "[Stage 68:>                                                       (0 + 10) / 14]\r"
     ]
    },
    {
     "ename": "Py4JJavaError",
     "evalue": "An error occurred while calling o332.fit.\n: org.apache.spark.SparkException: Job aborted due to stage failure: Task 1 in stage 68.0 failed 1 times, most recent failure: Lost task 1.0 in stage 68.0 (TID 359) (192.168.4.60 executor driver): org.apache.spark.SparkException: [FAILED_EXECUTE_UDF] Failed to execute user defined function (`VectorAssembler$$Lambda$4356/949631386`: (struct<AGE_double_VectorAssembler_8449788eef09:double,MARST_double_VectorAssembler_8449788eef09:double,RACE_double_VectorAssembler_8449788eef09:double,CITIZEN_double_VectorAssembler_8449788eef09:double,EDUC_double_VectorAssembler_8449788eef09:double,CLASSWKR_double_VectorAssembler_8449788eef09:double,AFTOTINC:double,NFAMS_double_VectorAssembler_8449788eef09:double,FAMSIZE_double_VectorAssembler_8449788eef09:double,GQ_double_VectorAssembler_8449788eef09:double,MET2023_double_VectorAssembler_8449788eef09:double,STATEICP_double_VectorAssembler_8449788eef09:double,CBPERNUM_double_VectorAssembler_8449788eef09:double,YEAR_double_VectorAssembler_8449788eef09:double,HHTYPE_double_VectorAssembler_8449788eef09:double>) => struct<type:tinyint,size:int,indices:array<int>,values:array<double>>).\n\tat org.apache.spark.sql.errors.QueryExecutionErrors$.failedExecuteUserDefinedFunctionError(QueryExecutionErrors.scala:198)\n\tat org.apache.spark.sql.errors.QueryExecutionErrors.failedExecuteUserDefinedFunctionError(QueryExecutionErrors.scala)\n\tat org.apache.spark.sql.catalyst.expressions.GeneratedClass$GeneratedIteratorForCodegenStage6.hashAgg_ScalaUDF_0$(Unknown Source)\n\tat org.apache.spark.sql.catalyst.expressions.GeneratedClass$GeneratedIteratorForCodegenStage6.hashAgg_doAggregateWithKeysOutput_1$(Unknown Source)\n\tat org.apache.spark.sql.catalyst.expressions.GeneratedClass$GeneratedIteratorForCodegenStage6.sort_addToSorter_0$(Unknown Source)\n\tat org.apache.spark.sql.catalyst.expressions.GeneratedClass$GeneratedIteratorForCodegenStage6.processNext(Unknown Source)\n\tat org.apache.spark.sql.execution.BufferedRowIterator.hasNext(BufferedRowIterator.java:43)\n\tat org.apache.spark.sql.execution.WholeStageCodegenEvaluatorFactory$WholeStageCodegenPartitionEvaluator$$anon$1.hasNext(WholeStageCodegenEvaluatorFactory.scala:43)\n\tat scala.collection.Iterator$$anon$10.hasNext(Iterator.scala:460)\n\tat scala.collection.Iterator$$anon$10.hasNext(Iterator.scala:460)\n\tat scala.collection.Iterator$$anon$10.hasNext(Iterator.scala:460)\n\tat scala.collection.Iterator.foreach(Iterator.scala:943)\n\tat scala.collection.Iterator.foreach$(Iterator.scala:943)\n\tat scala.collection.AbstractIterator.foreach(Iterator.scala:1431)\n\tat scala.collection.TraversableOnce.foldLeft(TraversableOnce.scala:199)\n\tat scala.collection.TraversableOnce.foldLeft$(TraversableOnce.scala:192)\n\tat scala.collection.AbstractIterator.foldLeft(Iterator.scala:1431)\n\tat scala.collection.TraversableOnce.aggregate(TraversableOnce.scala:260)\n\tat scala.collection.TraversableOnce.aggregate$(TraversableOnce.scala:260)\n\tat scala.collection.AbstractIterator.aggregate(Iterator.scala:1431)\n\tat org.apache.spark.rdd.RDD.$anonfun$treeAggregate$4(RDD.scala:1264)\n\tat org.apache.spark.rdd.RDD.$anonfun$treeAggregate$6(RDD.scala:1265)\n\tat org.apache.spark.rdd.RDD.$anonfun$mapPartitions$2(RDD.scala:858)\n\tat org.apache.spark.rdd.RDD.$anonfun$mapPartitions$2$adapted(RDD.scala:858)\n\tat org.apache.spark.rdd.MapPartitionsRDD.compute(MapPartitionsRDD.scala:52)\n\tat org.apache.spark.rdd.RDD.computeOrReadCheckpoint(RDD.scala:367)\n\tat org.apache.spark.rdd.RDD.iterator(RDD.scala:331)\n\tat org.apache.spark.rdd.MapPartitionsRDD.compute(MapPartitionsRDD.scala:52)\n\tat org.apache.spark.rdd.RDD.computeOrReadCheckpoint(RDD.scala:367)\n\tat org.apache.spark.rdd.RDD.iterator(RDD.scala:331)\n\tat org.apache.spark.shuffle.ShuffleWriteProcessor.write(ShuffleWriteProcessor.scala:59)\n\tat org.apache.spark.scheduler.ShuffleMapTask.runTask(ShuffleMapTask.scala:104)\n\tat org.apache.spark.scheduler.ShuffleMapTask.runTask(ShuffleMapTask.scala:54)\n\tat org.apache.spark.TaskContext.runTaskWithListeners(TaskContext.scala:166)\n\tat org.apache.spark.scheduler.Task.run(Task.scala:141)\n\tat org.apache.spark.executor.Executor$TaskRunner.$anonfun$run$4(Executor.scala:620)\n\tat org.apache.spark.util.SparkErrorUtils.tryWithSafeFinally(SparkErrorUtils.scala:64)\n\tat org.apache.spark.util.SparkErrorUtils.tryWithSafeFinally$(SparkErrorUtils.scala:61)\n\tat org.apache.spark.util.Utils$.tryWithSafeFinally(Utils.scala:94)\n\tat org.apache.spark.executor.Executor$TaskRunner.run(Executor.scala:623)\n\tat java.util.concurrent.ThreadPoolExecutor.runWorker(ThreadPoolExecutor.java:1142)\n\tat java.util.concurrent.ThreadPoolExecutor$Worker.run(ThreadPoolExecutor.java:617)\n\tat java.lang.Thread.run(Thread.java:745)\nCaused by: org.apache.spark.SparkException: Encountered null while assembling a row with handleInvalid = \"error\". Consider\nremoving nulls from dataset or using handleInvalid = \"keep\" or \"skip\".\n\tat org.apache.spark.ml.feature.VectorAssembler$.$anonfun$assemble$1(VectorAssembler.scala:291)\n\tat org.apache.spark.ml.feature.VectorAssembler$.$anonfun$assemble$1$adapted(VectorAssembler.scala:260)\n\tat scala.collection.IndexedSeqOptimized.foreach(IndexedSeqOptimized.scala:36)\n\tat scala.collection.IndexedSeqOptimized.foreach$(IndexedSeqOptimized.scala:33)\n\tat scala.collection.mutable.WrappedArray.foreach(WrappedArray.scala:38)\n\tat org.apache.spark.ml.feature.VectorAssembler$.assemble(VectorAssembler.scala:260)\n\tat org.apache.spark.ml.feature.VectorAssembler.$anonfun$transform$6(VectorAssembler.scala:143)\n\t... 41 more\n\nDriver stacktrace:\n\tat org.apache.spark.scheduler.DAGScheduler.failJobAndIndependentStages(DAGScheduler.scala:2856)\n\tat org.apache.spark.scheduler.DAGScheduler.$anonfun$abortStage$2(DAGScheduler.scala:2792)\n\tat org.apache.spark.scheduler.DAGScheduler.$anonfun$abortStage$2$adapted(DAGScheduler.scala:2791)\n\tat scala.collection.mutable.ResizableArray.foreach(ResizableArray.scala:62)\n\tat scala.collection.mutable.ResizableArray.foreach$(ResizableArray.scala:55)\n\tat scala.collection.mutable.ArrayBuffer.foreach(ArrayBuffer.scala:49)\n\tat org.apache.spark.scheduler.DAGScheduler.abortStage(DAGScheduler.scala:2791)\n\tat org.apache.spark.scheduler.DAGScheduler.$anonfun$handleTaskSetFailed$1(DAGScheduler.scala:1247)\n\tat org.apache.spark.scheduler.DAGScheduler.$anonfun$handleTaskSetFailed$1$adapted(DAGScheduler.scala:1247)\n\tat scala.Option.foreach(Option.scala:407)\n\tat org.apache.spark.scheduler.DAGScheduler.handleTaskSetFailed(DAGScheduler.scala:1247)\n\tat org.apache.spark.scheduler.DAGSchedulerEventProcessLoop.doOnReceive(DAGScheduler.scala:3060)\n\tat org.apache.spark.scheduler.DAGSchedulerEventProcessLoop.onReceive(DAGScheduler.scala:2994)\n\tat org.apache.spark.scheduler.DAGSchedulerEventProcessLoop.onReceive(DAGScheduler.scala:2983)\n\tat org.apache.spark.util.EventLoop$$anon$1.run(EventLoop.scala:49)\n\tat org.apache.spark.scheduler.DAGScheduler.runJob(DAGScheduler.scala:989)\n\tat org.apache.spark.SparkContext.runJob(SparkContext.scala:2398)\n\tat org.apache.spark.SparkContext.runJob(SparkContext.scala:2493)\n\tat org.apache.spark.rdd.RDD.$anonfun$fold$1(RDD.scala:1202)\n\tat org.apache.spark.rdd.RDDOperationScope$.withScope(RDDOperationScope.scala:151)\n\tat org.apache.spark.rdd.RDDOperationScope$.withScope(RDDOperationScope.scala:112)\n\tat org.apache.spark.rdd.RDD.withScope(RDD.scala:410)\n\tat org.apache.spark.rdd.RDD.fold(RDD.scala:1196)\n\tat org.apache.spark.rdd.RDD.$anonfun$treeAggregate$2(RDD.scala:1289)\n\tat org.apache.spark.rdd.RDDOperationScope$.withScope(RDDOperationScope.scala:151)\n\tat org.apache.spark.rdd.RDDOperationScope$.withScope(RDDOperationScope.scala:112)\n\tat org.apache.spark.rdd.RDD.withScope(RDD.scala:410)\n\tat org.apache.spark.rdd.RDD.treeAggregate(RDD.scala:1256)\n\tat org.apache.spark.rdd.RDD.$anonfun$treeAggregate$1(RDD.scala:1242)\n\tat org.apache.spark.rdd.RDDOperationScope$.withScope(RDDOperationScope.scala:151)\n\tat org.apache.spark.rdd.RDDOperationScope$.withScope(RDDOperationScope.scala:112)\n\tat org.apache.spark.rdd.RDD.withScope(RDD.scala:410)\n\tat org.apache.spark.rdd.RDD.treeAggregate(RDD.scala:1242)\n\tat org.apache.spark.ml.stat.Summarizer$.getClassificationSummarizers(Summarizer.scala:233)\n\tat org.apache.spark.ml.classification.LogisticRegression.$anonfun$train$1(LogisticRegression.scala:517)\n\tat org.apache.spark.ml.util.Instrumentation$.$anonfun$instrumented$1(Instrumentation.scala:191)\n\tat scala.util.Try$.apply(Try.scala:213)\n\tat org.apache.spark.ml.util.Instrumentation$.instrumented(Instrumentation.scala:191)\n\tat org.apache.spark.ml.classification.LogisticRegression.train(LogisticRegression.scala:497)\n\tat org.apache.spark.ml.classification.LogisticRegression.train(LogisticRegression.scala:287)\n\tat org.apache.spark.ml.Predictor.fit(Predictor.scala:114)\n\tat sun.reflect.NativeMethodAccessorImpl.invoke0(Native Method)\n\tat sun.reflect.NativeMethodAccessorImpl.invoke(NativeMethodAccessorImpl.java:62)\n\tat sun.reflect.DelegatingMethodAccessorImpl.invoke(DelegatingMethodAccessorImpl.java:43)\n\tat java.lang.reflect.Method.invoke(Method.java:498)\n\tat py4j.reflection.MethodInvoker.invoke(MethodInvoker.java:244)\n\tat py4j.reflection.ReflectionEngine.invoke(ReflectionEngine.java:374)\n\tat py4j.Gateway.invoke(Gateway.java:282)\n\tat py4j.commands.AbstractCommand.invokeMethod(AbstractCommand.java:132)\n\tat py4j.commands.CallCommand.execute(CallCommand.java:79)\n\tat py4j.ClientServerConnection.waitForCommands(ClientServerConnection.java:182)\n\tat py4j.ClientServerConnection.run(ClientServerConnection.java:106)\n\tat java.lang.Thread.run(Thread.java:745)\nCaused by: org.apache.spark.SparkException: [FAILED_EXECUTE_UDF] Failed to execute user defined function (`VectorAssembler$$Lambda$4356/949631386`: (struct<AGE_double_VectorAssembler_8449788eef09:double,MARST_double_VectorAssembler_8449788eef09:double,RACE_double_VectorAssembler_8449788eef09:double,CITIZEN_double_VectorAssembler_8449788eef09:double,EDUC_double_VectorAssembler_8449788eef09:double,CLASSWKR_double_VectorAssembler_8449788eef09:double,AFTOTINC:double,NFAMS_double_VectorAssembler_8449788eef09:double,FAMSIZE_double_VectorAssembler_8449788eef09:double,GQ_double_VectorAssembler_8449788eef09:double,MET2023_double_VectorAssembler_8449788eef09:double,STATEICP_double_VectorAssembler_8449788eef09:double,CBPERNUM_double_VectorAssembler_8449788eef09:double,YEAR_double_VectorAssembler_8449788eef09:double,HHTYPE_double_VectorAssembler_8449788eef09:double>) => struct<type:tinyint,size:int,indices:array<int>,values:array<double>>).\n\tat org.apache.spark.sql.errors.QueryExecutionErrors$.failedExecuteUserDefinedFunctionError(QueryExecutionErrors.scala:198)\n\tat org.apache.spark.sql.errors.QueryExecutionErrors.failedExecuteUserDefinedFunctionError(QueryExecutionErrors.scala)\n\tat org.apache.spark.sql.catalyst.expressions.GeneratedClass$GeneratedIteratorForCodegenStage6.hashAgg_ScalaUDF_0$(Unknown Source)\n\tat org.apache.spark.sql.catalyst.expressions.GeneratedClass$GeneratedIteratorForCodegenStage6.hashAgg_doAggregateWithKeysOutput_1$(Unknown Source)\n\tat org.apache.spark.sql.catalyst.expressions.GeneratedClass$GeneratedIteratorForCodegenStage6.sort_addToSorter_0$(Unknown Source)\n\tat org.apache.spark.sql.catalyst.expressions.GeneratedClass$GeneratedIteratorForCodegenStage6.processNext(Unknown Source)\n\tat org.apache.spark.sql.execution.BufferedRowIterator.hasNext(BufferedRowIterator.java:43)\n\tat org.apache.spark.sql.execution.WholeStageCodegenEvaluatorFactory$WholeStageCodegenPartitionEvaluator$$anon$1.hasNext(WholeStageCodegenEvaluatorFactory.scala:43)\n\tat scala.collection.Iterator$$anon$10.hasNext(Iterator.scala:460)\n\tat scala.collection.Iterator$$anon$10.hasNext(Iterator.scala:460)\n\tat scala.collection.Iterator$$anon$10.hasNext(Iterator.scala:460)\n\tat scala.collection.Iterator.foreach(Iterator.scala:943)\n\tat scala.collection.Iterator.foreach$(Iterator.scala:943)\n\tat scala.collection.AbstractIterator.foreach(Iterator.scala:1431)\n\tat scala.collection.TraversableOnce.foldLeft(TraversableOnce.scala:199)\n\tat scala.collection.TraversableOnce.foldLeft$(TraversableOnce.scala:192)\n\tat scala.collection.AbstractIterator.foldLeft(Iterator.scala:1431)\n\tat scala.collection.TraversableOnce.aggregate(TraversableOnce.scala:260)\n\tat scala.collection.TraversableOnce.aggregate$(TraversableOnce.scala:260)\n\tat scala.collection.AbstractIterator.aggregate(Iterator.scala:1431)\n\tat org.apache.spark.rdd.RDD.$anonfun$treeAggregate$4(RDD.scala:1264)\n\tat org.apache.spark.rdd.RDD.$anonfun$treeAggregate$6(RDD.scala:1265)\n\tat org.apache.spark.rdd.RDD.$anonfun$mapPartitions$2(RDD.scala:858)\n\tat org.apache.spark.rdd.RDD.$anonfun$mapPartitions$2$adapted(RDD.scala:858)\n\tat org.apache.spark.rdd.MapPartitionsRDD.compute(MapPartitionsRDD.scala:52)\n\tat org.apache.spark.rdd.RDD.computeOrReadCheckpoint(RDD.scala:367)\n\tat org.apache.spark.rdd.RDD.iterator(RDD.scala:331)\n\tat org.apache.spark.rdd.MapPartitionsRDD.compute(MapPartitionsRDD.scala:52)\n\tat org.apache.spark.rdd.RDD.computeOrReadCheckpoint(RDD.scala:367)\n\tat org.apache.spark.rdd.RDD.iterator(RDD.scala:331)\n\tat org.apache.spark.shuffle.ShuffleWriteProcessor.write(ShuffleWriteProcessor.scala:59)\n\tat org.apache.spark.scheduler.ShuffleMapTask.runTask(ShuffleMapTask.scala:104)\n\tat org.apache.spark.scheduler.ShuffleMapTask.runTask(ShuffleMapTask.scala:54)\n\tat org.apache.spark.TaskContext.runTaskWithListeners(TaskContext.scala:166)\n\tat org.apache.spark.scheduler.Task.run(Task.scala:141)\n\tat org.apache.spark.executor.Executor$TaskRunner.$anonfun$run$4(Executor.scala:620)\n\tat org.apache.spark.util.SparkErrorUtils.tryWithSafeFinally(SparkErrorUtils.scala:64)\n\tat org.apache.spark.util.SparkErrorUtils.tryWithSafeFinally$(SparkErrorUtils.scala:61)\n\tat org.apache.spark.util.Utils$.tryWithSafeFinally(Utils.scala:94)\n\tat org.apache.spark.executor.Executor$TaskRunner.run(Executor.scala:623)\n\tat java.util.concurrent.ThreadPoolExecutor.runWorker(ThreadPoolExecutor.java:1142)\n\tat java.util.concurrent.ThreadPoolExecutor$Worker.run(ThreadPoolExecutor.java:617)\n\t... 1 more\nCaused by: org.apache.spark.SparkException: Encountered null while assembling a row with handleInvalid = \"error\". Consider\nremoving nulls from dataset or using handleInvalid = \"keep\" or \"skip\".\n\tat org.apache.spark.ml.feature.VectorAssembler$.$anonfun$assemble$1(VectorAssembler.scala:291)\n\tat org.apache.spark.ml.feature.VectorAssembler$.$anonfun$assemble$1$adapted(VectorAssembler.scala:260)\n\tat scala.collection.IndexedSeqOptimized.foreach(IndexedSeqOptimized.scala:36)\n\tat scala.collection.IndexedSeqOptimized.foreach$(IndexedSeqOptimized.scala:33)\n\tat scala.collection.mutable.WrappedArray.foreach(WrappedArray.scala:38)\n\tat org.apache.spark.ml.feature.VectorAssembler$.assemble(VectorAssembler.scala:260)\n\tat org.apache.spark.ml.feature.VectorAssembler.$anonfun$transform$6(VectorAssembler.scala:143)\n\t... 41 more\n",
     "output_type": "error",
     "traceback": [
      "\u001b[0;31m---------------------------------------------------------------------------\u001b[0m",
      "\u001b[0;31mPy4JJavaError\u001b[0m                             Traceback (most recent call last)",
      "Cell \u001b[0;32mIn[14], line 2\u001b[0m\n\u001b[1;32m      1\u001b[0m logistic_regression \u001b[38;5;241m=\u001b[39m LogisticRegression(featuresCol\u001b[38;5;241m=\u001b[39m\u001b[38;5;124m\"\u001b[39m\u001b[38;5;124mfeatures\u001b[39m\u001b[38;5;124m\"\u001b[39m, labelCol\u001b[38;5;241m=\u001b[39m\u001b[38;5;124m\"\u001b[39m\u001b[38;5;124mOWNERSHP\u001b[39m\u001b[38;5;124m\"\u001b[39m)\n\u001b[0;32m----> 2\u001b[0m model \u001b[38;5;241m=\u001b[39m \u001b[43mlogistic_regression\u001b[49m\u001b[38;5;241;43m.\u001b[39;49m\u001b[43mfit\u001b[49m\u001b[43m(\u001b[49m\u001b[43mnorm_train\u001b[49m\u001b[43m)\u001b[49m\n\u001b[1;32m      4\u001b[0m predictions \u001b[38;5;241m=\u001b[39m model\u001b[38;5;241m.\u001b[39mtransform(norm_test)\n\u001b[1;32m      6\u001b[0m \u001b[38;5;66;03m# AUC-ROC\u001b[39;00m\n\u001b[1;32m      7\u001b[0m \u001b[38;5;66;03m##auc = evaluator.evaluate(predictions)\u001b[39;00m\n\u001b[1;32m      8\u001b[0m \n\u001b[1;32m      9\u001b[0m \u001b[38;5;66;03m# Accuracy, Precision, and Recall\u001b[39;00m\n",
      "File \u001b[0;32m/Library/Frameworks/Python.framework/Versions/3.10/lib/python3.10/site-packages/pyspark/ml/base.py:205\u001b[0m, in \u001b[0;36mEstimator.fit\u001b[0;34m(self, dataset, params)\u001b[0m\n\u001b[1;32m    203\u001b[0m         \u001b[38;5;28;01mreturn\u001b[39;00m \u001b[38;5;28mself\u001b[39m\u001b[38;5;241m.\u001b[39mcopy(params)\u001b[38;5;241m.\u001b[39m_fit(dataset)\n\u001b[1;32m    204\u001b[0m     \u001b[38;5;28;01melse\u001b[39;00m:\n\u001b[0;32m--> 205\u001b[0m         \u001b[38;5;28;01mreturn\u001b[39;00m \u001b[38;5;28;43mself\u001b[39;49m\u001b[38;5;241;43m.\u001b[39;49m\u001b[43m_fit\u001b[49m\u001b[43m(\u001b[49m\u001b[43mdataset\u001b[49m\u001b[43m)\u001b[49m\n\u001b[1;32m    206\u001b[0m \u001b[38;5;28;01melse\u001b[39;00m:\n\u001b[1;32m    207\u001b[0m     \u001b[38;5;28;01mraise\u001b[39;00m \u001b[38;5;167;01mTypeError\u001b[39;00m(\n\u001b[1;32m    208\u001b[0m         \u001b[38;5;124m\"\u001b[39m\u001b[38;5;124mParams must be either a param map or a list/tuple of param maps, \u001b[39m\u001b[38;5;124m\"\u001b[39m\n\u001b[1;32m    209\u001b[0m         \u001b[38;5;124m\"\u001b[39m\u001b[38;5;124mbut got \u001b[39m\u001b[38;5;132;01m%s\u001b[39;00m\u001b[38;5;124m.\u001b[39m\u001b[38;5;124m\"\u001b[39m \u001b[38;5;241m%\u001b[39m \u001b[38;5;28mtype\u001b[39m(params)\n\u001b[1;32m    210\u001b[0m     )\n",
      "File \u001b[0;32m/Library/Frameworks/Python.framework/Versions/3.10/lib/python3.10/site-packages/pyspark/ml/wrapper.py:381\u001b[0m, in \u001b[0;36mJavaEstimator._fit\u001b[0;34m(self, dataset)\u001b[0m\n\u001b[1;32m    380\u001b[0m \u001b[38;5;28;01mdef\u001b[39;00m \u001b[38;5;21m_fit\u001b[39m(\u001b[38;5;28mself\u001b[39m, dataset: DataFrame) \u001b[38;5;241m-\u001b[39m\u001b[38;5;241m>\u001b[39m JM:\n\u001b[0;32m--> 381\u001b[0m     java_model \u001b[38;5;241m=\u001b[39m \u001b[38;5;28;43mself\u001b[39;49m\u001b[38;5;241;43m.\u001b[39;49m\u001b[43m_fit_java\u001b[49m\u001b[43m(\u001b[49m\u001b[43mdataset\u001b[49m\u001b[43m)\u001b[49m\n\u001b[1;32m    382\u001b[0m     model \u001b[38;5;241m=\u001b[39m \u001b[38;5;28mself\u001b[39m\u001b[38;5;241m.\u001b[39m_create_model(java_model)\n\u001b[1;32m    383\u001b[0m     \u001b[38;5;28;01mreturn\u001b[39;00m \u001b[38;5;28mself\u001b[39m\u001b[38;5;241m.\u001b[39m_copyValues(model)\n",
      "File \u001b[0;32m/Library/Frameworks/Python.framework/Versions/3.10/lib/python3.10/site-packages/pyspark/ml/wrapper.py:378\u001b[0m, in \u001b[0;36mJavaEstimator._fit_java\u001b[0;34m(self, dataset)\u001b[0m\n\u001b[1;32m    375\u001b[0m \u001b[38;5;28;01massert\u001b[39;00m \u001b[38;5;28mself\u001b[39m\u001b[38;5;241m.\u001b[39m_java_obj \u001b[38;5;129;01mis\u001b[39;00m \u001b[38;5;129;01mnot\u001b[39;00m \u001b[38;5;28;01mNone\u001b[39;00m\n\u001b[1;32m    377\u001b[0m \u001b[38;5;28mself\u001b[39m\u001b[38;5;241m.\u001b[39m_transfer_params_to_java()\n\u001b[0;32m--> 378\u001b[0m \u001b[38;5;28;01mreturn\u001b[39;00m \u001b[38;5;28;43mself\u001b[39;49m\u001b[38;5;241;43m.\u001b[39;49m\u001b[43m_java_obj\u001b[49m\u001b[38;5;241;43m.\u001b[39;49m\u001b[43mfit\u001b[49m\u001b[43m(\u001b[49m\u001b[43mdataset\u001b[49m\u001b[38;5;241;43m.\u001b[39;49m\u001b[43m_jdf\u001b[49m\u001b[43m)\u001b[49m\n",
      "File \u001b[0;32m/Library/Frameworks/Python.framework/Versions/3.10/lib/python3.10/site-packages/py4j/java_gateway.py:1322\u001b[0m, in \u001b[0;36mJavaMember.__call__\u001b[0;34m(self, *args)\u001b[0m\n\u001b[1;32m   1316\u001b[0m command \u001b[38;5;241m=\u001b[39m proto\u001b[38;5;241m.\u001b[39mCALL_COMMAND_NAME \u001b[38;5;241m+\u001b[39m\\\n\u001b[1;32m   1317\u001b[0m     \u001b[38;5;28mself\u001b[39m\u001b[38;5;241m.\u001b[39mcommand_header \u001b[38;5;241m+\u001b[39m\\\n\u001b[1;32m   1318\u001b[0m     args_command \u001b[38;5;241m+\u001b[39m\\\n\u001b[1;32m   1319\u001b[0m     proto\u001b[38;5;241m.\u001b[39mEND_COMMAND_PART\n\u001b[1;32m   1321\u001b[0m answer \u001b[38;5;241m=\u001b[39m \u001b[38;5;28mself\u001b[39m\u001b[38;5;241m.\u001b[39mgateway_client\u001b[38;5;241m.\u001b[39msend_command(command)\n\u001b[0;32m-> 1322\u001b[0m return_value \u001b[38;5;241m=\u001b[39m \u001b[43mget_return_value\u001b[49m\u001b[43m(\u001b[49m\n\u001b[1;32m   1323\u001b[0m \u001b[43m    \u001b[49m\u001b[43manswer\u001b[49m\u001b[43m,\u001b[49m\u001b[43m \u001b[49m\u001b[38;5;28;43mself\u001b[39;49m\u001b[38;5;241;43m.\u001b[39;49m\u001b[43mgateway_client\u001b[49m\u001b[43m,\u001b[49m\u001b[43m \u001b[49m\u001b[38;5;28;43mself\u001b[39;49m\u001b[38;5;241;43m.\u001b[39;49m\u001b[43mtarget_id\u001b[49m\u001b[43m,\u001b[49m\u001b[43m \u001b[49m\u001b[38;5;28;43mself\u001b[39;49m\u001b[38;5;241;43m.\u001b[39;49m\u001b[43mname\u001b[49m\u001b[43m)\u001b[49m\n\u001b[1;32m   1325\u001b[0m \u001b[38;5;28;01mfor\u001b[39;00m temp_arg \u001b[38;5;129;01min\u001b[39;00m temp_args:\n\u001b[1;32m   1326\u001b[0m     \u001b[38;5;28;01mif\u001b[39;00m \u001b[38;5;28mhasattr\u001b[39m(temp_arg, \u001b[38;5;124m\"\u001b[39m\u001b[38;5;124m_detach\u001b[39m\u001b[38;5;124m\"\u001b[39m):\n",
      "File \u001b[0;32m/Library/Frameworks/Python.framework/Versions/3.10/lib/python3.10/site-packages/pyspark/errors/exceptions/captured.py:179\u001b[0m, in \u001b[0;36mcapture_sql_exception.<locals>.deco\u001b[0;34m(*a, **kw)\u001b[0m\n\u001b[1;32m    177\u001b[0m \u001b[38;5;28;01mdef\u001b[39;00m \u001b[38;5;21mdeco\u001b[39m(\u001b[38;5;241m*\u001b[39ma: Any, \u001b[38;5;241m*\u001b[39m\u001b[38;5;241m*\u001b[39mkw: Any) \u001b[38;5;241m-\u001b[39m\u001b[38;5;241m>\u001b[39m Any:\n\u001b[1;32m    178\u001b[0m     \u001b[38;5;28;01mtry\u001b[39;00m:\n\u001b[0;32m--> 179\u001b[0m         \u001b[38;5;28;01mreturn\u001b[39;00m \u001b[43mf\u001b[49m\u001b[43m(\u001b[49m\u001b[38;5;241;43m*\u001b[39;49m\u001b[43ma\u001b[49m\u001b[43m,\u001b[49m\u001b[43m \u001b[49m\u001b[38;5;241;43m*\u001b[39;49m\u001b[38;5;241;43m*\u001b[39;49m\u001b[43mkw\u001b[49m\u001b[43m)\u001b[49m\n\u001b[1;32m    180\u001b[0m     \u001b[38;5;28;01mexcept\u001b[39;00m Py4JJavaError \u001b[38;5;28;01mas\u001b[39;00m e:\n\u001b[1;32m    181\u001b[0m         converted \u001b[38;5;241m=\u001b[39m convert_exception(e\u001b[38;5;241m.\u001b[39mjava_exception)\n",
      "File \u001b[0;32m/Library/Frameworks/Python.framework/Versions/3.10/lib/python3.10/site-packages/py4j/protocol.py:326\u001b[0m, in \u001b[0;36mget_return_value\u001b[0;34m(answer, gateway_client, target_id, name)\u001b[0m\n\u001b[1;32m    324\u001b[0m value \u001b[38;5;241m=\u001b[39m OUTPUT_CONVERTER[\u001b[38;5;28mtype\u001b[39m](answer[\u001b[38;5;241m2\u001b[39m:], gateway_client)\n\u001b[1;32m    325\u001b[0m \u001b[38;5;28;01mif\u001b[39;00m answer[\u001b[38;5;241m1\u001b[39m] \u001b[38;5;241m==\u001b[39m REFERENCE_TYPE:\n\u001b[0;32m--> 326\u001b[0m     \u001b[38;5;28;01mraise\u001b[39;00m Py4JJavaError(\n\u001b[1;32m    327\u001b[0m         \u001b[38;5;124m\"\u001b[39m\u001b[38;5;124mAn error occurred while calling \u001b[39m\u001b[38;5;132;01m{0}\u001b[39;00m\u001b[38;5;132;01m{1}\u001b[39;00m\u001b[38;5;132;01m{2}\u001b[39;00m\u001b[38;5;124m.\u001b[39m\u001b[38;5;130;01m\\n\u001b[39;00m\u001b[38;5;124m\"\u001b[39m\u001b[38;5;241m.\u001b[39m\n\u001b[1;32m    328\u001b[0m         \u001b[38;5;28mformat\u001b[39m(target_id, \u001b[38;5;124m\"\u001b[39m\u001b[38;5;124m.\u001b[39m\u001b[38;5;124m\"\u001b[39m, name), value)\n\u001b[1;32m    329\u001b[0m \u001b[38;5;28;01melse\u001b[39;00m:\n\u001b[1;32m    330\u001b[0m     \u001b[38;5;28;01mraise\u001b[39;00m Py4JError(\n\u001b[1;32m    331\u001b[0m         \u001b[38;5;124m\"\u001b[39m\u001b[38;5;124mAn error occurred while calling \u001b[39m\u001b[38;5;132;01m{0}\u001b[39;00m\u001b[38;5;132;01m{1}\u001b[39;00m\u001b[38;5;132;01m{2}\u001b[39;00m\u001b[38;5;124m. Trace:\u001b[39m\u001b[38;5;130;01m\\n\u001b[39;00m\u001b[38;5;132;01m{3}\u001b[39;00m\u001b[38;5;130;01m\\n\u001b[39;00m\u001b[38;5;124m\"\u001b[39m\u001b[38;5;241m.\u001b[39m\n\u001b[1;32m    332\u001b[0m         \u001b[38;5;28mformat\u001b[39m(target_id, \u001b[38;5;124m\"\u001b[39m\u001b[38;5;124m.\u001b[39m\u001b[38;5;124m\"\u001b[39m, name, value))\n",
      "\u001b[0;31mPy4JJavaError\u001b[0m: An error occurred while calling o332.fit.\n: org.apache.spark.SparkException: Job aborted due to stage failure: Task 1 in stage 68.0 failed 1 times, most recent failure: Lost task 1.0 in stage 68.0 (TID 359) (192.168.4.60 executor driver): org.apache.spark.SparkException: [FAILED_EXECUTE_UDF] Failed to execute user defined function (`VectorAssembler$$Lambda$4356/949631386`: (struct<AGE_double_VectorAssembler_8449788eef09:double,MARST_double_VectorAssembler_8449788eef09:double,RACE_double_VectorAssembler_8449788eef09:double,CITIZEN_double_VectorAssembler_8449788eef09:double,EDUC_double_VectorAssembler_8449788eef09:double,CLASSWKR_double_VectorAssembler_8449788eef09:double,AFTOTINC:double,NFAMS_double_VectorAssembler_8449788eef09:double,FAMSIZE_double_VectorAssembler_8449788eef09:double,GQ_double_VectorAssembler_8449788eef09:double,MET2023_double_VectorAssembler_8449788eef09:double,STATEICP_double_VectorAssembler_8449788eef09:double,CBPERNUM_double_VectorAssembler_8449788eef09:double,YEAR_double_VectorAssembler_8449788eef09:double,HHTYPE_double_VectorAssembler_8449788eef09:double>) => struct<type:tinyint,size:int,indices:array<int>,values:array<double>>).\n\tat org.apache.spark.sql.errors.QueryExecutionErrors$.failedExecuteUserDefinedFunctionError(QueryExecutionErrors.scala:198)\n\tat org.apache.spark.sql.errors.QueryExecutionErrors.failedExecuteUserDefinedFunctionError(QueryExecutionErrors.scala)\n\tat org.apache.spark.sql.catalyst.expressions.GeneratedClass$GeneratedIteratorForCodegenStage6.hashAgg_ScalaUDF_0$(Unknown Source)\n\tat org.apache.spark.sql.catalyst.expressions.GeneratedClass$GeneratedIteratorForCodegenStage6.hashAgg_doAggregateWithKeysOutput_1$(Unknown Source)\n\tat org.apache.spark.sql.catalyst.expressions.GeneratedClass$GeneratedIteratorForCodegenStage6.sort_addToSorter_0$(Unknown Source)\n\tat org.apache.spark.sql.catalyst.expressions.GeneratedClass$GeneratedIteratorForCodegenStage6.processNext(Unknown Source)\n\tat org.apache.spark.sql.execution.BufferedRowIterator.hasNext(BufferedRowIterator.java:43)\n\tat org.apache.spark.sql.execution.WholeStageCodegenEvaluatorFactory$WholeStageCodegenPartitionEvaluator$$anon$1.hasNext(WholeStageCodegenEvaluatorFactory.scala:43)\n\tat scala.collection.Iterator$$anon$10.hasNext(Iterator.scala:460)\n\tat scala.collection.Iterator$$anon$10.hasNext(Iterator.scala:460)\n\tat scala.collection.Iterator$$anon$10.hasNext(Iterator.scala:460)\n\tat scala.collection.Iterator.foreach(Iterator.scala:943)\n\tat scala.collection.Iterator.foreach$(Iterator.scala:943)\n\tat scala.collection.AbstractIterator.foreach(Iterator.scala:1431)\n\tat scala.collection.TraversableOnce.foldLeft(TraversableOnce.scala:199)\n\tat scala.collection.TraversableOnce.foldLeft$(TraversableOnce.scala:192)\n\tat scala.collection.AbstractIterator.foldLeft(Iterator.scala:1431)\n\tat scala.collection.TraversableOnce.aggregate(TraversableOnce.scala:260)\n\tat scala.collection.TraversableOnce.aggregate$(TraversableOnce.scala:260)\n\tat scala.collection.AbstractIterator.aggregate(Iterator.scala:1431)\n\tat org.apache.spark.rdd.RDD.$anonfun$treeAggregate$4(RDD.scala:1264)\n\tat org.apache.spark.rdd.RDD.$anonfun$treeAggregate$6(RDD.scala:1265)\n\tat org.apache.spark.rdd.RDD.$anonfun$mapPartitions$2(RDD.scala:858)\n\tat org.apache.spark.rdd.RDD.$anonfun$mapPartitions$2$adapted(RDD.scala:858)\n\tat org.apache.spark.rdd.MapPartitionsRDD.compute(MapPartitionsRDD.scala:52)\n\tat org.apache.spark.rdd.RDD.computeOrReadCheckpoint(RDD.scala:367)\n\tat org.apache.spark.rdd.RDD.iterator(RDD.scala:331)\n\tat org.apache.spark.rdd.MapPartitionsRDD.compute(MapPartitionsRDD.scala:52)\n\tat org.apache.spark.rdd.RDD.computeOrReadCheckpoint(RDD.scala:367)\n\tat org.apache.spark.rdd.RDD.iterator(RDD.scala:331)\n\tat org.apache.spark.shuffle.ShuffleWriteProcessor.write(ShuffleWriteProcessor.scala:59)\n\tat org.apache.spark.scheduler.ShuffleMapTask.runTask(ShuffleMapTask.scala:104)\n\tat org.apache.spark.scheduler.ShuffleMapTask.runTask(ShuffleMapTask.scala:54)\n\tat org.apache.spark.TaskContext.runTaskWithListeners(TaskContext.scala:166)\n\tat org.apache.spark.scheduler.Task.run(Task.scala:141)\n\tat org.apache.spark.executor.Executor$TaskRunner.$anonfun$run$4(Executor.scala:620)\n\tat org.apache.spark.util.SparkErrorUtils.tryWithSafeFinally(SparkErrorUtils.scala:64)\n\tat org.apache.spark.util.SparkErrorUtils.tryWithSafeFinally$(SparkErrorUtils.scala:61)\n\tat org.apache.spark.util.Utils$.tryWithSafeFinally(Utils.scala:94)\n\tat org.apache.spark.executor.Executor$TaskRunner.run(Executor.scala:623)\n\tat java.util.concurrent.ThreadPoolExecutor.runWorker(ThreadPoolExecutor.java:1142)\n\tat java.util.concurrent.ThreadPoolExecutor$Worker.run(ThreadPoolExecutor.java:617)\n\tat java.lang.Thread.run(Thread.java:745)\nCaused by: org.apache.spark.SparkException: Encountered null while assembling a row with handleInvalid = \"error\". Consider\nremoving nulls from dataset or using handleInvalid = \"keep\" or \"skip\".\n\tat org.apache.spark.ml.feature.VectorAssembler$.$anonfun$assemble$1(VectorAssembler.scala:291)\n\tat org.apache.spark.ml.feature.VectorAssembler$.$anonfun$assemble$1$adapted(VectorAssembler.scala:260)\n\tat scala.collection.IndexedSeqOptimized.foreach(IndexedSeqOptimized.scala:36)\n\tat scala.collection.IndexedSeqOptimized.foreach$(IndexedSeqOptimized.scala:33)\n\tat scala.collection.mutable.WrappedArray.foreach(WrappedArray.scala:38)\n\tat org.apache.spark.ml.feature.VectorAssembler$.assemble(VectorAssembler.scala:260)\n\tat org.apache.spark.ml.feature.VectorAssembler.$anonfun$transform$6(VectorAssembler.scala:143)\n\t... 41 more\n\nDriver stacktrace:\n\tat org.apache.spark.scheduler.DAGScheduler.failJobAndIndependentStages(DAGScheduler.scala:2856)\n\tat org.apache.spark.scheduler.DAGScheduler.$anonfun$abortStage$2(DAGScheduler.scala:2792)\n\tat org.apache.spark.scheduler.DAGScheduler.$anonfun$abortStage$2$adapted(DAGScheduler.scala:2791)\n\tat scala.collection.mutable.ResizableArray.foreach(ResizableArray.scala:62)\n\tat scala.collection.mutable.ResizableArray.foreach$(ResizableArray.scala:55)\n\tat scala.collection.mutable.ArrayBuffer.foreach(ArrayBuffer.scala:49)\n\tat org.apache.spark.scheduler.DAGScheduler.abortStage(DAGScheduler.scala:2791)\n\tat org.apache.spark.scheduler.DAGScheduler.$anonfun$handleTaskSetFailed$1(DAGScheduler.scala:1247)\n\tat org.apache.spark.scheduler.DAGScheduler.$anonfun$handleTaskSetFailed$1$adapted(DAGScheduler.scala:1247)\n\tat scala.Option.foreach(Option.scala:407)\n\tat org.apache.spark.scheduler.DAGScheduler.handleTaskSetFailed(DAGScheduler.scala:1247)\n\tat org.apache.spark.scheduler.DAGSchedulerEventProcessLoop.doOnReceive(DAGScheduler.scala:3060)\n\tat org.apache.spark.scheduler.DAGSchedulerEventProcessLoop.onReceive(DAGScheduler.scala:2994)\n\tat org.apache.spark.scheduler.DAGSchedulerEventProcessLoop.onReceive(DAGScheduler.scala:2983)\n\tat org.apache.spark.util.EventLoop$$anon$1.run(EventLoop.scala:49)\n\tat org.apache.spark.scheduler.DAGScheduler.runJob(DAGScheduler.scala:989)\n\tat org.apache.spark.SparkContext.runJob(SparkContext.scala:2398)\n\tat org.apache.spark.SparkContext.runJob(SparkContext.scala:2493)\n\tat org.apache.spark.rdd.RDD.$anonfun$fold$1(RDD.scala:1202)\n\tat org.apache.spark.rdd.RDDOperationScope$.withScope(RDDOperationScope.scala:151)\n\tat org.apache.spark.rdd.RDDOperationScope$.withScope(RDDOperationScope.scala:112)\n\tat org.apache.spark.rdd.RDD.withScope(RDD.scala:410)\n\tat org.apache.spark.rdd.RDD.fold(RDD.scala:1196)\n\tat org.apache.spark.rdd.RDD.$anonfun$treeAggregate$2(RDD.scala:1289)\n\tat org.apache.spark.rdd.RDDOperationScope$.withScope(RDDOperationScope.scala:151)\n\tat org.apache.spark.rdd.RDDOperationScope$.withScope(RDDOperationScope.scala:112)\n\tat org.apache.spark.rdd.RDD.withScope(RDD.scala:410)\n\tat org.apache.spark.rdd.RDD.treeAggregate(RDD.scala:1256)\n\tat org.apache.spark.rdd.RDD.$anonfun$treeAggregate$1(RDD.scala:1242)\n\tat org.apache.spark.rdd.RDDOperationScope$.withScope(RDDOperationScope.scala:151)\n\tat org.apache.spark.rdd.RDDOperationScope$.withScope(RDDOperationScope.scala:112)\n\tat org.apache.spark.rdd.RDD.withScope(RDD.scala:410)\n\tat org.apache.spark.rdd.RDD.treeAggregate(RDD.scala:1242)\n\tat org.apache.spark.ml.stat.Summarizer$.getClassificationSummarizers(Summarizer.scala:233)\n\tat org.apache.spark.ml.classification.LogisticRegression.$anonfun$train$1(LogisticRegression.scala:517)\n\tat org.apache.spark.ml.util.Instrumentation$.$anonfun$instrumented$1(Instrumentation.scala:191)\n\tat scala.util.Try$.apply(Try.scala:213)\n\tat org.apache.spark.ml.util.Instrumentation$.instrumented(Instrumentation.scala:191)\n\tat org.apache.spark.ml.classification.LogisticRegression.train(LogisticRegression.scala:497)\n\tat org.apache.spark.ml.classification.LogisticRegression.train(LogisticRegression.scala:287)\n\tat org.apache.spark.ml.Predictor.fit(Predictor.scala:114)\n\tat sun.reflect.NativeMethodAccessorImpl.invoke0(Native Method)\n\tat sun.reflect.NativeMethodAccessorImpl.invoke(NativeMethodAccessorImpl.java:62)\n\tat sun.reflect.DelegatingMethodAccessorImpl.invoke(DelegatingMethodAccessorImpl.java:43)\n\tat java.lang.reflect.Method.invoke(Method.java:498)\n\tat py4j.reflection.MethodInvoker.invoke(MethodInvoker.java:244)\n\tat py4j.reflection.ReflectionEngine.invoke(ReflectionEngine.java:374)\n\tat py4j.Gateway.invoke(Gateway.java:282)\n\tat py4j.commands.AbstractCommand.invokeMethod(AbstractCommand.java:132)\n\tat py4j.commands.CallCommand.execute(CallCommand.java:79)\n\tat py4j.ClientServerConnection.waitForCommands(ClientServerConnection.java:182)\n\tat py4j.ClientServerConnection.run(ClientServerConnection.java:106)\n\tat java.lang.Thread.run(Thread.java:745)\nCaused by: org.apache.spark.SparkException: [FAILED_EXECUTE_UDF] Failed to execute user defined function (`VectorAssembler$$Lambda$4356/949631386`: (struct<AGE_double_VectorAssembler_8449788eef09:double,MARST_double_VectorAssembler_8449788eef09:double,RACE_double_VectorAssembler_8449788eef09:double,CITIZEN_double_VectorAssembler_8449788eef09:double,EDUC_double_VectorAssembler_8449788eef09:double,CLASSWKR_double_VectorAssembler_8449788eef09:double,AFTOTINC:double,NFAMS_double_VectorAssembler_8449788eef09:double,FAMSIZE_double_VectorAssembler_8449788eef09:double,GQ_double_VectorAssembler_8449788eef09:double,MET2023_double_VectorAssembler_8449788eef09:double,STATEICP_double_VectorAssembler_8449788eef09:double,CBPERNUM_double_VectorAssembler_8449788eef09:double,YEAR_double_VectorAssembler_8449788eef09:double,HHTYPE_double_VectorAssembler_8449788eef09:double>) => struct<type:tinyint,size:int,indices:array<int>,values:array<double>>).\n\tat org.apache.spark.sql.errors.QueryExecutionErrors$.failedExecuteUserDefinedFunctionError(QueryExecutionErrors.scala:198)\n\tat org.apache.spark.sql.errors.QueryExecutionErrors.failedExecuteUserDefinedFunctionError(QueryExecutionErrors.scala)\n\tat org.apache.spark.sql.catalyst.expressions.GeneratedClass$GeneratedIteratorForCodegenStage6.hashAgg_ScalaUDF_0$(Unknown Source)\n\tat org.apache.spark.sql.catalyst.expressions.GeneratedClass$GeneratedIteratorForCodegenStage6.hashAgg_doAggregateWithKeysOutput_1$(Unknown Source)\n\tat org.apache.spark.sql.catalyst.expressions.GeneratedClass$GeneratedIteratorForCodegenStage6.sort_addToSorter_0$(Unknown Source)\n\tat org.apache.spark.sql.catalyst.expressions.GeneratedClass$GeneratedIteratorForCodegenStage6.processNext(Unknown Source)\n\tat org.apache.spark.sql.execution.BufferedRowIterator.hasNext(BufferedRowIterator.java:43)\n\tat org.apache.spark.sql.execution.WholeStageCodegenEvaluatorFactory$WholeStageCodegenPartitionEvaluator$$anon$1.hasNext(WholeStageCodegenEvaluatorFactory.scala:43)\n\tat scala.collection.Iterator$$anon$10.hasNext(Iterator.scala:460)\n\tat scala.collection.Iterator$$anon$10.hasNext(Iterator.scala:460)\n\tat scala.collection.Iterator$$anon$10.hasNext(Iterator.scala:460)\n\tat scala.collection.Iterator.foreach(Iterator.scala:943)\n\tat scala.collection.Iterator.foreach$(Iterator.scala:943)\n\tat scala.collection.AbstractIterator.foreach(Iterator.scala:1431)\n\tat scala.collection.TraversableOnce.foldLeft(TraversableOnce.scala:199)\n\tat scala.collection.TraversableOnce.foldLeft$(TraversableOnce.scala:192)\n\tat scala.collection.AbstractIterator.foldLeft(Iterator.scala:1431)\n\tat scala.collection.TraversableOnce.aggregate(TraversableOnce.scala:260)\n\tat scala.collection.TraversableOnce.aggregate$(TraversableOnce.scala:260)\n\tat scala.collection.AbstractIterator.aggregate(Iterator.scala:1431)\n\tat org.apache.spark.rdd.RDD.$anonfun$treeAggregate$4(RDD.scala:1264)\n\tat org.apache.spark.rdd.RDD.$anonfun$treeAggregate$6(RDD.scala:1265)\n\tat org.apache.spark.rdd.RDD.$anonfun$mapPartitions$2(RDD.scala:858)\n\tat org.apache.spark.rdd.RDD.$anonfun$mapPartitions$2$adapted(RDD.scala:858)\n\tat org.apache.spark.rdd.MapPartitionsRDD.compute(MapPartitionsRDD.scala:52)\n\tat org.apache.spark.rdd.RDD.computeOrReadCheckpoint(RDD.scala:367)\n\tat org.apache.spark.rdd.RDD.iterator(RDD.scala:331)\n\tat org.apache.spark.rdd.MapPartitionsRDD.compute(MapPartitionsRDD.scala:52)\n\tat org.apache.spark.rdd.RDD.computeOrReadCheckpoint(RDD.scala:367)\n\tat org.apache.spark.rdd.RDD.iterator(RDD.scala:331)\n\tat org.apache.spark.shuffle.ShuffleWriteProcessor.write(ShuffleWriteProcessor.scala:59)\n\tat org.apache.spark.scheduler.ShuffleMapTask.runTask(ShuffleMapTask.scala:104)\n\tat org.apache.spark.scheduler.ShuffleMapTask.runTask(ShuffleMapTask.scala:54)\n\tat org.apache.spark.TaskContext.runTaskWithListeners(TaskContext.scala:166)\n\tat org.apache.spark.scheduler.Task.run(Task.scala:141)\n\tat org.apache.spark.executor.Executor$TaskRunner.$anonfun$run$4(Executor.scala:620)\n\tat org.apache.spark.util.SparkErrorUtils.tryWithSafeFinally(SparkErrorUtils.scala:64)\n\tat org.apache.spark.util.SparkErrorUtils.tryWithSafeFinally$(SparkErrorUtils.scala:61)\n\tat org.apache.spark.util.Utils$.tryWithSafeFinally(Utils.scala:94)\n\tat org.apache.spark.executor.Executor$TaskRunner.run(Executor.scala:623)\n\tat java.util.concurrent.ThreadPoolExecutor.runWorker(ThreadPoolExecutor.java:1142)\n\tat java.util.concurrent.ThreadPoolExecutor$Worker.run(ThreadPoolExecutor.java:617)\n\t... 1 more\nCaused by: org.apache.spark.SparkException: Encountered null while assembling a row with handleInvalid = \"error\". Consider\nremoving nulls from dataset or using handleInvalid = \"keep\" or \"skip\".\n\tat org.apache.spark.ml.feature.VectorAssembler$.$anonfun$assemble$1(VectorAssembler.scala:291)\n\tat org.apache.spark.ml.feature.VectorAssembler$.$anonfun$assemble$1$adapted(VectorAssembler.scala:260)\n\tat scala.collection.IndexedSeqOptimized.foreach(IndexedSeqOptimized.scala:36)\n\tat scala.collection.IndexedSeqOptimized.foreach$(IndexedSeqOptimized.scala:33)\n\tat scala.collection.mutable.WrappedArray.foreach(WrappedArray.scala:38)\n\tat org.apache.spark.ml.feature.VectorAssembler$.assemble(VectorAssembler.scala:260)\n\tat org.apache.spark.ml.feature.VectorAssembler.$anonfun$transform$6(VectorAssembler.scala:143)\n\t... 41 more\n"
     ]
    },
    {
     "name": "stderr",
     "output_type": "stream",
     "text": [
      "[Stage 68:>                                                        (0 + 5) / 14]\r"
     ]
    }
   ],
   "source": [
    "logistic_regression = LogisticRegression(featuresCol=\"features\", labelCol=\"OWNERSHP\")\n",
    "model = logistic_regression.fit(norm_train)\n",
    "\n",
    "predictions = model.transform(norm_test)\n",
    "\n",
    "# AUC-ROC\n",
    "##auc = evaluator.evaluate(predictions)\n",
    "\n",
    "# Accuracy, Precision, and Recall\n",
    "multi_evaluator = MulticlassClassificationEvaluator(labelCol=\"OWNERSHP\", predictionCol=\"prediction\")\n",
    "accuracy = multi_evaluator.evaluate(predictions, {multi_evaluator.metricName: \"accuracy\"})\n",
    "precision = multi_evaluator.evaluate(predictions, {multi_evaluator.metricName: \"weightedPrecision\"})\n",
    "recall = multi_evaluator.evaluate(predictions, {multi_evaluator.metricName: \"weightedRecall\"})\n",
    "\n",
    "#print(f\"AUC-ROC: {auc:.4f}\")\n",
    "print(f\"Accuracy: {accuracy:.4f}\")\n",
    "print(f\"Precision: {precision:.4f}\")\n",
    "print(f\"Recall: {recall:.4f}\")"
   ]
  }
 ],
 "metadata": {
  "kernelspec": {
   "display_name": "Python 3 (ipykernel)",
   "language": "python",
   "name": "python3"
  },
  "language_info": {
   "codemirror_mode": {
    "name": "ipython",
    "version": 3
   },
   "file_extension": ".py",
   "mimetype": "text/x-python",
   "name": "python",
   "nbconvert_exporter": "python",
   "pygments_lexer": "ipython3",
   "version": "3.10.11"
  }
 },
 "nbformat": 4,
 "nbformat_minor": 4
}
